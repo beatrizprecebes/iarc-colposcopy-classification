{
 "cells": [
  {
   "cell_type": "code",
   "execution_count": 1,
   "id": "31c39aea-171d-47be-8bc0-4bf6e769ed11",
   "metadata": {
    "tags": []
   },
   "outputs": [],
   "source": [
    "import os\n",
    "import math\n",
    "import random\n",
    "import functions\n",
    "import numpy as np\n",
    "import pandas as pd\n",
    "import matplotlib.pyplot as plt"
   ]
  },
  {
   "cell_type": "markdown",
   "id": "7a16ef07-d06f-4e27-b7e9-5ab31b6537ea",
   "metadata": {},
   "source": [
    "#### Read and prepare dataframe"
   ]
  },
  {
   "cell_type": "code",
   "execution_count": 2,
   "id": "7a146b10-5191-46b6-86ff-fbef2e491fa6",
   "metadata": {},
   "outputs": [],
   "source": [
    "iarc_colpo_datapath = '/workspace/experiments/vit/data/IARCImageBankColpo/'\n",
    "df = pd.read_excel(iarc_colpo_datapath+'cases_metadata.xlsx', header=1)"
   ]
  },
  {
   "cell_type": "code",
   "execution_count": 3,
   "id": "ee6b8986-5714-4ec4-bd17-bbea80af70d7",
   "metadata": {},
   "outputs": [
    {
     "data": {
      "text/html": [
       "<div>\n",
       "<style scoped>\n",
       "    .dataframe tbody tr th:only-of-type {\n",
       "        vertical-align: middle;\n",
       "    }\n",
       "\n",
       "    .dataframe tbody tr th {\n",
       "        vertical-align: top;\n",
       "    }\n",
       "\n",
       "    .dataframe thead th {\n",
       "        text-align: right;\n",
       "    }\n",
       "</style>\n",
       "<table border=\"1\" class=\"dataframe\">\n",
       "  <thead>\n",
       "    <tr style=\"text-align: right;\">\n",
       "      <th></th>\n",
       "      <th>Case Number</th>\n",
       "      <th>CaseID</th>\n",
       "      <th>HPV</th>\n",
       "      <th>Adequacy</th>\n",
       "      <th>Reason</th>\n",
       "      <th>Squamocolumnar junction visibility</th>\n",
       "      <th>Transformation zone</th>\n",
       "      <th>Original squamous epithelium</th>\n",
       "      <th>Columnar epithelium</th>\n",
       "      <th>Metaplastic squamous epithelium</th>\n",
       "      <th>...</th>\n",
       "      <th>Additional miscellaneous finding</th>\n",
       "      <th>Aceto uptake</th>\n",
       "      <th>Margins</th>\n",
       "      <th>Vessels</th>\n",
       "      <th>Lesion size</th>\n",
       "      <th>Iodine uptake</th>\n",
       "      <th>SwedeFinal</th>\n",
       "      <th>\\nProvisional diagnosis</th>\n",
       "      <th>Management</th>\n",
       "      <th>Histopathology</th>\n",
       "    </tr>\n",
       "  </thead>\n",
       "  <tbody>\n",
       "    <tr>\n",
       "      <th>0</th>\n",
       "      <td>1</td>\n",
       "      <td>AAAW</td>\n",
       "      <td>Positive</td>\n",
       "      <td>Adequate</td>\n",
       "      <td>NaN</td>\n",
       "      <td>Completely visible</td>\n",
       "      <td>Type 1</td>\n",
       "      <td>Mature</td>\n",
       "      <td>Ectopy absent</td>\n",
       "      <td>Nabothian cysts</td>\n",
       "      <td>...</td>\n",
       "      <td>NaN</td>\n",
       "      <td>Nil or transparent</td>\n",
       "      <td>Nil or diffuse</td>\n",
       "      <td>Fine, regular</td>\n",
       "      <td>&lt; 5 mm</td>\n",
       "      <td>Faintly or patchy yellow</td>\n",
       "      <td>1</td>\n",
       "      <td>Type 1 transformation zone; normal</td>\n",
       "      <td>Repeat HPV test/colposcopy after 1 year</td>\n",
       "      <td>Not done</td>\n",
       "    </tr>\n",
       "    <tr>\n",
       "      <th>1</th>\n",
       "      <td>2</td>\n",
       "      <td>AADE</td>\n",
       "      <td>Negative</td>\n",
       "      <td>Adequate</td>\n",
       "      <td>NaN</td>\n",
       "      <td>Completely visible</td>\n",
       "      <td>Type 1</td>\n",
       "      <td>Mature</td>\n",
       "      <td>Ectopy present</td>\n",
       "      <td>Crypt (gland) openings</td>\n",
       "      <td>...</td>\n",
       "      <td>NaN</td>\n",
       "      <td>Nil or transparent</td>\n",
       "      <td>Nil or diffuse</td>\n",
       "      <td>Fine, regular</td>\n",
       "      <td>&lt; 5 mm</td>\n",
       "      <td>Brown</td>\n",
       "      <td>0</td>\n",
       "      <td>Type 1 transformation zone; normal</td>\n",
       "      <td>Routine screening after 5 years</td>\n",
       "      <td>Not done</td>\n",
       "    </tr>\n",
       "    <tr>\n",
       "      <th>2</th>\n",
       "      <td>3</td>\n",
       "      <td>AADG</td>\n",
       "      <td>Negative</td>\n",
       "      <td>Adequate</td>\n",
       "      <td>NaN</td>\n",
       "      <td>Completely visible</td>\n",
       "      <td>Type 1</td>\n",
       "      <td>Mature</td>\n",
       "      <td>Ectopy absent</td>\n",
       "      <td>Crypt (gland) openings</td>\n",
       "      <td>...</td>\n",
       "      <td>NaN</td>\n",
       "      <td>Nil or transparent</td>\n",
       "      <td>Nil or diffuse</td>\n",
       "      <td>Absent</td>\n",
       "      <td>&lt; 5 mm</td>\n",
       "      <td>Brown</td>\n",
       "      <td>1</td>\n",
       "      <td>Type 1 transformation zone; normal</td>\n",
       "      <td>Routine screening after 5 years</td>\n",
       "      <td>Not done</td>\n",
       "    </tr>\n",
       "    <tr>\n",
       "      <th>3</th>\n",
       "      <td>4</td>\n",
       "      <td>AAEG</td>\n",
       "      <td>Negative</td>\n",
       "      <td>Adequate</td>\n",
       "      <td>NaN</td>\n",
       "      <td>Completely visible</td>\n",
       "      <td>Type 1</td>\n",
       "      <td>Mature</td>\n",
       "      <td>Ectopy absent</td>\n",
       "      <td>NaN</td>\n",
       "      <td>...</td>\n",
       "      <td>NaN</td>\n",
       "      <td>Nil or transparent</td>\n",
       "      <td>Nil or diffuse</td>\n",
       "      <td>Fine, regular</td>\n",
       "      <td>&lt; 5 mm</td>\n",
       "      <td>Brown</td>\n",
       "      <td>0</td>\n",
       "      <td>Type 1 transformation zone; normal</td>\n",
       "      <td>Routine screening after 5 years</td>\n",
       "      <td>Not done</td>\n",
       "    </tr>\n",
       "    <tr>\n",
       "      <th>4</th>\n",
       "      <td>5</td>\n",
       "      <td>AAER</td>\n",
       "      <td>Positive</td>\n",
       "      <td>Adequate</td>\n",
       "      <td>NaN</td>\n",
       "      <td>Completely visible</td>\n",
       "      <td>Type 2</td>\n",
       "      <td>Mature</td>\n",
       "      <td>NaN</td>\n",
       "      <td>NaN</td>\n",
       "      <td>...</td>\n",
       "      <td>NaN</td>\n",
       "      <td>Nil or transparent</td>\n",
       "      <td>Nil or diffuse</td>\n",
       "      <td>Absent</td>\n",
       "      <td>&gt;15 mm, 3-4 quadrants, or endocervically undef...</td>\n",
       "      <td>Faintly or patchy yellow</td>\n",
       "      <td>4</td>\n",
       "      <td>Type 2 transformation zone; normal</td>\n",
       "      <td>Repeat HPV test/colposcopy after 1 year</td>\n",
       "      <td>Not done</td>\n",
       "    </tr>\n",
       "  </tbody>\n",
       "</table>\n",
       "<p>5 rows × 43 columns</p>\n",
       "</div>"
      ],
      "text/plain": [
       "   Case Number CaseID       HPV  Adequacy Reason  \\\n",
       "0            1   AAAW  Positive  Adequate    NaN   \n",
       "1            2   AADE  Negative  Adequate    NaN   \n",
       "2            3   AADG  Negative  Adequate    NaN   \n",
       "3            4   AAEG  Negative  Adequate    NaN   \n",
       "4            5   AAER  Positive  Adequate    NaN   \n",
       "\n",
       "  Squamocolumnar junction visibility Transformation zone  \\\n",
       "0                 Completely visible              Type 1   \n",
       "1                 Completely visible              Type 1   \n",
       "2                 Completely visible              Type 1   \n",
       "3                 Completely visible              Type 1   \n",
       "4                 Completely visible              Type 2   \n",
       "\n",
       "  Original squamous epithelium Columnar epithelium  \\\n",
       "0                       Mature       Ectopy absent   \n",
       "1                       Mature      Ectopy present   \n",
       "2                       Mature       Ectopy absent   \n",
       "3                       Mature       Ectopy absent   \n",
       "4                       Mature                 NaN   \n",
       "\n",
       "  Metaplastic squamous epithelium  ... Additional miscellaneous finding  \\\n",
       "0                 Nabothian cysts  ...                              NaN   \n",
       "1          Crypt (gland) openings  ...                              NaN   \n",
       "2          Crypt (gland) openings  ...                              NaN   \n",
       "3                             NaN  ...                              NaN   \n",
       "4                             NaN  ...                              NaN   \n",
       "\n",
       "         Aceto uptake         Margins        Vessels  \\\n",
       "0  Nil or transparent  Nil or diffuse  Fine, regular   \n",
       "1  Nil or transparent  Nil or diffuse  Fine, regular   \n",
       "2  Nil or transparent  Nil or diffuse         Absent   \n",
       "3  Nil or transparent  Nil or diffuse  Fine, regular   \n",
       "4  Nil or transparent  Nil or diffuse         Absent   \n",
       "\n",
       "                                         Lesion size  \\\n",
       "0                                             < 5 mm   \n",
       "1                                             < 5 mm   \n",
       "2                                             < 5 mm   \n",
       "3                                             < 5 mm   \n",
       "4  >15 mm, 3-4 quadrants, or endocervically undef...   \n",
       "\n",
       "              Iodine uptake SwedeFinal             \\nProvisional diagnosis  \\\n",
       "0  Faintly or patchy yellow          1  Type 1 transformation zone; normal   \n",
       "1                     Brown          0  Type 1 transformation zone; normal   \n",
       "2                     Brown          1  Type 1 transformation zone; normal   \n",
       "3                     Brown          0  Type 1 transformation zone; normal   \n",
       "4  Faintly or patchy yellow          4  Type 2 transformation zone; normal   \n",
       "\n",
       "                                Management Histopathology  \n",
       "0  Repeat HPV test/colposcopy after 1 year       Not done  \n",
       "1          Routine screening after 5 years       Not done  \n",
       "2          Routine screening after 5 years       Not done  \n",
       "3          Routine screening after 5 years       Not done  \n",
       "4  Repeat HPV test/colposcopy after 1 year       Not done  \n",
       "\n",
       "[5 rows x 43 columns]"
      ]
     },
     "execution_count": 3,
     "metadata": {},
     "output_type": "execute_result"
    }
   ],
   "source": [
    "df.head(5)"
   ]
  },
  {
   "cell_type": "code",
   "execution_count": 4,
   "id": "e2c0a57b-d88d-439d-b975-7b4031ec6ca5",
   "metadata": {
    "tags": []
   },
   "outputs": [
    {
     "data": {
      "text/plain": [
       "Index(['Case Number', 'CaseID', 'HPV', 'Adequacy', 'Reason',\n",
       "       'Squamocolumnar junction visibility', 'Transformation zone',\n",
       "       'Original squamous epithelium', 'Columnar epithelium',\n",
       "       'Metaplastic squamous epithelium', 'Deciduosis in pregnancy',\n",
       "       'Location of the lesion', 'Location of the lesion by clock position',\n",
       "       'additional position 1', 'additional position 2',\n",
       "       'additional position 3', 'No of quadrants', '% of cervix', 'Grade 1',\n",
       "       'additional Grade 1', 'additional Grade 1.1', 'additional Grade 1.2',\n",
       "       'Grade 2', 'additional Grade 2', 'additional Grade 2.1',\n",
       "       'additional Grade 2.2', 'additional Grade 2.3', 'Non-specific',\n",
       "       'additional Non-specific', 'Suspicious for invasion',\n",
       "       'additional Suspicious for invasion',\n",
       "       'additional Suspicious for invasion.1', 'Miscellaneous finding',\n",
       "       'Additional miscellaneous finding', 'Aceto uptake', 'Margins',\n",
       "       'Vessels', 'Lesion size', 'Iodine uptake', 'SwedeFinal',\n",
       "       '\\nProvisional diagnosis', 'Management', 'Histopathology'],\n",
       "      dtype='object')"
      ]
     },
     "execution_count": 4,
     "metadata": {},
     "output_type": "execute_result"
    }
   ],
   "source": [
    "df.columns"
   ]
  },
  {
   "cell_type": "code",
   "execution_count": 5,
   "id": "c99e4a7c-0a95-49eb-8cf0-5fbd1d9b4ed3",
   "metadata": {
    "tags": []
   },
   "outputs": [
    {
     "name": "stdout",
     "output_type": "stream",
     "text": [
      "<class 'pandas.core.frame.DataFrame'>\n",
      "RangeIndex: 200 entries, 0 to 199\n",
      "Data columns (total 43 columns):\n",
      " #   Column                                    Non-Null Count  Dtype \n",
      "---  ------                                    --------------  ----- \n",
      " 0   Case Number                               200 non-null    int64 \n",
      " 1   CaseID                                    200 non-null    object\n",
      " 2   HPV                                       200 non-null    object\n",
      " 3   Adequacy                                  200 non-null    object\n",
      " 4   Reason                                    2 non-null      object\n",
      " 5   Squamocolumnar junction visibility        199 non-null    object\n",
      " 6   Transformation zone                       198 non-null    object\n",
      " 7   Original squamous epithelium              163 non-null    object\n",
      " 8   Columnar epithelium                       106 non-null    object\n",
      " 9   Metaplastic squamous epithelium           58 non-null     object\n",
      " 10  Deciduosis in pregnancy                   199 non-null    object\n",
      " 11  Location of the lesion                    148 non-null    object\n",
      " 12  Location of the lesion by clock position  144 non-null    object\n",
      " 13  additional position 1                     35 non-null     object\n",
      " 14  additional position 2                     12 non-null     object\n",
      " 15  additional position 3                     7 non-null      object\n",
      " 16  No of quadrants                           140 non-null    object\n",
      " 17  % of cervix                               138 non-null    object\n",
      " 18  Grade 1                                   68 non-null     object\n",
      " 19  additional Grade 1                        55 non-null     object\n",
      " 20  additional Grade 1.1                      15 non-null     object\n",
      " 21  additional Grade 1.2                      2 non-null      object\n",
      " 22  Grade 2                                   81 non-null     object\n",
      " 23  additional Grade 2                        77 non-null     object\n",
      " 24  additional Grade 2.1                      37 non-null     object\n",
      " 25  additional Grade 2.2                      13 non-null     object\n",
      " 26  additional Grade 2.3                      2 non-null      object\n",
      " 27  Non-specific                              112 non-null    object\n",
      " 28  additional Non-specific                   21 non-null     object\n",
      " 29  Suspicious for invasion                   25 non-null     object\n",
      " 30  additional Suspicious for invasion        12 non-null     object\n",
      " 31  additional Suspicious for invasion.1      6 non-null      object\n",
      " 32  Miscellaneous finding                     36 non-null     object\n",
      " 33  Additional miscellaneous finding          2 non-null      object\n",
      " 34  Aceto uptake                              198 non-null    object\n",
      " 35  Margins                                   198 non-null    object\n",
      " 36  Vessels                                   198 non-null    object\n",
      " 37  Lesion size                               198 non-null    object\n",
      " 38  Iodine uptake                             194 non-null    object\n",
      " 39  SwedeFinal                                200 non-null    int64 \n",
      " 40  \n",
      "Provisional diagnosis                    200 non-null    object\n",
      " 41  Management                                200 non-null    object\n",
      " 42  Histopathology                            200 non-null    object\n",
      "dtypes: int64(2), object(41)\n",
      "memory usage: 67.3+ KB\n"
     ]
    }
   ],
   "source": [
    "df.info()"
   ]
  },
  {
   "cell_type": "code",
   "execution_count": 6,
   "id": "b7dc4659-524c-4184-ab73-5fce85179c9a",
   "metadata": {
    "tags": []
   },
   "outputs": [
    {
     "data": {
      "text/html": [
       "<div>\n",
       "<style scoped>\n",
       "    .dataframe tbody tr th:only-of-type {\n",
       "        vertical-align: middle;\n",
       "    }\n",
       "\n",
       "    .dataframe tbody tr th {\n",
       "        vertical-align: top;\n",
       "    }\n",
       "\n",
       "    .dataframe thead th {\n",
       "        text-align: right;\n",
       "    }\n",
       "</style>\n",
       "<table border=\"1\" class=\"dataframe\">\n",
       "  <thead>\n",
       "    <tr style=\"text-align: right;\">\n",
       "      <th></th>\n",
       "      <th>Case Number</th>\n",
       "      <th>SwedeFinal</th>\n",
       "    </tr>\n",
       "  </thead>\n",
       "  <tbody>\n",
       "    <tr>\n",
       "      <th>count</th>\n",
       "      <td>200.000000</td>\n",
       "      <td>200.000000</td>\n",
       "    </tr>\n",
       "    <tr>\n",
       "      <th>mean</th>\n",
       "      <td>100.500000</td>\n",
       "      <td>28.150000</td>\n",
       "    </tr>\n",
       "    <tr>\n",
       "      <th>std</th>\n",
       "      <td>57.879185</td>\n",
       "      <td>41.122901</td>\n",
       "    </tr>\n",
       "    <tr>\n",
       "      <th>min</th>\n",
       "      <td>1.000000</td>\n",
       "      <td>0.000000</td>\n",
       "    </tr>\n",
       "    <tr>\n",
       "      <th>25%</th>\n",
       "      <td>50.750000</td>\n",
       "      <td>2.000000</td>\n",
       "    </tr>\n",
       "    <tr>\n",
       "      <th>50%</th>\n",
       "      <td>100.500000</td>\n",
       "      <td>6.500000</td>\n",
       "    </tr>\n",
       "    <tr>\n",
       "      <th>75%</th>\n",
       "      <td>150.250000</td>\n",
       "      <td>32.250000</td>\n",
       "    </tr>\n",
       "    <tr>\n",
       "      <th>max</th>\n",
       "      <td>200.000000</td>\n",
       "      <td>99.000000</td>\n",
       "    </tr>\n",
       "  </tbody>\n",
       "</table>\n",
       "</div>"
      ],
      "text/plain": [
       "       Case Number  SwedeFinal\n",
       "count   200.000000  200.000000\n",
       "mean    100.500000   28.150000\n",
       "std      57.879185   41.122901\n",
       "min       1.000000    0.000000\n",
       "25%      50.750000    2.000000\n",
       "50%     100.500000    6.500000\n",
       "75%     150.250000   32.250000\n",
       "max     200.000000   99.000000"
      ]
     },
     "execution_count": 6,
     "metadata": {},
     "output_type": "execute_result"
    }
   ],
   "source": [
    "df.describe()"
   ]
  },
  {
   "cell_type": "code",
   "execution_count": 7,
   "id": "75d28be9-dc0e-43ad-959b-23211a93bfa4",
   "metadata": {
    "tags": []
   },
   "outputs": [
    {
     "data": {
      "text/html": [
       "<div>\n",
       "<style scoped>\n",
       "    .dataframe tbody tr th:only-of-type {\n",
       "        vertical-align: middle;\n",
       "    }\n",
       "\n",
       "    .dataframe tbody tr th {\n",
       "        vertical-align: top;\n",
       "    }\n",
       "\n",
       "    .dataframe thead th {\n",
       "        text-align: right;\n",
       "    }\n",
       "</style>\n",
       "<table border=\"1\" class=\"dataframe\">\n",
       "  <thead>\n",
       "    <tr style=\"text-align: right;\">\n",
       "      <th></th>\n",
       "      <th>Case Number</th>\n",
       "      <th>Histopathology</th>\n",
       "    </tr>\n",
       "  </thead>\n",
       "  <tbody>\n",
       "    <tr>\n",
       "      <th>0</th>\n",
       "      <td>1</td>\n",
       "      <td>Not done</td>\n",
       "    </tr>\n",
       "    <tr>\n",
       "      <th>1</th>\n",
       "      <td>2</td>\n",
       "      <td>Not done</td>\n",
       "    </tr>\n",
       "    <tr>\n",
       "      <th>2</th>\n",
       "      <td>3</td>\n",
       "      <td>Not done</td>\n",
       "    </tr>\n",
       "    <tr>\n",
       "      <th>3</th>\n",
       "      <td>4</td>\n",
       "      <td>Not done</td>\n",
       "    </tr>\n",
       "    <tr>\n",
       "      <th>4</th>\n",
       "      <td>5</td>\n",
       "      <td>Not done</td>\n",
       "    </tr>\n",
       "    <tr>\n",
       "      <th>...</th>\n",
       "      <td>...</td>\n",
       "      <td>...</td>\n",
       "    </tr>\n",
       "    <tr>\n",
       "      <th>195</th>\n",
       "      <td>196</td>\n",
       "      <td>HSIL-CIN3</td>\n",
       "    </tr>\n",
       "    <tr>\n",
       "      <th>196</th>\n",
       "      <td>197</td>\n",
       "      <td>HSIL-CIN3</td>\n",
       "    </tr>\n",
       "    <tr>\n",
       "      <th>197</th>\n",
       "      <td>198</td>\n",
       "      <td>Not done</td>\n",
       "    </tr>\n",
       "    <tr>\n",
       "      <th>198</th>\n",
       "      <td>199</td>\n",
       "      <td>Not done</td>\n",
       "    </tr>\n",
       "    <tr>\n",
       "      <th>199</th>\n",
       "      <td>200</td>\n",
       "      <td>Not done</td>\n",
       "    </tr>\n",
       "  </tbody>\n",
       "</table>\n",
       "<p>200 rows × 2 columns</p>\n",
       "</div>"
      ],
      "text/plain": [
       "     Case Number Histopathology\n",
       "0              1       Not done\n",
       "1              2       Not done\n",
       "2              3       Not done\n",
       "3              4       Not done\n",
       "4              5       Not done\n",
       "..           ...            ...\n",
       "195          196      HSIL-CIN3\n",
       "196          197      HSIL-CIN3\n",
       "197          198       Not done\n",
       "198          199       Not done\n",
       "199          200       Not done\n",
       "\n",
       "[200 rows x 2 columns]"
      ]
     },
     "execution_count": 7,
     "metadata": {},
     "output_type": "execute_result"
    }
   ],
   "source": [
    "df = df.loc[:, ['Case Number', 'Histopathology']]\n",
    "df"
   ]
  },
  {
   "cell_type": "code",
   "execution_count": 8,
   "id": "73bb920f-f880-4d69-8098-e5829dce1bab",
   "metadata": {},
   "outputs": [
    {
     "name": "stdout",
     "output_type": "stream",
     "text": [
      "<class 'pandas.core.frame.DataFrame'>\n",
      "RangeIndex: 200 entries, 0 to 199\n",
      "Data columns (total 2 columns):\n",
      " #   Column          Non-Null Count  Dtype \n",
      "---  ------          --------------  ----- \n",
      " 0   Case Number     200 non-null    int64 \n",
      " 1   Histopathology  200 non-null    object\n",
      "dtypes: int64(1), object(1)\n",
      "memory usage: 3.2+ KB\n"
     ]
    }
   ],
   "source": [
    "df.info()"
   ]
  },
  {
   "cell_type": "code",
   "execution_count": 9,
   "id": "6e32e943-167e-4140-90bd-013078138098",
   "metadata": {
    "tags": []
   },
   "outputs": [
    {
     "data": {
      "text/plain": [
       "array(['Not done', 'Normal',\n",
       "       'Tuberculosis of cervix with giant cells and granulation tissue',\n",
       "       'LSIL-CIN1', 'HSIL-CIN2', 'HSIL-CIN3',\n",
       "       'HSIL-CIN3; LSIL-CIN1 in the anterior lip',\n",
       "       'Cervical histopathology was invasive squamous cell cancer, vaginal histopathology was HSIL-VAIN 3, and vulvar histopathology was HSIL-VIN 3',\n",
       "       'Microinvasive squamous cell cancer',\n",
       "       'Invasive squamous cell carcinoma',\n",
       "       'Microinvasive squamous cell carcinoma', 'Squamous cell carcinoma',\n",
       "       'Adenocarcinoma in situ', 'Adenocarcinoma', 'Mucous polyp',\n",
       "       'LSIL-HPV changes'], dtype=object)"
      ]
     },
     "execution_count": 9,
     "metadata": {},
     "output_type": "execute_result"
    }
   ],
   "source": [
    "df['Histopathology'].unique()"
   ]
  },
  {
   "cell_type": "code",
   "execution_count": 10,
   "id": "c83f7476-10a0-4aa0-91da-8dd421530289",
   "metadata": {},
   "outputs": [],
   "source": [
    "investigated_labels = ['Not done', 'Normal', 'CIN1', 'CIN2', 'CIN3']"
   ]
  },
  {
   "cell_type": "code",
   "execution_count": 11,
   "id": "6f127b40-0017-4f66-9013-b76f1d09fa1f",
   "metadata": {},
   "outputs": [],
   "source": [
    "df = df[df.Histopathology.apply(lambda d: any(l in d for l in investigated_labels))]"
   ]
  },
  {
   "cell_type": "code",
   "execution_count": 12,
   "id": "43291a7d-fce7-456f-a4a8-9fa9437ad0c9",
   "metadata": {},
   "outputs": [
    {
     "data": {
      "text/html": [
       "<div>\n",
       "<style scoped>\n",
       "    .dataframe tbody tr th:only-of-type {\n",
       "        vertical-align: middle;\n",
       "    }\n",
       "\n",
       "    .dataframe tbody tr th {\n",
       "        vertical-align: top;\n",
       "    }\n",
       "\n",
       "    .dataframe thead th {\n",
       "        text-align: right;\n",
       "    }\n",
       "</style>\n",
       "<table border=\"1\" class=\"dataframe\">\n",
       "  <thead>\n",
       "    <tr style=\"text-align: right;\">\n",
       "      <th></th>\n",
       "      <th>Case Number</th>\n",
       "      <th>Histopathology</th>\n",
       "    </tr>\n",
       "  </thead>\n",
       "  <tbody>\n",
       "    <tr>\n",
       "      <th>0</th>\n",
       "      <td>1</td>\n",
       "      <td>Not done</td>\n",
       "    </tr>\n",
       "    <tr>\n",
       "      <th>1</th>\n",
       "      <td>2</td>\n",
       "      <td>Not done</td>\n",
       "    </tr>\n",
       "    <tr>\n",
       "      <th>2</th>\n",
       "      <td>3</td>\n",
       "      <td>Not done</td>\n",
       "    </tr>\n",
       "    <tr>\n",
       "      <th>3</th>\n",
       "      <td>4</td>\n",
       "      <td>Not done</td>\n",
       "    </tr>\n",
       "    <tr>\n",
       "      <th>4</th>\n",
       "      <td>5</td>\n",
       "      <td>Not done</td>\n",
       "    </tr>\n",
       "    <tr>\n",
       "      <th>...</th>\n",
       "      <td>...</td>\n",
       "      <td>...</td>\n",
       "    </tr>\n",
       "    <tr>\n",
       "      <th>195</th>\n",
       "      <td>196</td>\n",
       "      <td>HSIL-CIN3</td>\n",
       "    </tr>\n",
       "    <tr>\n",
       "      <th>196</th>\n",
       "      <td>197</td>\n",
       "      <td>HSIL-CIN3</td>\n",
       "    </tr>\n",
       "    <tr>\n",
       "      <th>197</th>\n",
       "      <td>198</td>\n",
       "      <td>Not done</td>\n",
       "    </tr>\n",
       "    <tr>\n",
       "      <th>198</th>\n",
       "      <td>199</td>\n",
       "      <td>Not done</td>\n",
       "    </tr>\n",
       "    <tr>\n",
       "      <th>199</th>\n",
       "      <td>200</td>\n",
       "      <td>Not done</td>\n",
       "    </tr>\n",
       "  </tbody>\n",
       "</table>\n",
       "<p>166 rows × 2 columns</p>\n",
       "</div>"
      ],
      "text/plain": [
       "     Case Number Histopathology\n",
       "0              1       Not done\n",
       "1              2       Not done\n",
       "2              3       Not done\n",
       "3              4       Not done\n",
       "4              5       Not done\n",
       "..           ...            ...\n",
       "195          196      HSIL-CIN3\n",
       "196          197      HSIL-CIN3\n",
       "197          198       Not done\n",
       "198          199       Not done\n",
       "199          200       Not done\n",
       "\n",
       "[166 rows x 2 columns]"
      ]
     },
     "execution_count": 12,
     "metadata": {},
     "output_type": "execute_result"
    }
   ],
   "source": [
    "df"
   ]
  },
  {
   "cell_type": "code",
   "execution_count": 13,
   "id": "cd60f30a-33e6-4af1-af50-c78c57786d97",
   "metadata": {
    "tags": []
   },
   "outputs": [],
   "source": [
    "df_normal = df.query(\"Histopathology == 'Normal' or Histopathology == 'Not done'\")\n",
    "df_abnormal = df.query(\"Histopathology != 'Normal' and Histopathology != 'Not done'\")\n",
    "\n",
    "normal_cases_numbers = df_normal['Case Number'].unique()\n",
    "abnormal_cases_numbers = df_abnormal['Case Number'].unique()\n",
    "\n",
    "# print('Números dos casos normais:\\n', normal_cases_numbers,\n",
    "#       '\\nNúmeros dos casos não normais:\\n', abnormal_cases_numbers)"
   ]
  },
  {
   "cell_type": "code",
   "execution_count": 14,
   "id": "274b908b-fc4a-4a14-8beb-456b9d5079aa",
   "metadata": {
    "tags": []
   },
   "outputs": [
    {
     "data": {
      "text/html": [
       "<div>\n",
       "<style scoped>\n",
       "    .dataframe tbody tr th:only-of-type {\n",
       "        vertical-align: middle;\n",
       "    }\n",
       "\n",
       "    .dataframe tbody tr th {\n",
       "        vertical-align: top;\n",
       "    }\n",
       "\n",
       "    .dataframe thead th {\n",
       "        text-align: right;\n",
       "    }\n",
       "</style>\n",
       "<table border=\"1\" class=\"dataframe\">\n",
       "  <thead>\n",
       "    <tr style=\"text-align: right;\">\n",
       "      <th></th>\n",
       "      <th>Case Number</th>\n",
       "      <th>File</th>\n",
       "      <th>Sort</th>\n",
       "      <th>Type</th>\n",
       "    </tr>\n",
       "  </thead>\n",
       "  <tbody>\n",
       "    <tr>\n",
       "      <th>0</th>\n",
       "      <td>1</td>\n",
       "      <td>AAAW1.jpg</td>\n",
       "      <td>1</td>\n",
       "      <td>After normal saline</td>\n",
       "    </tr>\n",
       "    <tr>\n",
       "      <th>1</th>\n",
       "      <td>1</td>\n",
       "      <td>AAAW3.jpg</td>\n",
       "      <td>2</td>\n",
       "      <td>After acetic acid</td>\n",
       "    </tr>\n",
       "    <tr>\n",
       "      <th>2</th>\n",
       "      <td>1</td>\n",
       "      <td>AAAW2.jpg</td>\n",
       "      <td>3</td>\n",
       "      <td>After acetic acid with green filter</td>\n",
       "    </tr>\n",
       "    <tr>\n",
       "      <th>3</th>\n",
       "      <td>1</td>\n",
       "      <td>AAAW4.jpg</td>\n",
       "      <td>4</td>\n",
       "      <td>After Lugol’s iodine</td>\n",
       "    </tr>\n",
       "    <tr>\n",
       "      <th>4</th>\n",
       "      <td>2</td>\n",
       "      <td>AADE0.jpg</td>\n",
       "      <td>1</td>\n",
       "      <td>After acetic acid</td>\n",
       "    </tr>\n",
       "  </tbody>\n",
       "</table>\n",
       "</div>"
      ],
      "text/plain": [
       "   Case Number       File  Sort                                 Type\n",
       "0            1  AAAW1.jpg     1                  After normal saline\n",
       "1            1  AAAW3.jpg     2                    After acetic acid\n",
       "2            1  AAAW2.jpg     3  After acetic acid with green filter\n",
       "3            1  AAAW4.jpg     4                 After Lugol’s iodine\n",
       "4            2  AADE0.jpg     1                    After acetic acid"
      ]
     },
     "execution_count": 14,
     "metadata": {},
     "output_type": "execute_result"
    }
   ],
   "source": [
    "df_images = pd.read_excel(iarc_colpo_datapath+'cases_images.xlsx')\n",
    "df_images.head()"
   ]
  },
  {
   "cell_type": "code",
   "execution_count": 15,
   "id": "54a8f411-8084-4086-8b5d-016611e52a3d",
   "metadata": {
    "tags": []
   },
   "outputs": [
    {
     "data": {
      "text/html": [
       "<div>\n",
       "<style scoped>\n",
       "    .dataframe tbody tr th:only-of-type {\n",
       "        vertical-align: middle;\n",
       "    }\n",
       "\n",
       "    .dataframe tbody tr th {\n",
       "        vertical-align: top;\n",
       "    }\n",
       "\n",
       "    .dataframe thead th {\n",
       "        text-align: right;\n",
       "    }\n",
       "</style>\n",
       "<table border=\"1\" class=\"dataframe\">\n",
       "  <thead>\n",
       "    <tr style=\"text-align: right;\">\n",
       "      <th></th>\n",
       "      <th>Case Number</th>\n",
       "      <th>File</th>\n",
       "      <th>Sort</th>\n",
       "      <th>Type</th>\n",
       "    </tr>\n",
       "  </thead>\n",
       "  <tbody>\n",
       "    <tr>\n",
       "      <th>180</th>\n",
       "      <td>42</td>\n",
       "      <td>AADF0.jpg</td>\n",
       "      <td>1</td>\n",
       "      <td>Speculum examination</td>\n",
       "    </tr>\n",
       "    <tr>\n",
       "      <th>181</th>\n",
       "      <td>42</td>\n",
       "      <td>AADF1.jpg</td>\n",
       "      <td>2</td>\n",
       "      <td>After normal saline with green filter</td>\n",
       "    </tr>\n",
       "    <tr>\n",
       "      <th>182</th>\n",
       "      <td>42</td>\n",
       "      <td>AADF5.jpg</td>\n",
       "      <td>3</td>\n",
       "      <td>After acetic acid</td>\n",
       "    </tr>\n",
       "    <tr>\n",
       "      <th>183</th>\n",
       "      <td>42</td>\n",
       "      <td>AADF4.jpg</td>\n",
       "      <td>4</td>\n",
       "      <td>After acetic acid with higher magnification</td>\n",
       "    </tr>\n",
       "    <tr>\n",
       "      <th>184</th>\n",
       "      <td>42</td>\n",
       "      <td>AAFN5.jpg</td>\n",
       "      <td>5</td>\n",
       "      <td>After Lugol’s iodine</td>\n",
       "    </tr>\n",
       "  </tbody>\n",
       "</table>\n",
       "</div>"
      ],
      "text/plain": [
       "     Case Number       File  Sort                                         Type\n",
       "180           42  AADF0.jpg     1                         Speculum examination\n",
       "181           42  AADF1.jpg     2        After normal saline with green filter\n",
       "182           42  AADF5.jpg     3                            After acetic acid\n",
       "183           42  AADF4.jpg     4  After acetic acid with higher magnification\n",
       "184           42  AAFN5.jpg     5                         After Lugol’s iodine"
      ]
     },
     "execution_count": 15,
     "metadata": {},
     "output_type": "execute_result"
    }
   ],
   "source": [
    "df_images[df_images['Case Number'] == 42]"
   ]
  },
  {
   "cell_type": "code",
   "execution_count": 16,
   "id": "c3b53124-8d15-4f05-bfb7-5ef0f5150394",
   "metadata": {
    "tags": []
   },
   "outputs": [],
   "source": [
    "#excluding image it's not present in the \n",
    "df_images = df_images[df_images['File'] != 'AAFN5.jpg']"
   ]
  },
  {
   "cell_type": "code",
   "execution_count": 17,
   "id": "b25ec3fb-ea9d-4489-b8b6-2f54df9588f8",
   "metadata": {
    "tags": []
   },
   "outputs": [
    {
     "data": {
      "text/html": [
       "<div>\n",
       "<style scoped>\n",
       "    .dataframe tbody tr th:only-of-type {\n",
       "        vertical-align: middle;\n",
       "    }\n",
       "\n",
       "    .dataframe tbody tr th {\n",
       "        vertical-align: top;\n",
       "    }\n",
       "\n",
       "    .dataframe thead th {\n",
       "        text-align: right;\n",
       "    }\n",
       "</style>\n",
       "<table border=\"1\" class=\"dataframe\">\n",
       "  <thead>\n",
       "    <tr style=\"text-align: right;\">\n",
       "      <th></th>\n",
       "      <th>Case Number</th>\n",
       "      <th>File</th>\n",
       "      <th>Sort</th>\n",
       "      <th>Type</th>\n",
       "    </tr>\n",
       "  </thead>\n",
       "  <tbody>\n",
       "    <tr>\n",
       "      <th>180</th>\n",
       "      <td>42</td>\n",
       "      <td>AADF0.jpg</td>\n",
       "      <td>1</td>\n",
       "      <td>Speculum examination</td>\n",
       "    </tr>\n",
       "    <tr>\n",
       "      <th>181</th>\n",
       "      <td>42</td>\n",
       "      <td>AADF1.jpg</td>\n",
       "      <td>2</td>\n",
       "      <td>After normal saline with green filter</td>\n",
       "    </tr>\n",
       "    <tr>\n",
       "      <th>182</th>\n",
       "      <td>42</td>\n",
       "      <td>AADF5.jpg</td>\n",
       "      <td>3</td>\n",
       "      <td>After acetic acid</td>\n",
       "    </tr>\n",
       "    <tr>\n",
       "      <th>183</th>\n",
       "      <td>42</td>\n",
       "      <td>AADF4.jpg</td>\n",
       "      <td>4</td>\n",
       "      <td>After acetic acid with higher magnification</td>\n",
       "    </tr>\n",
       "  </tbody>\n",
       "</table>\n",
       "</div>"
      ],
      "text/plain": [
       "     Case Number       File  Sort                                         Type\n",
       "180           42  AADF0.jpg     1                         Speculum examination\n",
       "181           42  AADF1.jpg     2        After normal saline with green filter\n",
       "182           42  AADF5.jpg     3                            After acetic acid\n",
       "183           42  AADF4.jpg     4  After acetic acid with higher magnification"
      ]
     },
     "execution_count": 17,
     "metadata": {},
     "output_type": "execute_result"
    }
   ],
   "source": [
    "df_images[df_images['Case Number'] == 42]"
   ]
  },
  {
   "cell_type": "code",
   "execution_count": 18,
   "id": "bc92f726-ee63-4ff2-b922-aa7d06db3a0f",
   "metadata": {
    "tags": []
   },
   "outputs": [],
   "source": [
    "df_colpo = df_images.loc[:, ['Case Number', 'File']]"
   ]
  },
  {
   "cell_type": "code",
   "execution_count": 19,
   "id": "c3373672-c614-4ed4-b12f-fd49ffe7b52c",
   "metadata": {
    "tags": []
   },
   "outputs": [],
   "source": [
    "directory_cases_names = functions.rename_directories_dataframe(df_colpo)"
   ]
  },
  {
   "cell_type": "code",
   "execution_count": 20,
   "id": "aa972e0a-a9ca-46a1-af01-427827e087ae",
   "metadata": {
    "tags": []
   },
   "outputs": [
    {
     "data": {
      "text/html": [
       "<div>\n",
       "<style scoped>\n",
       "    .dataframe tbody tr th:only-of-type {\n",
       "        vertical-align: middle;\n",
       "    }\n",
       "\n",
       "    .dataframe tbody tr th {\n",
       "        vertical-align: top;\n",
       "    }\n",
       "\n",
       "    .dataframe thead th {\n",
       "        text-align: right;\n",
       "    }\n",
       "</style>\n",
       "<table border=\"1\" class=\"dataframe\">\n",
       "  <thead>\n",
       "    <tr style=\"text-align: right;\">\n",
       "      <th></th>\n",
       "      <th>Case Number</th>\n",
       "      <th>File</th>\n",
       "      <th>Case directory</th>\n",
       "    </tr>\n",
       "  </thead>\n",
       "  <tbody>\n",
       "    <tr>\n",
       "      <th>0</th>\n",
       "      <td>1</td>\n",
       "      <td>AAAW1.jpg</td>\n",
       "      <td>Case_001</td>\n",
       "    </tr>\n",
       "    <tr>\n",
       "      <th>1</th>\n",
       "      <td>1</td>\n",
       "      <td>AAAW3.jpg</td>\n",
       "      <td>Case_001</td>\n",
       "    </tr>\n",
       "    <tr>\n",
       "      <th>2</th>\n",
       "      <td>1</td>\n",
       "      <td>AAAW2.jpg</td>\n",
       "      <td>Case_001</td>\n",
       "    </tr>\n",
       "    <tr>\n",
       "      <th>3</th>\n",
       "      <td>1</td>\n",
       "      <td>AAAW4.jpg</td>\n",
       "      <td>Case_001</td>\n",
       "    </tr>\n",
       "    <tr>\n",
       "      <th>4</th>\n",
       "      <td>2</td>\n",
       "      <td>AADE0.jpg</td>\n",
       "      <td>Case_002</td>\n",
       "    </tr>\n",
       "  </tbody>\n",
       "</table>\n",
       "</div>"
      ],
      "text/plain": [
       "   Case Number       File Case directory\n",
       "0            1  AAAW1.jpg       Case_001\n",
       "1            1  AAAW3.jpg       Case_001\n",
       "2            1  AAAW2.jpg       Case_001\n",
       "3            1  AAAW4.jpg       Case_001\n",
       "4            2  AADE0.jpg       Case_002"
      ]
     },
     "execution_count": 20,
     "metadata": {},
     "output_type": "execute_result"
    }
   ],
   "source": [
    "df_colpo['Case directory'] = directory_cases_names\n",
    "df_colpo.head()"
   ]
  },
  {
   "cell_type": "code",
   "execution_count": 21,
   "id": "39b3ca83-571e-4195-9f52-009bae7aaaa0",
   "metadata": {
    "tags": []
   },
   "outputs": [],
   "source": [
    "diagnosis_colpo = np.zeros(len(df_colpo))\n",
    "df_colpo['Diagnosis'] = diagnosis_colpo"
   ]
  },
  {
   "cell_type": "code",
   "execution_count": 22,
   "id": "89273b30-e291-4640-bf09-32b503700034",
   "metadata": {
    "tags": []
   },
   "outputs": [],
   "source": [
    "df_colpo['Diagnosis'] = np.where(df_images['Case Number'].isin(abnormal_cases_numbers), 'Abnormal', 'Normal')"
   ]
  },
  {
   "cell_type": "code",
   "execution_count": 23,
   "id": "00920e24-d422-4b3e-88cd-6d392e50245d",
   "metadata": {
    "tags": []
   },
   "outputs": [],
   "source": [
    "df_colpo['File'] = iarc_colpo_datapath+df_colpo['Case directory']+'/'+df_colpo['File']\n",
    "df_colpo = df_colpo.drop('Case directory', axis=1)"
   ]
  },
  {
   "cell_type": "code",
   "execution_count": 24,
   "id": "94d5f0b2-5dee-4db7-8688-fc7a4febe1ea",
   "metadata": {
    "tags": []
   },
   "outputs": [
    {
     "data": {
      "text/plain": [
       "array([[1,\n",
       "        '/workspace/experiments/vit/data/IARCImageBankColpo/Case_001/AAAW1.jpg',\n",
       "        'Normal'],\n",
       "       [1,\n",
       "        '/workspace/experiments/vit/data/IARCImageBankColpo/Case_001/AAAW3.jpg',\n",
       "        'Normal'],\n",
       "       [1,\n",
       "        '/workspace/experiments/vit/data/IARCImageBankColpo/Case_001/AAAW2.jpg',\n",
       "        'Normal'],\n",
       "       ...,\n",
       "       [200,\n",
       "        '/workspace/experiments/vit/data/IARCImageBankColpo/Case_200/AAGT2.jpg',\n",
       "        'Normal'],\n",
       "       [200,\n",
       "        '/workspace/experiments/vit/data/IARCImageBankColpo/Case_200/AAGT4.jpg',\n",
       "        'Normal'],\n",
       "       [200,\n",
       "        '/workspace/experiments/vit/data/IARCImageBankColpo/Case_200/AAGT5.jpg',\n",
       "        'Normal']], dtype=object)"
      ]
     },
     "execution_count": 24,
     "metadata": {},
     "output_type": "execute_result"
    }
   ],
   "source": [
    "df_colpo.values"
   ]
  },
  {
   "cell_type": "markdown",
   "id": "04a89349-1e38-4642-8561-9e134f820447",
   "metadata": {},
   "source": [
    "#### Analysis"
   ]
  },
  {
   "cell_type": "code",
   "execution_count": 25,
   "id": "a02466c8-5183-4db6-a515-9305ce8b1711",
   "metadata": {
    "tags": []
   },
   "outputs": [
    {
     "data": {
      "text/html": [
       "<div>\n",
       "<style scoped>\n",
       "    .dataframe tbody tr th:only-of-type {\n",
       "        vertical-align: middle;\n",
       "    }\n",
       "\n",
       "    .dataframe tbody tr th {\n",
       "        vertical-align: top;\n",
       "    }\n",
       "\n",
       "    .dataframe thead th {\n",
       "        text-align: right;\n",
       "    }\n",
       "</style>\n",
       "<table border=\"1\" class=\"dataframe\">\n",
       "  <thead>\n",
       "    <tr style=\"text-align: right;\">\n",
       "      <th></th>\n",
       "      <th>File</th>\n",
       "      <th>Diagnosis</th>\n",
       "    </tr>\n",
       "  </thead>\n",
       "  <tbody>\n",
       "    <tr>\n",
       "      <th>count</th>\n",
       "      <td>904</td>\n",
       "      <td>904</td>\n",
       "    </tr>\n",
       "    <tr>\n",
       "      <th>unique</th>\n",
       "      <td>904</td>\n",
       "      <td>2</td>\n",
       "    </tr>\n",
       "    <tr>\n",
       "      <th>top</th>\n",
       "      <td>/workspace/experiments/vit/data/IARCImageBankC...</td>\n",
       "      <td>Normal</td>\n",
       "    </tr>\n",
       "    <tr>\n",
       "      <th>freq</th>\n",
       "      <td>1</td>\n",
       "      <td>574</td>\n",
       "    </tr>\n",
       "  </tbody>\n",
       "</table>\n",
       "</div>"
      ],
      "text/plain": [
       "                                                     File Diagnosis\n",
       "count                                                 904       904\n",
       "unique                                                904         2\n",
       "top     /workspace/experiments/vit/data/IARCImageBankC...    Normal\n",
       "freq                                                    1       574"
      ]
     },
     "execution_count": 25,
     "metadata": {},
     "output_type": "execute_result"
    }
   ],
   "source": [
    "df_colpo.describe(include=object)"
   ]
  },
  {
   "cell_type": "code",
   "execution_count": 26,
   "id": "d83c19ac-92e4-43b2-81a8-f66bad5ee00a",
   "metadata": {
    "tags": []
   },
   "outputs": [
    {
     "data": {
      "text/plain": [
       "138    9\n",
       "137    8\n",
       "184    8\n",
       "111    8\n",
       "120    8\n",
       "      ..\n",
       "170    3\n",
       "83     3\n",
       "39     3\n",
       "151    3\n",
       "114    3\n",
       "Name: Case Number, Length: 200, dtype: int64"
      ]
     },
     "execution_count": 26,
     "metadata": {},
     "output_type": "execute_result"
    }
   ],
   "source": [
    "df_colpo['Case Number'].value_counts()"
   ]
  },
  {
   "cell_type": "code",
   "execution_count": 27,
   "id": "561989ef-f603-4863-b75b-794b69403d43",
   "metadata": {
    "tags": []
   },
   "outputs": [
    {
     "name": "stdout",
     "output_type": "stream",
     "text": [
      "Quantidade máxima de images em um caso:  9\n",
      "Quantidade mínima de images em um caso:  3\n"
     ]
    }
   ],
   "source": [
    "print('Quantidade máxima de images em um caso: ', df_colpo['Case Number'].value_counts().max())\n",
    "print('Quantidade mínima de images em um caso: ', df_colpo['Case Number'].value_counts().min())"
   ]
  },
  {
   "cell_type": "code",
   "execution_count": 28,
   "id": "bbfe7313-7f6e-4b8e-be9a-13edc887bc19",
   "metadata": {
    "tags": []
   },
   "outputs": [
    {
     "data": {
      "text/plain": [
       "<AxesSubplot:>"
      ]
     },
     "execution_count": 28,
     "metadata": {},
     "output_type": "execute_result"
    },
    {
     "data": {
      "image/png": "[encoded data removed]",
      "text/plain": [
       "<Figure size 432x288 with 1 Axes>"
      ]
     },
     "metadata": {
      "needs_background": "light"
     },
     "output_type": "display_data"
    }
   ],
   "source": [
    "df_colpo['Case Number'].value_counts().hist(bins=15)"
   ]
  },
  {
   "cell_type": "code",
   "execution_count": 29,
   "id": "f9fcc88f-1219-4010-bded-7dfffca5b6be",
   "metadata": {
    "tags": []
   },
   "outputs": [
    {
     "data": {
      "text/plain": [
       "<AxesSubplot:>"
      ]
     },
     "execution_count": 29,
     "metadata": {},
     "output_type": "execute_result"
    },
    {
     "data": {
      "image/png": "[encoded data removed]",
      "text/plain": [
       "<Figure size 432x288 with 1 Axes>"
      ]
     },
     "metadata": {
      "needs_background": "light"
     },
     "output_type": "display_data"
    }
   ],
   "source": [
    "df_colpo['Case Number'].head(25).value_counts().plot(kind=\"bar\")"
   ]
  },
  {
   "cell_type": "code",
   "execution_count": 30,
   "id": "2fdaadcc-56b1-4ae3-bf36-a3e56250ccff",
   "metadata": {
    "tags": []
   },
   "outputs": [
    {
     "data": {
      "text/plain": [
       "[<matplotlib.lines.Line2D at 0x7f4342a90430>]"
      ]
     },
     "execution_count": 30,
     "metadata": {},
     "output_type": "execute_result"
    },
    {
     "data": {
      "image/png": "[encoded data removed]",
      "text/plain": [
       "<Figure size 432x288 with 1 Axes>"
      ]
     },
     "metadata": {
      "needs_background": "light"
     },
     "output_type": "display_data"
    }
   ],
   "source": [
    "plt.plot(df_colpo['Case Number'].values, df_colpo['Diagnosis'].values)"
   ]
  },
  {
   "cell_type": "code",
   "execution_count": 31,
   "id": "4dae014c-5400-4e0d-9ae6-e22fecaee5a9",
   "metadata": {
    "tags": []
   },
   "outputs": [
    {
     "data": {
      "text/plain": [
       "<AxesSubplot:>"
      ]
     },
     "execution_count": 31,
     "metadata": {},
     "output_type": "execute_result"
    },
    {
     "data": {
      "image/png": "[encoded data removed]",
      "text/plain": [
       "<Figure size 432x288 with 1 Axes>"
      ]
     },
     "metadata": {
      "needs_background": "light"
     },
     "output_type": "display_data"
    }
   ],
   "source": [
    "df_colpo['Diagnosis'].hist(bins=5)"
   ]
  },
  {
   "cell_type": "markdown",
   "id": "16f17fe7-6bda-41c7-b063-fed5426bfba3",
   "metadata": {},
   "source": [
    "#### Split dataframe"
   ]
  },
  {
   "cell_type": "code",
   "execution_count": 37,
   "id": "16d85048-1465-4246-9126-b6d97e7b52c8",
   "metadata": {
    "tags": []
   },
   "outputs": [],
   "source": [
    "total_cases = df_colpo['Case Number'].unique()\n",
    "\n",
    "train_cases, val_cases = functions.split_two(total_cases, train_ratio=0.7, val_ratio=0.3, seed=6821)\n",
    "\n",
    "df_colpo_train = df_colpo[df_colpo['Case Number'].isin(train_cases)]\n",
    "df_colpo_val = df_colpo[df_colpo['Case Number'].isin(val_cases)]"
   ]
  },
  {
   "cell_type": "code",
   "execution_count": 38,
   "id": "f6d45795-360b-449f-a270-1e2c9de3ad49",
   "metadata": {
    "tags": []
   },
   "outputs": [
    {
     "data": {
      "text/plain": [
       "array([], dtype=int64)"
      ]
     },
     "execution_count": 38,
     "metadata": {},
     "output_type": "execute_result"
    }
   ],
   "source": [
    "#checking if the set split is correct\n",
    "cases_inter = np.intersect1d(df_colpo_train['Case Number'].unique(), df_colpo_val['Case Number'].unique())\n",
    "cases_inter"
   ]
  },
  {
   "cell_type": "code",
   "execution_count": 39,
   "id": "3002e36a-b8bc-4240-a83c-a5a78bc4adbf",
   "metadata": {
    "tags": []
   },
   "outputs": [],
   "source": [
    "df_colpo_train.to_csv(iarc_colpo_datapath+'iarc_colpo_train.csv', index=False)\n",
    "df_colpo_val.to_csv(iarc_colpo_datapath+'iarc_colpo_val.csv', index=False)"
   ]
  },
  {
   "cell_type": "code",
   "execution_count": 40,
   "id": "632cc6d4-c773-438f-97b5-66fd4ce71e42",
   "metadata": {},
   "outputs": [
    {
     "data": {
      "text/html": [
       "<div>\n",
       "<style scoped>\n",
       "    .dataframe tbody tr th:only-of-type {\n",
       "        vertical-align: middle;\n",
       "    }\n",
       "\n",
       "    .dataframe tbody tr th {\n",
       "        vertical-align: top;\n",
       "    }\n",
       "\n",
       "    .dataframe thead tr th {\n",
       "        text-align: left;\n",
       "    }\n",
       "\n",
       "    .dataframe thead tr:last-of-type th {\n",
       "        text-align: right;\n",
       "    }\n",
       "</style>\n",
       "<table border=\"1\" class=\"dataframe\">\n",
       "  <thead>\n",
       "    <tr>\n",
       "      <th></th>\n",
       "      <th colspan=\"8\" halign=\"left\">Case Number</th>\n",
       "    </tr>\n",
       "    <tr>\n",
       "      <th></th>\n",
       "      <th>count</th>\n",
       "      <th>mean</th>\n",
       "      <th>std</th>\n",
       "      <th>min</th>\n",
       "      <th>25%</th>\n",
       "      <th>50%</th>\n",
       "      <th>75%</th>\n",
       "      <th>max</th>\n",
       "    </tr>\n",
       "    <tr>\n",
       "      <th>Diagnosis</th>\n",
       "      <th></th>\n",
       "      <th></th>\n",
       "      <th></th>\n",
       "      <th></th>\n",
       "      <th></th>\n",
       "      <th></th>\n",
       "      <th></th>\n",
       "      <th></th>\n",
       "    </tr>\n",
       "  </thead>\n",
       "  <tbody>\n",
       "    <tr>\n",
       "      <th>Abnormal</th>\n",
       "      <td>330.0</td>\n",
       "      <td>121.421212</td>\n",
       "      <td>29.516594</td>\n",
       "      <td>81.0</td>\n",
       "      <td>99.25</td>\n",
       "      <td>117.0</td>\n",
       "      <td>134.75</td>\n",
       "      <td>197.0</td>\n",
       "    </tr>\n",
       "    <tr>\n",
       "      <th>Normal</th>\n",
       "      <td>574.0</td>\n",
       "      <td>92.285714</td>\n",
       "      <td>66.437982</td>\n",
       "      <td>1.0</td>\n",
       "      <td>33.00</td>\n",
       "      <td>67.5</td>\n",
       "      <td>162.00</td>\n",
       "      <td>200.0</td>\n",
       "    </tr>\n",
       "  </tbody>\n",
       "</table>\n",
       "</div>"
      ],
      "text/plain": [
       "          Case Number                                                     \\\n",
       "                count        mean        std   min    25%    50%     75%   \n",
       "Diagnosis                                                                  \n",
       "Abnormal        330.0  121.421212  29.516594  81.0  99.25  117.0  134.75   \n",
       "Normal          574.0   92.285714  66.437982   1.0  33.00   67.5  162.00   \n",
       "\n",
       "                  \n",
       "             max  \n",
       "Diagnosis         \n",
       "Abnormal   197.0  \n",
       "Normal     200.0  "
      ]
     },
     "execution_count": 40,
     "metadata": {},
     "output_type": "execute_result"
    }
   ],
   "source": [
    "df_colpo.groupby('Diagnosis').describe()"
   ]
  },
  {
   "cell_type": "code",
   "execution_count": 41,
   "id": "2eab9d7f-76c0-4157-a8cc-f88507f49b31",
   "metadata": {},
   "outputs": [
    {
     "data": {
      "text/html": [
       "<div>\n",
       "<style scoped>\n",
       "    .dataframe tbody tr th:only-of-type {\n",
       "        vertical-align: middle;\n",
       "    }\n",
       "\n",
       "    .dataframe tbody tr th {\n",
       "        vertical-align: top;\n",
       "    }\n",
       "\n",
       "    .dataframe thead tr th {\n",
       "        text-align: left;\n",
       "    }\n",
       "\n",
       "    .dataframe thead tr:last-of-type th {\n",
       "        text-align: right;\n",
       "    }\n",
       "</style>\n",
       "<table border=\"1\" class=\"dataframe\">\n",
       "  <thead>\n",
       "    <tr>\n",
       "      <th></th>\n",
       "      <th colspan=\"8\" halign=\"left\">Case Number</th>\n",
       "    </tr>\n",
       "    <tr>\n",
       "      <th></th>\n",
       "      <th>count</th>\n",
       "      <th>mean</th>\n",
       "      <th>std</th>\n",
       "      <th>min</th>\n",
       "      <th>25%</th>\n",
       "      <th>50%</th>\n",
       "      <th>75%</th>\n",
       "      <th>max</th>\n",
       "    </tr>\n",
       "    <tr>\n",
       "      <th>Diagnosis</th>\n",
       "      <th></th>\n",
       "      <th></th>\n",
       "      <th></th>\n",
       "      <th></th>\n",
       "      <th></th>\n",
       "      <th></th>\n",
       "      <th></th>\n",
       "      <th></th>\n",
       "    </tr>\n",
       "  </thead>\n",
       "  <tbody>\n",
       "    <tr>\n",
       "      <th>Abnormal</th>\n",
       "      <td>87.0</td>\n",
       "      <td>121.195402</td>\n",
       "      <td>25.827171</td>\n",
       "      <td>85.0</td>\n",
       "      <td>101.5</td>\n",
       "      <td>117.0</td>\n",
       "      <td>138.0</td>\n",
       "      <td>196.0</td>\n",
       "    </tr>\n",
       "    <tr>\n",
       "      <th>Normal</th>\n",
       "      <td>187.0</td>\n",
       "      <td>95.689840</td>\n",
       "      <td>66.056591</td>\n",
       "      <td>6.0</td>\n",
       "      <td>36.0</td>\n",
       "      <td>67.0</td>\n",
       "      <td>160.0</td>\n",
       "      <td>200.0</td>\n",
       "    </tr>\n",
       "  </tbody>\n",
       "</table>\n",
       "</div>"
      ],
      "text/plain": [
       "          Case Number                                                         \n",
       "                count        mean        std   min    25%    50%    75%    max\n",
       "Diagnosis                                                                     \n",
       "Abnormal         87.0  121.195402  25.827171  85.0  101.5  117.0  138.0  196.0\n",
       "Normal          187.0   95.689840  66.056591   6.0   36.0   67.0  160.0  200.0"
      ]
     },
     "execution_count": 41,
     "metadata": {},
     "output_type": "execute_result"
    }
   ],
   "source": [
    "df_colpo_val.groupby('Diagnosis').describe()"
   ]
  }
 ],
 "metadata": {
  "kernelspec": {
   "display_name": "Python 3 (ipykernel)",
   "language": "python",
   "name": "python3"
  },
  "language_info": {
   "codemirror_mode": {
    "name": "ipython",
    "version": 3
   },
   "file_extension": ".py",
   "mimetype": "text/x-python",
   "name": "python",
   "nbconvert_exporter": "python",
   "pygments_lexer": "ipython3",
   "version": "3.9.13"
  }
 },
 "nbformat": 4,
 "nbformat_minor": 5
}
