{
 "cells": [
  {
   "cell_type": "code",
   "execution_count": 71,
   "id": "c3e6315c-0d57-4269-ac54-adf8bd01dc14",
   "metadata": {},
   "outputs": [],
   "source": [
    "import os\n",
    "import math\n",
    "import random\n",
    "import functions\n",
    "import numpy as np\n",
    "import pandas as pd\n",
    "import matplotlib.pyplot as plt"
   ]
  },
  {
   "cell_type": "markdown",
   "id": "1ebd8a72-722f-405d-9e8a-768bd20c3f0f",
   "metadata": {},
   "source": [
    "### IARC Image Bank Colpo"
   ]
  },
  {
   "cell_type": "code",
   "execution_count": 72,
   "id": "8c42435d-3198-48f7-9e17-88630c61b8ed",
   "metadata": {},
   "outputs": [],
   "source": [
    "iarc_colpo_datapath = '/workspace/experiments/vit/datasets/IARCImageBankColpo/'\n",
    "df_c = pd.read_excel(iarc_colpo_datapath+'cases_metadata.xlsx', header=1)"
   ]
  },
  {
   "cell_type": "code",
   "execution_count": 73,
   "id": "f0f3a81b-4373-4757-b926-29ff2e638dac",
   "metadata": {},
   "outputs": [
    {
     "data": {
      "text/html": [
       "<div>\n",
       "<style scoped>\n",
       "    .dataframe tbody tr th:only-of-type {\n",
       "        vertical-align: middle;\n",
       "    }\n",
       "\n",
       "    .dataframe tbody tr th {\n",
       "        vertical-align: top;\n",
       "    }\n",
       "\n",
       "    .dataframe thead th {\n",
       "        text-align: right;\n",
       "    }\n",
       "</style>\n",
       "<table border=\"1\" class=\"dataframe\">\n",
       "  <thead>\n",
       "    <tr style=\"text-align: right;\">\n",
       "      <th></th>\n",
       "      <th>Case Number</th>\n",
       "      <th>Histopathology</th>\n",
       "    </tr>\n",
       "  </thead>\n",
       "  <tbody>\n",
       "    <tr>\n",
       "      <th>0</th>\n",
       "      <td>1</td>\n",
       "      <td>Not done</td>\n",
       "    </tr>\n",
       "    <tr>\n",
       "      <th>1</th>\n",
       "      <td>2</td>\n",
       "      <td>Not done</td>\n",
       "    </tr>\n",
       "    <tr>\n",
       "      <th>2</th>\n",
       "      <td>3</td>\n",
       "      <td>Not done</td>\n",
       "    </tr>\n",
       "    <tr>\n",
       "      <th>3</th>\n",
       "      <td>4</td>\n",
       "      <td>Not done</td>\n",
       "    </tr>\n",
       "    <tr>\n",
       "      <th>4</th>\n",
       "      <td>5</td>\n",
       "      <td>Not done</td>\n",
       "    </tr>\n",
       "    <tr>\n",
       "      <th>...</th>\n",
       "      <td>...</td>\n",
       "      <td>...</td>\n",
       "    </tr>\n",
       "    <tr>\n",
       "      <th>195</th>\n",
       "      <td>196</td>\n",
       "      <td>HSIL-CIN3</td>\n",
       "    </tr>\n",
       "    <tr>\n",
       "      <th>196</th>\n",
       "      <td>197</td>\n",
       "      <td>HSIL-CIN3</td>\n",
       "    </tr>\n",
       "    <tr>\n",
       "      <th>197</th>\n",
       "      <td>198</td>\n",
       "      <td>Not done</td>\n",
       "    </tr>\n",
       "    <tr>\n",
       "      <th>198</th>\n",
       "      <td>199</td>\n",
       "      <td>Not done</td>\n",
       "    </tr>\n",
       "    <tr>\n",
       "      <th>199</th>\n",
       "      <td>200</td>\n",
       "      <td>Not done</td>\n",
       "    </tr>\n",
       "  </tbody>\n",
       "</table>\n",
       "<p>200 rows × 2 columns</p>\n",
       "</div>"
      ],
      "text/plain": [
       "     Case Number Histopathology\n",
       "0              1       Not done\n",
       "1              2       Not done\n",
       "2              3       Not done\n",
       "3              4       Not done\n",
       "4              5       Not done\n",
       "..           ...            ...\n",
       "195          196      HSIL-CIN3\n",
       "196          197      HSIL-CIN3\n",
       "197          198       Not done\n",
       "198          199       Not done\n",
       "199          200       Not done\n",
       "\n",
       "[200 rows x 2 columns]"
      ]
     },
     "execution_count": 73,
     "metadata": {},
     "output_type": "execute_result"
    }
   ],
   "source": [
    "df_c = df_c.loc[:, ['Case Number', 'Histopathology']]\n",
    "df_c"
   ]
  },
  {
   "cell_type": "code",
   "execution_count": 74,
   "id": "687d568d-94ae-4fdc-8b7d-100e41412fbb",
   "metadata": {},
   "outputs": [
    {
     "name": "stdout",
     "output_type": "stream",
     "text": [
      "<class 'pandas.core.frame.DataFrame'>\n",
      "RangeIndex: 200 entries, 0 to 199\n",
      "Data columns (total 2 columns):\n",
      " #   Column          Non-Null Count  Dtype \n",
      "---  ------          --------------  ----- \n",
      " 0   Case Number     200 non-null    int64 \n",
      " 1   Histopathology  200 non-null    object\n",
      "dtypes: int64(1), object(1)\n",
      "memory usage: 3.2+ KB\n"
     ]
    }
   ],
   "source": [
    "df_c.info()"
   ]
  },
  {
   "cell_type": "code",
   "execution_count": 75,
   "id": "001f8227-b454-42a8-b0be-4fca902e7719",
   "metadata": {
    "tags": []
   },
   "outputs": [
    {
     "data": {
      "text/plain": [
       "array(['Not done', 'Normal',\n",
       "       'Tuberculosis of cervix with giant cells and granulation tissue',\n",
       "       'LSIL-CIN1', 'HSIL-CIN2', 'HSIL-CIN3',\n",
       "       'HSIL-CIN3; LSIL-CIN1 in the anterior lip',\n",
       "       'Cervical histopathology was invasive squamous cell cancer, vaginal histopathology was HSIL-VAIN 3, and vulvar histopathology was HSIL-VIN 3',\n",
       "       'Microinvasive squamous cell cancer',\n",
       "       'Invasive squamous cell carcinoma',\n",
       "       'Microinvasive squamous cell carcinoma', 'Squamous cell carcinoma',\n",
       "       'Adenocarcinoma in situ', 'Adenocarcinoma', 'Mucous polyp',\n",
       "       'LSIL-HPV changes'], dtype=object)"
      ]
     },
     "execution_count": 75,
     "metadata": {},
     "output_type": "execute_result"
    }
   ],
   "source": [
    "df_c['Histopathology'].unique()"
   ]
  },
  {
   "cell_type": "code",
   "execution_count": 76,
   "id": "0fa12a56-a2ed-489e-9c73-3b2e842d79e2",
   "metadata": {},
   "outputs": [],
   "source": [
    "investigated_labels = ['Not done', 'Normal', 'CIN1', 'CIN2', 'CIN3']"
   ]
  },
  {
   "cell_type": "code",
   "execution_count": 77,
   "id": "0937e109-18d0-436e-9911-c8b703366c9f",
   "metadata": {
    "scrolled": true
   },
   "outputs": [
    {
     "data": {
      "text/plain": [
       "array(['Not done', 'Normal', 'LSIL-CIN1', 'HSIL-CIN2', 'HSIL-CIN3',\n",
       "       'HSIL-CIN3; LSIL-CIN1 in the anterior lip'], dtype=object)"
      ]
     },
     "execution_count": 77,
     "metadata": {},
     "output_type": "execute_result"
    }
   ],
   "source": [
    "df_c = df_c[df_c.Histopathology.apply(lambda d: any(l in d for l in investigated_labels))]\n",
    "df_c['Histopathology'].unique()"
   ]
  },
  {
   "cell_type": "code",
   "execution_count": 78,
   "id": "892d89a5-4848-4ca2-84ce-62743ca70731",
   "metadata": {},
   "outputs": [],
   "source": [
    "df_c = df_c.loc[df_c['Histopathology'] != 'HSIL-CIN3; LSIL-CIN1 in the anterior lip']"
   ]
  },
  {
   "cell_type": "code",
   "execution_count": 79,
   "id": "1a1b7d49-4416-4071-a56a-a34c43564691",
   "metadata": {},
   "outputs": [
    {
     "data": {
      "text/plain": [
       "array(['Not done', 'Normal', 'LSIL-CIN1', 'HSIL-CIN2', 'HSIL-CIN3'],\n",
       "      dtype=object)"
      ]
     },
     "execution_count": 79,
     "metadata": {},
     "output_type": "execute_result"
    }
   ],
   "source": [
    "df_c['Histopathology'].unique()"
   ]
  },
  {
   "cell_type": "code",
   "execution_count": 80,
   "id": "0a9a248f-4558-4116-ab4d-4a0a08d3c4ec",
   "metadata": {},
   "outputs": [],
   "source": [
    "# normal cases\n",
    "df_normal = df_c.query(\"Histopathology == 'Normal' or Histopathology == 'Not done'\")\n",
    "normal_cases_ids = df_normal['Case Number'].unique()\n",
    "\n",
    "# abnormal cases\n",
    "df_cin1 = df_c[df_c.Histopathology.apply(lambda d: any(l in d for l in ['CIN1']))]\n",
    "cin1_cases_ids = df_cin1['Case Number'].unique()\n",
    "\n",
    "df_cin2 = df_c[df_c.Histopathology.apply(lambda d: any(l in d for l in ['CIN2']))]\n",
    "cin2_cases_ids = df_cin2['Case Number'].unique()\n",
    "\n",
    "df_cin3 = df_c[df_c.Histopathology.apply(lambda d: any(l in d for l in ['CIN3']))]\n",
    "cin3_cases_ids = df_cin3['Case Number'].unique()"
   ]
  },
  {
   "cell_type": "code",
   "execution_count": 81,
   "id": "1a7d4fdf-9b03-4a2e-8322-d55c6972569f",
   "metadata": {
    "scrolled": true,
    "tags": []
   },
   "outputs": [
    {
     "data": {
      "text/html": [
       "<div>\n",
       "<style scoped>\n",
       "    .dataframe tbody tr th:only-of-type {\n",
       "        vertical-align: middle;\n",
       "    }\n",
       "\n",
       "    .dataframe tbody tr th {\n",
       "        vertical-align: top;\n",
       "    }\n",
       "\n",
       "    .dataframe thead th {\n",
       "        text-align: right;\n",
       "    }\n",
       "</style>\n",
       "<table border=\"1\" class=\"dataframe\">\n",
       "  <thead>\n",
       "    <tr style=\"text-align: right;\">\n",
       "      <th></th>\n",
       "      <th>Case Number</th>\n",
       "      <th>File</th>\n",
       "      <th>Sort</th>\n",
       "      <th>Type</th>\n",
       "    </tr>\n",
       "  </thead>\n",
       "  <tbody>\n",
       "    <tr>\n",
       "      <th>0</th>\n",
       "      <td>1</td>\n",
       "      <td>AAAW1.jpg</td>\n",
       "      <td>1</td>\n",
       "      <td>After normal saline</td>\n",
       "    </tr>\n",
       "    <tr>\n",
       "      <th>1</th>\n",
       "      <td>1</td>\n",
       "      <td>AAAW3.jpg</td>\n",
       "      <td>2</td>\n",
       "      <td>After acetic acid</td>\n",
       "    </tr>\n",
       "    <tr>\n",
       "      <th>2</th>\n",
       "      <td>1</td>\n",
       "      <td>AAAW2.jpg</td>\n",
       "      <td>3</td>\n",
       "      <td>After acetic acid with green filter</td>\n",
       "    </tr>\n",
       "    <tr>\n",
       "      <th>3</th>\n",
       "      <td>1</td>\n",
       "      <td>AAAW4.jpg</td>\n",
       "      <td>4</td>\n",
       "      <td>After Lugol’s iodine</td>\n",
       "    </tr>\n",
       "    <tr>\n",
       "      <th>4</th>\n",
       "      <td>2</td>\n",
       "      <td>AADE0.jpg</td>\n",
       "      <td>1</td>\n",
       "      <td>After acetic acid</td>\n",
       "    </tr>\n",
       "  </tbody>\n",
       "</table>\n",
       "</div>"
      ],
      "text/plain": [
       "   Case Number       File  Sort                                 Type\n",
       "0            1  AAAW1.jpg     1                  After normal saline\n",
       "1            1  AAAW3.jpg     2                    After acetic acid\n",
       "2            1  AAAW2.jpg     3  After acetic acid with green filter\n",
       "3            1  AAAW4.jpg     4                 After Lugol’s iodine\n",
       "4            2  AADE0.jpg     1                    After acetic acid"
      ]
     },
     "execution_count": 81,
     "metadata": {},
     "output_type": "execute_result"
    }
   ],
   "source": [
    "df_c_images = pd.read_excel(iarc_colpo_datapath+'cases_images.xlsx')\n",
    "df_c_images.head()"
   ]
  },
  {
   "cell_type": "code",
   "execution_count": 82,
   "id": "55374955-f56e-45d4-ac86-a6315734556b",
   "metadata": {
    "scrolled": true,
    "tags": []
   },
   "outputs": [
    {
     "data": {
      "text/html": [
       "<div>\n",
       "<style scoped>\n",
       "    .dataframe tbody tr th:only-of-type {\n",
       "        vertical-align: middle;\n",
       "    }\n",
       "\n",
       "    .dataframe tbody tr th {\n",
       "        vertical-align: top;\n",
       "    }\n",
       "\n",
       "    .dataframe thead th {\n",
       "        text-align: right;\n",
       "    }\n",
       "</style>\n",
       "<table border=\"1\" class=\"dataframe\">\n",
       "  <thead>\n",
       "    <tr style=\"text-align: right;\">\n",
       "      <th></th>\n",
       "      <th>Case Number</th>\n",
       "      <th>File</th>\n",
       "      <th>Sort</th>\n",
       "      <th>Type</th>\n",
       "    </tr>\n",
       "  </thead>\n",
       "  <tbody>\n",
       "    <tr>\n",
       "      <th>180</th>\n",
       "      <td>42</td>\n",
       "      <td>AADF0.jpg</td>\n",
       "      <td>1</td>\n",
       "      <td>Speculum examination</td>\n",
       "    </tr>\n",
       "    <tr>\n",
       "      <th>181</th>\n",
       "      <td>42</td>\n",
       "      <td>AADF1.jpg</td>\n",
       "      <td>2</td>\n",
       "      <td>After normal saline with green filter</td>\n",
       "    </tr>\n",
       "    <tr>\n",
       "      <th>182</th>\n",
       "      <td>42</td>\n",
       "      <td>AADF5.jpg</td>\n",
       "      <td>3</td>\n",
       "      <td>After acetic acid</td>\n",
       "    </tr>\n",
       "    <tr>\n",
       "      <th>183</th>\n",
       "      <td>42</td>\n",
       "      <td>AADF4.jpg</td>\n",
       "      <td>4</td>\n",
       "      <td>After acetic acid with higher magnification</td>\n",
       "    </tr>\n",
       "    <tr>\n",
       "      <th>184</th>\n",
       "      <td>42</td>\n",
       "      <td>AAFN5.jpg</td>\n",
       "      <td>5</td>\n",
       "      <td>After Lugol’s iodine</td>\n",
       "    </tr>\n",
       "  </tbody>\n",
       "</table>\n",
       "</div>"
      ],
      "text/plain": [
       "     Case Number       File  Sort                                         Type\n",
       "180           42  AADF0.jpg     1                         Speculum examination\n",
       "181           42  AADF1.jpg     2        After normal saline with green filter\n",
       "182           42  AADF5.jpg     3                            After acetic acid\n",
       "183           42  AADF4.jpg     4  After acetic acid with higher magnification\n",
       "184           42  AAFN5.jpg     5                         After Lugol’s iodine"
      ]
     },
     "execution_count": 82,
     "metadata": {},
     "output_type": "execute_result"
    }
   ],
   "source": [
    "df_c_images[df_c_images['Case Number'] == 42]"
   ]
  },
  {
   "cell_type": "code",
   "execution_count": 83,
   "id": "2d8ad71a-1fb9-4a1c-aac4-89ddf8dab144",
   "metadata": {
    "tags": []
   },
   "outputs": [],
   "source": [
    "#excluding image it's not present in the \n",
    "df_c_images = df_c_images[df_c_images['File'] != 'AAFN5.jpg']"
   ]
  },
  {
   "cell_type": "code",
   "execution_count": 84,
   "id": "df6f3c5e-8be1-4d32-8b3a-6a4f6901b884",
   "metadata": {
    "scrolled": true,
    "tags": []
   },
   "outputs": [
    {
     "data": {
      "text/html": [
       "<div>\n",
       "<style scoped>\n",
       "    .dataframe tbody tr th:only-of-type {\n",
       "        vertical-align: middle;\n",
       "    }\n",
       "\n",
       "    .dataframe tbody tr th {\n",
       "        vertical-align: top;\n",
       "    }\n",
       "\n",
       "    .dataframe thead th {\n",
       "        text-align: right;\n",
       "    }\n",
       "</style>\n",
       "<table border=\"1\" class=\"dataframe\">\n",
       "  <thead>\n",
       "    <tr style=\"text-align: right;\">\n",
       "      <th></th>\n",
       "      <th>Case Number</th>\n",
       "      <th>File</th>\n",
       "      <th>Sort</th>\n",
       "      <th>Type</th>\n",
       "    </tr>\n",
       "  </thead>\n",
       "  <tbody>\n",
       "    <tr>\n",
       "      <th>180</th>\n",
       "      <td>42</td>\n",
       "      <td>AADF0.jpg</td>\n",
       "      <td>1</td>\n",
       "      <td>Speculum examination</td>\n",
       "    </tr>\n",
       "    <tr>\n",
       "      <th>181</th>\n",
       "      <td>42</td>\n",
       "      <td>AADF1.jpg</td>\n",
       "      <td>2</td>\n",
       "      <td>After normal saline with green filter</td>\n",
       "    </tr>\n",
       "    <tr>\n",
       "      <th>182</th>\n",
       "      <td>42</td>\n",
       "      <td>AADF5.jpg</td>\n",
       "      <td>3</td>\n",
       "      <td>After acetic acid</td>\n",
       "    </tr>\n",
       "    <tr>\n",
       "      <th>183</th>\n",
       "      <td>42</td>\n",
       "      <td>AADF4.jpg</td>\n",
       "      <td>4</td>\n",
       "      <td>After acetic acid with higher magnification</td>\n",
       "    </tr>\n",
       "  </tbody>\n",
       "</table>\n",
       "</div>"
      ],
      "text/plain": [
       "     Case Number       File  Sort                                         Type\n",
       "180           42  AADF0.jpg     1                         Speculum examination\n",
       "181           42  AADF1.jpg     2        After normal saline with green filter\n",
       "182           42  AADF5.jpg     3                            After acetic acid\n",
       "183           42  AADF4.jpg     4  After acetic acid with higher magnification"
      ]
     },
     "execution_count": 84,
     "metadata": {},
     "output_type": "execute_result"
    }
   ],
   "source": [
    "df_c_images[df_c_images['Case Number'] == 42]"
   ]
  },
  {
   "cell_type": "code",
   "execution_count": 85,
   "id": "d570f5cc-bb9b-4f11-b1bf-cf7129a29b95",
   "metadata": {
    "tags": []
   },
   "outputs": [],
   "source": [
    "df_colpo = df_c_images.loc[:, ['Case Number', 'File']]"
   ]
  },
  {
   "cell_type": "code",
   "execution_count": 86,
   "id": "80f04ffb-b66b-4e97-a5b6-61648f55b47e",
   "metadata": {
    "tags": []
   },
   "outputs": [],
   "source": [
    "directory_cases_names_colpo = functions.rename_directories_dataframe(df_colpo, 'colpo')"
   ]
  },
  {
   "cell_type": "code",
   "execution_count": 87,
   "id": "2a11811f-2089-4585-972d-3ce866a62cb8",
   "metadata": {
    "scrolled": true,
    "tags": []
   },
   "outputs": [
    {
     "data": {
      "text/html": [
       "<div>\n",
       "<style scoped>\n",
       "    .dataframe tbody tr th:only-of-type {\n",
       "        vertical-align: middle;\n",
       "    }\n",
       "\n",
       "    .dataframe tbody tr th {\n",
       "        vertical-align: top;\n",
       "    }\n",
       "\n",
       "    .dataframe thead th {\n",
       "        text-align: right;\n",
       "    }\n",
       "</style>\n",
       "<table border=\"1\" class=\"dataframe\">\n",
       "  <thead>\n",
       "    <tr style=\"text-align: right;\">\n",
       "      <th></th>\n",
       "      <th>Case Number</th>\n",
       "      <th>File</th>\n",
       "      <th>Case directory</th>\n",
       "    </tr>\n",
       "  </thead>\n",
       "  <tbody>\n",
       "    <tr>\n",
       "      <th>0</th>\n",
       "      <td>1</td>\n",
       "      <td>AAAW1.jpg</td>\n",
       "      <td>Case_001</td>\n",
       "    </tr>\n",
       "    <tr>\n",
       "      <th>1</th>\n",
       "      <td>1</td>\n",
       "      <td>AAAW3.jpg</td>\n",
       "      <td>Case_001</td>\n",
       "    </tr>\n",
       "    <tr>\n",
       "      <th>2</th>\n",
       "      <td>1</td>\n",
       "      <td>AAAW2.jpg</td>\n",
       "      <td>Case_001</td>\n",
       "    </tr>\n",
       "    <tr>\n",
       "      <th>3</th>\n",
       "      <td>1</td>\n",
       "      <td>AAAW4.jpg</td>\n",
       "      <td>Case_001</td>\n",
       "    </tr>\n",
       "    <tr>\n",
       "      <th>4</th>\n",
       "      <td>2</td>\n",
       "      <td>AADE0.jpg</td>\n",
       "      <td>Case_002</td>\n",
       "    </tr>\n",
       "  </tbody>\n",
       "</table>\n",
       "</div>"
      ],
      "text/plain": [
       "   Case Number       File Case directory\n",
       "0            1  AAAW1.jpg       Case_001\n",
       "1            1  AAAW3.jpg       Case_001\n",
       "2            1  AAAW2.jpg       Case_001\n",
       "3            1  AAAW4.jpg       Case_001\n",
       "4            2  AADE0.jpg       Case_002"
      ]
     },
     "execution_count": 87,
     "metadata": {},
     "output_type": "execute_result"
    }
   ],
   "source": [
    "df_colpo['Case directory'] = directory_cases_names_colpo\n",
    "df_colpo.head()"
   ]
  },
  {
   "cell_type": "code",
   "execution_count": 88,
   "id": "c02432e0-350f-455c-9f3d-a2baeafa8cad",
   "metadata": {
    "tags": []
   },
   "outputs": [],
   "source": [
    "diagnosis_colpo = np.zeros(len(df_colpo), dtype=int)\n",
    "df_colpo['Diagnosis'] = diagnosis_colpo"
   ]
  },
  {
   "cell_type": "code",
   "execution_count": 89,
   "id": "86711ec6-aedb-4cb8-a7f7-0301759120f0",
   "metadata": {
    "tags": []
   },
   "outputs": [],
   "source": [
    "df_colpo['Diagnosis'] = np.where(df_c_images['Case Number'].isin(normal_cases_ids), 0, df_colpo['Diagnosis'])\n",
    "df_colpo['Diagnosis'] = np.where(df_c_images['Case Number'].isin(cin1_cases_ids), 1, df_colpo['Diagnosis'])\n",
    "df_colpo['Diagnosis'] = np.where(df_c_images['Case Number'].isin(cin2_cases_ids), 2, df_colpo['Diagnosis'])\n",
    "df_colpo['Diagnosis'] = np.where(df_c_images['Case Number'].isin(cin3_cases_ids), 3, df_colpo['Diagnosis'])"
   ]
  },
  {
   "cell_type": "code",
   "execution_count": 90,
   "id": "d42697f1-d096-4535-bd79-c66de8c1a8ff",
   "metadata": {
    "scrolled": true
   },
   "outputs": [
    {
     "data": {
      "text/plain": [
       "array([0, 1, 2, 3])"
      ]
     },
     "execution_count": 90,
     "metadata": {},
     "output_type": "execute_result"
    }
   ],
   "source": [
    "df_colpo['Diagnosis'].unique()"
   ]
  },
  {
   "cell_type": "code",
   "execution_count": 91,
   "id": "009e2889-d796-4054-8b42-d5bdd8cbf7c2",
   "metadata": {
    "tags": []
   },
   "outputs": [],
   "source": [
    "df_colpo['File'] = iarc_colpo_datapath+df_colpo['Case directory']+'/'+df_colpo['File']\n",
    "df_colpo = df_colpo.drop('Case directory', axis=1)"
   ]
  },
  {
   "cell_type": "code",
   "execution_count": 92,
   "id": "26aa3b5c-b0d0-47a5-88b5-c0083dbe5635",
   "metadata": {
    "tags": []
   },
   "outputs": [
    {
     "data": {
      "text/plain": [
       "array([[1,\n",
       "        '/workspace/experiments/vit/datasets/IARCImageBankColpo/Case_001/AAAW1.jpg',\n",
       "        0],\n",
       "       [1,\n",
       "        '/workspace/experiments/vit/datasets/IARCImageBankColpo/Case_001/AAAW3.jpg',\n",
       "        0],\n",
       "       [1,\n",
       "        '/workspace/experiments/vit/datasets/IARCImageBankColpo/Case_001/AAAW2.jpg',\n",
       "        0],\n",
       "       ...,\n",
       "       [200,\n",
       "        '/workspace/experiments/vit/datasets/IARCImageBankColpo/Case_200/AAGT2.jpg',\n",
       "        0],\n",
       "       [200,\n",
       "        '/workspace/experiments/vit/datasets/IARCImageBankColpo/Case_200/AAGT4.jpg',\n",
       "        0],\n",
       "       [200,\n",
       "        '/workspace/experiments/vit/datasets/IARCImageBankColpo/Case_200/AAGT5.jpg',\n",
       "        0]], dtype=object)"
      ]
     },
     "execution_count": 92,
     "metadata": {},
     "output_type": "execute_result"
    }
   ],
   "source": [
    "df_colpo.values"
   ]
  },
  {
   "cell_type": "markdown",
   "id": "f23edfbc-e809-40d9-97a1-3a4ba11b0d7a",
   "metadata": {},
   "source": [
    "### IARC Image Bank VIA"
   ]
  },
  {
   "cell_type": "code",
   "execution_count": 93,
   "id": "8ba56dc7-9e77-450b-84c0-8c48bedfa6e5",
   "metadata": {},
   "outputs": [],
   "source": [
    "iarc_via_datapath = '/workspace/experiments/vit/datasets/IARCImageBankVIA/'\n",
    "df_v = pd.read_excel(iarc_via_datapath+'cases_metadata.xlsx')"
   ]
  },
  {
   "cell_type": "code",
   "execution_count": 94,
   "id": "25ce446f-8058-4e29-8f35-7b14dead36b9",
   "metadata": {},
   "outputs": [
    {
     "data": {
      "text/html": [
       "<div>\n",
       "<style scoped>\n",
       "    .dataframe tbody tr th:only-of-type {\n",
       "        vertical-align: middle;\n",
       "    }\n",
       "\n",
       "    .dataframe tbody tr th {\n",
       "        vertical-align: top;\n",
       "    }\n",
       "\n",
       "    .dataframe thead th {\n",
       "        text-align: right;\n",
       "    }\n",
       "</style>\n",
       "<table border=\"1\" class=\"dataframe\">\n",
       "  <thead>\n",
       "    <tr style=\"text-align: right;\">\n",
       "      <th></th>\n",
       "      <th>CaseNumber</th>\n",
       "      <th>CaseID</th>\n",
       "      <th>SCJ</th>\n",
       "      <th>SCJ Location</th>\n",
       "      <th>Acitowhite area</th>\n",
       "      <th>Acitowhite area color</th>\n",
       "      <th>Acitowhite area margin</th>\n",
       "      <th>Acitowhite area surface</th>\n",
       "      <th>Acitowhite area location</th>\n",
       "      <th>Acitowhite area size</th>\n",
       "      <th>VIA</th>\n",
       "      <th>Eligibility for ablative treatment</th>\n",
       "      <th>Histology findings</th>\n",
       "    </tr>\n",
       "  </thead>\n",
       "  <tbody>\n",
       "    <tr>\n",
       "      <th>0</th>\n",
       "      <td>1</td>\n",
       "      <td>AFC</td>\n",
       "      <td>Fully visible</td>\n",
       "      <td>On ectocervix</td>\n",
       "      <td>Present</td>\n",
       "      <td>Thin</td>\n",
       "      <td>Diffuse</td>\n",
       "      <td>Smooth</td>\n",
       "      <td>Within TZ or close to the external os (if SCJ ...</td>\n",
       "      <td>Covering more than 75% of ectocervix</td>\n",
       "      <td>Negative</td>\n",
       "      <td>Eligible for ablation</td>\n",
       "      <td>Not done</td>\n",
       "    </tr>\n",
       "    <tr>\n",
       "      <th>1</th>\n",
       "      <td>2</td>\n",
       "      <td>AJL</td>\n",
       "      <td>Fully visible</td>\n",
       "      <td>On ectocervix</td>\n",
       "      <td>Absent</td>\n",
       "      <td>NaN</td>\n",
       "      <td>NaN</td>\n",
       "      <td>NaN</td>\n",
       "      <td>NaN</td>\n",
       "      <td>NaN</td>\n",
       "      <td>Negative</td>\n",
       "      <td>Eligible for ablation</td>\n",
       "      <td>Not done</td>\n",
       "    </tr>\n",
       "    <tr>\n",
       "      <th>2</th>\n",
       "      <td>3</td>\n",
       "      <td>AGY</td>\n",
       "      <td>Partially visible</td>\n",
       "      <td>Partly on ectocervix and partly on endocervix</td>\n",
       "      <td>Absent</td>\n",
       "      <td>NaN</td>\n",
       "      <td>NaN</td>\n",
       "      <td>NaN</td>\n",
       "      <td>NaN</td>\n",
       "      <td>NaN</td>\n",
       "      <td>Negative</td>\n",
       "      <td>Eligible for ablation</td>\n",
       "      <td>Not done</td>\n",
       "    </tr>\n",
       "    <tr>\n",
       "      <th>3</th>\n",
       "      <td>4</td>\n",
       "      <td>AJE</td>\n",
       "      <td>Fully visible</td>\n",
       "      <td>On ectocervix</td>\n",
       "      <td>Absent</td>\n",
       "      <td>NaN</td>\n",
       "      <td>NaN</td>\n",
       "      <td>NaN</td>\n",
       "      <td>NaN</td>\n",
       "      <td>NaN</td>\n",
       "      <td>Negative</td>\n",
       "      <td>Eligible for ablation</td>\n",
       "      <td>Not done</td>\n",
       "    </tr>\n",
       "    <tr>\n",
       "      <th>4</th>\n",
       "      <td>5</td>\n",
       "      <td>AHS</td>\n",
       "      <td>Fully visible</td>\n",
       "      <td>On ectocervix</td>\n",
       "      <td>Absent</td>\n",
       "      <td>NaN</td>\n",
       "      <td>NaN</td>\n",
       "      <td>NaN</td>\n",
       "      <td>NaN</td>\n",
       "      <td>NaN</td>\n",
       "      <td>Negative</td>\n",
       "      <td>Eligible for ablation</td>\n",
       "      <td>Not done</td>\n",
       "    </tr>\n",
       "  </tbody>\n",
       "</table>\n",
       "</div>"
      ],
      "text/plain": [
       "   CaseNumber CaseID                SCJ  \\\n",
       "0           1    AFC      Fully visible   \n",
       "1           2    AJL      Fully visible   \n",
       "2           3    AGY  Partially visible   \n",
       "3           4    AJE      Fully visible   \n",
       "4           5    AHS      Fully visible   \n",
       "\n",
       "                                    SCJ Location Acitowhite area  \\\n",
       "0                                  On ectocervix         Present   \n",
       "1                                  On ectocervix          Absent   \n",
       "2  Partly on ectocervix and partly on endocervix          Absent   \n",
       "3                                  On ectocervix          Absent   \n",
       "4                                  On ectocervix          Absent   \n",
       "\n",
       "  Acitowhite area color Acitowhite area margin Acitowhite area surface  \\\n",
       "0                  Thin                Diffuse                  Smooth   \n",
       "1                   NaN                    NaN                     NaN   \n",
       "2                   NaN                    NaN                     NaN   \n",
       "3                   NaN                    NaN                     NaN   \n",
       "4                   NaN                    NaN                     NaN   \n",
       "\n",
       "                            Acitowhite area location  \\\n",
       "0  Within TZ or close to the external os (if SCJ ...   \n",
       "1                                                NaN   \n",
       "2                                                NaN   \n",
       "3                                                NaN   \n",
       "4                                                NaN   \n",
       "\n",
       "                   Acitowhite area size       VIA  \\\n",
       "0  Covering more than 75% of ectocervix  Negative   \n",
       "1                                   NaN  Negative   \n",
       "2                                   NaN  Negative   \n",
       "3                                   NaN  Negative   \n",
       "4                                   NaN  Negative   \n",
       "\n",
       "  Eligibility for ablative treatment Histology findings  \n",
       "0              Eligible for ablation           Not done  \n",
       "1              Eligible for ablation           Not done  \n",
       "2              Eligible for ablation           Not done  \n",
       "3              Eligible for ablation           Not done  \n",
       "4              Eligible for ablation           Not done  "
      ]
     },
     "execution_count": 94,
     "metadata": {},
     "output_type": "execute_result"
    }
   ],
   "source": [
    "df_v.head(5)"
   ]
  },
  {
   "cell_type": "code",
   "execution_count": 95,
   "id": "a06fbcb8-ba98-4b53-85a8-5fbbefe4f3dd",
   "metadata": {},
   "outputs": [],
   "source": [
    "df_v.rename(columns={'Histology findings': 'Histology_findings'}, inplace=True)"
   ]
  },
  {
   "cell_type": "code",
   "execution_count": 96,
   "id": "16961212-3d3b-4266-8e0f-dad089fc6c15",
   "metadata": {
    "tags": []
   },
   "outputs": [
    {
     "data": {
      "text/plain": [
       "Index(['CaseNumber', 'CaseID', 'SCJ', 'SCJ Location', 'Acitowhite area',\n",
       "       'Acitowhite area color', 'Acitowhite area margin',\n",
       "       'Acitowhite area surface', 'Acitowhite area location',\n",
       "       'Acitowhite area size', 'VIA', 'Eligibility for ablative treatment',\n",
       "       'Histology_findings'],\n",
       "      dtype='object')"
      ]
     },
     "execution_count": 96,
     "metadata": {},
     "output_type": "execute_result"
    }
   ],
   "source": [
    "df_v.columns"
   ]
  },
  {
   "cell_type": "code",
   "execution_count": 97,
   "id": "70284fbc-b8c2-4d67-a080-429e5b5fc5ac",
   "metadata": {
    "tags": []
   },
   "outputs": [
    {
     "name": "stdout",
     "output_type": "stream",
     "text": [
      "<class 'pandas.core.frame.DataFrame'>\n",
      "RangeIndex: 186 entries, 0 to 185\n",
      "Data columns (total 13 columns):\n",
      " #   Column                              Non-Null Count  Dtype \n",
      "---  ------                              --------------  ----- \n",
      " 0   CaseNumber                          186 non-null    int64 \n",
      " 1   CaseID                              186 non-null    object\n",
      " 2   SCJ                                 186 non-null    object\n",
      " 3   SCJ Location                        137 non-null    object\n",
      " 4   Acitowhite area                     186 non-null    object\n",
      " 5   Acitowhite area color               125 non-null    object\n",
      " 6   Acitowhite area margin              125 non-null    object\n",
      " 7   Acitowhite area surface             124 non-null    object\n",
      " 8   Acitowhite area location            124 non-null    object\n",
      " 9   Acitowhite area size                124 non-null    object\n",
      " 10  VIA                                 186 non-null    object\n",
      " 11  Eligibility for ablative treatment  186 non-null    object\n",
      " 12  Histology_findings                  186 non-null    object\n",
      "dtypes: int64(1), object(12)\n",
      "memory usage: 19.0+ KB\n"
     ]
    }
   ],
   "source": [
    "df_v.info()"
   ]
  },
  {
   "cell_type": "code",
   "execution_count": 98,
   "id": "2b8c3e81-635c-4dbc-9b32-c2d4332589ca",
   "metadata": {
    "tags": []
   },
   "outputs": [
    {
     "data": {
      "text/html": [
       "<div>\n",
       "<style scoped>\n",
       "    .dataframe tbody tr th:only-of-type {\n",
       "        vertical-align: middle;\n",
       "    }\n",
       "\n",
       "    .dataframe tbody tr th {\n",
       "        vertical-align: top;\n",
       "    }\n",
       "\n",
       "    .dataframe thead th {\n",
       "        text-align: right;\n",
       "    }\n",
       "</style>\n",
       "<table border=\"1\" class=\"dataframe\">\n",
       "  <thead>\n",
       "    <tr style=\"text-align: right;\">\n",
       "      <th></th>\n",
       "      <th>CaseNumber</th>\n",
       "    </tr>\n",
       "  </thead>\n",
       "  <tbody>\n",
       "    <tr>\n",
       "      <th>count</th>\n",
       "      <td>186.000000</td>\n",
       "    </tr>\n",
       "    <tr>\n",
       "      <th>mean</th>\n",
       "      <td>93.500000</td>\n",
       "    </tr>\n",
       "    <tr>\n",
       "      <th>std</th>\n",
       "      <td>53.837719</td>\n",
       "    </tr>\n",
       "    <tr>\n",
       "      <th>min</th>\n",
       "      <td>1.000000</td>\n",
       "    </tr>\n",
       "    <tr>\n",
       "      <th>25%</th>\n",
       "      <td>47.250000</td>\n",
       "    </tr>\n",
       "    <tr>\n",
       "      <th>50%</th>\n",
       "      <td>93.500000</td>\n",
       "    </tr>\n",
       "    <tr>\n",
       "      <th>75%</th>\n",
       "      <td>139.750000</td>\n",
       "    </tr>\n",
       "    <tr>\n",
       "      <th>max</th>\n",
       "      <td>186.000000</td>\n",
       "    </tr>\n",
       "  </tbody>\n",
       "</table>\n",
       "</div>"
      ],
      "text/plain": [
       "       CaseNumber\n",
       "count  186.000000\n",
       "mean    93.500000\n",
       "std     53.837719\n",
       "min      1.000000\n",
       "25%     47.250000\n",
       "50%     93.500000\n",
       "75%    139.750000\n",
       "max    186.000000"
      ]
     },
     "execution_count": 98,
     "metadata": {},
     "output_type": "execute_result"
    }
   ],
   "source": [
    "df_v.describe()"
   ]
  },
  {
   "cell_type": "code",
   "execution_count": 99,
   "id": "6cd30639-24a9-42fd-8e72-00c0b9fa5bcd",
   "metadata": {
    "tags": []
   },
   "outputs": [
    {
     "data": {
      "text/html": [
       "<div>\n",
       "<style scoped>\n",
       "    .dataframe tbody tr th:only-of-type {\n",
       "        vertical-align: middle;\n",
       "    }\n",
       "\n",
       "    .dataframe tbody tr th {\n",
       "        vertical-align: top;\n",
       "    }\n",
       "\n",
       "    .dataframe thead th {\n",
       "        text-align: right;\n",
       "    }\n",
       "</style>\n",
       "<table border=\"1\" class=\"dataframe\">\n",
       "  <thead>\n",
       "    <tr style=\"text-align: right;\">\n",
       "      <th></th>\n",
       "      <th>CaseNumber</th>\n",
       "      <th>Histology_findings</th>\n",
       "    </tr>\n",
       "  </thead>\n",
       "  <tbody>\n",
       "    <tr>\n",
       "      <th>0</th>\n",
       "      <td>1</td>\n",
       "      <td>Not done</td>\n",
       "    </tr>\n",
       "    <tr>\n",
       "      <th>1</th>\n",
       "      <td>2</td>\n",
       "      <td>Not done</td>\n",
       "    </tr>\n",
       "    <tr>\n",
       "      <th>2</th>\n",
       "      <td>3</td>\n",
       "      <td>Not done</td>\n",
       "    </tr>\n",
       "    <tr>\n",
       "      <th>3</th>\n",
       "      <td>4</td>\n",
       "      <td>Not done</td>\n",
       "    </tr>\n",
       "    <tr>\n",
       "      <th>4</th>\n",
       "      <td>5</td>\n",
       "      <td>Not done</td>\n",
       "    </tr>\n",
       "    <tr>\n",
       "      <th>...</th>\n",
       "      <td>...</td>\n",
       "      <td>...</td>\n",
       "    </tr>\n",
       "    <tr>\n",
       "      <th>181</th>\n",
       "      <td>182</td>\n",
       "      <td>Squamous cell carcinoma</td>\n",
       "    </tr>\n",
       "    <tr>\n",
       "      <th>182</th>\n",
       "      <td>183</td>\n",
       "      <td>Adenocarcinoma in situ</td>\n",
       "    </tr>\n",
       "    <tr>\n",
       "      <th>183</th>\n",
       "      <td>184</td>\n",
       "      <td>Adenocarcinoma</td>\n",
       "    </tr>\n",
       "    <tr>\n",
       "      <th>184</th>\n",
       "      <td>185</td>\n",
       "      <td>Adenocarcinoma</td>\n",
       "    </tr>\n",
       "    <tr>\n",
       "      <th>185</th>\n",
       "      <td>186</td>\n",
       "      <td>Squamous cell carcinoma</td>\n",
       "    </tr>\n",
       "  </tbody>\n",
       "</table>\n",
       "<p>186 rows × 2 columns</p>\n",
       "</div>"
      ],
      "text/plain": [
       "     CaseNumber       Histology_findings\n",
       "0             1                 Not done\n",
       "1             2                 Not done\n",
       "2             3                 Not done\n",
       "3             4                 Not done\n",
       "4             5                 Not done\n",
       "..          ...                      ...\n",
       "181         182  Squamous cell carcinoma\n",
       "182         183   Adenocarcinoma in situ\n",
       "183         184           Adenocarcinoma\n",
       "184         185           Adenocarcinoma\n",
       "185         186  Squamous cell carcinoma\n",
       "\n",
       "[186 rows x 2 columns]"
      ]
     },
     "execution_count": 99,
     "metadata": {},
     "output_type": "execute_result"
    }
   ],
   "source": [
    "df_v = df_v.loc[:, ['CaseNumber', 'Histology_findings']]\n",
    "df_v"
   ]
  },
  {
   "cell_type": "code",
   "execution_count": 100,
   "id": "68444b64-27b4-456f-840e-62667994edc8",
   "metadata": {},
   "outputs": [
    {
     "name": "stdout",
     "output_type": "stream",
     "text": [
      "<class 'pandas.core.frame.DataFrame'>\n",
      "RangeIndex: 186 entries, 0 to 185\n",
      "Data columns (total 2 columns):\n",
      " #   Column              Non-Null Count  Dtype \n",
      "---  ------              --------------  ----- \n",
      " 0   CaseNumber          186 non-null    int64 \n",
      " 1   Histology_findings  186 non-null    object\n",
      "dtypes: int64(1), object(1)\n",
      "memory usage: 3.0+ KB\n"
     ]
    }
   ],
   "source": [
    "df_v.info()"
   ]
  },
  {
   "cell_type": "code",
   "execution_count": 101,
   "id": "96701b4a-8cb6-4dc2-b0d3-28605dec760a",
   "metadata": {
    "tags": []
   },
   "outputs": [
    {
     "data": {
      "text/plain": [
       "array(['Not done', 'Normal', 'LSIL-HPV changes', 'HSIL-CIN3', 'LSIL-CIN1',\n",
       "       'HSIL-CIN2', 'Anterior lip: HSIL-CIN2; Posterior lip: LSIL-CIN1',\n",
       "       'Microinvasive carcinoma',\n",
       "       'Posterior lip: HSIL-CIN3; Anterior lip: normal',\n",
       "       'Microinvasive squamous cell carcinoma',\n",
       "       'Posterior lip: LSIL-HPV changes; Anterior lip: Normal',\n",
       "       'Posterior lip: LSIL-CIN1; Anterior lip: LSIL-HPV changes',\n",
       "       'Anterior lip (10 o’clock): LSIL-CIN1',\n",
       "       'Posterior lip: LSIL-HPV changes', 'Squamous cell carcinoma',\n",
       "       'Invasive squamous cell carcinoma', 'Adenocarcinoma in situ',\n",
       "       'Adenocarcinoma'], dtype=object)"
      ]
     },
     "execution_count": 101,
     "metadata": {},
     "output_type": "execute_result"
    }
   ],
   "source": [
    "df_v['Histology_findings'].unique()"
   ]
  },
  {
   "cell_type": "code",
   "execution_count": 102,
   "id": "1a725788-99c5-4f7d-a77d-881e7d937eaf",
   "metadata": {},
   "outputs": [],
   "source": [
    "investigated_labels_via = ['Not done', 'Normal', 'CIN1', 'CIN2', 'CIN3']"
   ]
  },
  {
   "cell_type": "code",
   "execution_count": 103,
   "id": "128685c0-d55e-4d48-a34c-08e68bb10564",
   "metadata": {},
   "outputs": [
    {
     "data": {
      "text/plain": [
       "array(['Not done', 'Normal', 'HSIL-CIN3', 'LSIL-CIN1', 'HSIL-CIN2',\n",
       "       'Anterior lip: HSIL-CIN2; Posterior lip: LSIL-CIN1',\n",
       "       'Posterior lip: HSIL-CIN3; Anterior lip: normal',\n",
       "       'Posterior lip: LSIL-HPV changes; Anterior lip: Normal',\n",
       "       'Posterior lip: LSIL-CIN1; Anterior lip: LSIL-HPV changes',\n",
       "       'Anterior lip (10 o’clock): LSIL-CIN1'], dtype=object)"
      ]
     },
     "execution_count": 103,
     "metadata": {},
     "output_type": "execute_result"
    }
   ],
   "source": [
    "df_v = df_v[df_v.Histology_findings.apply(lambda d: any(l in d for l in investigated_labels_via))]\n",
    "df_v['Histology_findings'].unique()"
   ]
  },
  {
   "cell_type": "code",
   "execution_count": 104,
   "id": "76503f00-0022-4cb5-bc02-92097e776c5f",
   "metadata": {},
   "outputs": [],
   "source": [
    "df_v = df_v.loc[df_v['Histology_findings'] != 'Anterior lip: HSIL-CIN2; Posterior lip: LSIL-CIN1']\n",
    "df_v = df_v.loc[df_v['Histology_findings'] != 'Posterior lip: HSIL-CIN3; Anterior lip: normal']\n",
    "df_v = df_v.loc[df_v['Histology_findings'] != 'Posterior lip: LSIL-HPV changes; Anterior lip: Normal']"
   ]
  },
  {
   "cell_type": "code",
   "execution_count": 105,
   "id": "304683e6-461a-4955-92bc-054905f48167",
   "metadata": {},
   "outputs": [],
   "source": [
    "# normal cases\n",
    "df_normal_via = df_v.query(\"Histology_findings == 'Normal' or Histology_findings == 'Not done'\")\n",
    "normal_cases_ids_via = df_normal_via['CaseNumber'].unique()\n",
    "\n",
    "# abnormal cases\n",
    "df_cin1_via = df_v[df_v.Histology_findings.apply(lambda d: any(l in d for l in ['CIN1']))]\n",
    "cin1_cases_ids_via = df_cin1_via['CaseNumber'].unique()\n",
    "\n",
    "df_cin2_via = df_v[df_v.Histology_findings.apply(lambda d: any(l in d for l in ['CIN2']))]\n",
    "cin2_cases_ids_via = df_cin2_via['CaseNumber'].unique()\n",
    "\n",
    "df_cin3_via = df_v[df_v.Histology_findings.apply(lambda d: any(l in d for l in ['CIN3']))]\n",
    "cin3_cases_ids_via = df_cin3_via['CaseNumber'].unique()"
   ]
  },
  {
   "cell_type": "code",
   "execution_count": 106,
   "id": "c347fb09-4cc4-411d-b2c0-1ad87f96c54b",
   "metadata": {},
   "outputs": [
    {
     "data": {
      "text/html": [
       "<div>\n",
       "<style scoped>\n",
       "    .dataframe tbody tr th:only-of-type {\n",
       "        vertical-align: middle;\n",
       "    }\n",
       "\n",
       "    .dataframe tbody tr th {\n",
       "        vertical-align: top;\n",
       "    }\n",
       "\n",
       "    .dataframe thead th {\n",
       "        text-align: right;\n",
       "    }\n",
       "</style>\n",
       "<table border=\"1\" class=\"dataframe\">\n",
       "  <thead>\n",
       "    <tr style=\"text-align: right;\">\n",
       "      <th></th>\n",
       "      <th>CaseNumber</th>\n",
       "      <th>Histology_findings</th>\n",
       "    </tr>\n",
       "  </thead>\n",
       "  <tbody>\n",
       "    <tr>\n",
       "      <th>107</th>\n",
       "      <td>108</td>\n",
       "      <td>LSIL-CIN1</td>\n",
       "    </tr>\n",
       "    <tr>\n",
       "      <th>132</th>\n",
       "      <td>133</td>\n",
       "      <td>Posterior lip: LSIL-CIN1; Anterior lip: LSIL-H...</td>\n",
       "    </tr>\n",
       "    <tr>\n",
       "      <th>134</th>\n",
       "      <td>135</td>\n",
       "      <td>LSIL-CIN1</td>\n",
       "    </tr>\n",
       "    <tr>\n",
       "      <th>135</th>\n",
       "      <td>136</td>\n",
       "      <td>LSIL-CIN1</td>\n",
       "    </tr>\n",
       "    <tr>\n",
       "      <th>136</th>\n",
       "      <td>137</td>\n",
       "      <td>LSIL-CIN1</td>\n",
       "    </tr>\n",
       "    <tr>\n",
       "      <th>137</th>\n",
       "      <td>138</td>\n",
       "      <td>Anterior lip (10 o’clock): LSIL-CIN1</td>\n",
       "    </tr>\n",
       "    <tr>\n",
       "      <th>138</th>\n",
       "      <td>139</td>\n",
       "      <td>LSIL-CIN1</td>\n",
       "    </tr>\n",
       "    <tr>\n",
       "      <th>141</th>\n",
       "      <td>142</td>\n",
       "      <td>LSIL-CIN1</td>\n",
       "    </tr>\n",
       "    <tr>\n",
       "      <th>142</th>\n",
       "      <td>143</td>\n",
       "      <td>LSIL-CIN1</td>\n",
       "    </tr>\n",
       "    <tr>\n",
       "      <th>143</th>\n",
       "      <td>144</td>\n",
       "      <td>LSIL-CIN1</td>\n",
       "    </tr>\n",
       "    <tr>\n",
       "      <th>144</th>\n",
       "      <td>145</td>\n",
       "      <td>LSIL-CIN1</td>\n",
       "    </tr>\n",
       "    <tr>\n",
       "      <th>145</th>\n",
       "      <td>146</td>\n",
       "      <td>LSIL-CIN1</td>\n",
       "    </tr>\n",
       "    <tr>\n",
       "      <th>146</th>\n",
       "      <td>147</td>\n",
       "      <td>LSIL-CIN1</td>\n",
       "    </tr>\n",
       "    <tr>\n",
       "      <th>149</th>\n",
       "      <td>150</td>\n",
       "      <td>LSIL-CIN1</td>\n",
       "    </tr>\n",
       "    <tr>\n",
       "      <th>150</th>\n",
       "      <td>151</td>\n",
       "      <td>LSIL-CIN1</td>\n",
       "    </tr>\n",
       "    <tr>\n",
       "      <th>151</th>\n",
       "      <td>152</td>\n",
       "      <td>LSIL-CIN1</td>\n",
       "    </tr>\n",
       "    <tr>\n",
       "      <th>152</th>\n",
       "      <td>153</td>\n",
       "      <td>LSIL-CIN1</td>\n",
       "    </tr>\n",
       "    <tr>\n",
       "      <th>155</th>\n",
       "      <td>156</td>\n",
       "      <td>LSIL-CIN1</td>\n",
       "    </tr>\n",
       "    <tr>\n",
       "      <th>156</th>\n",
       "      <td>157</td>\n",
       "      <td>LSIL-CIN1</td>\n",
       "    </tr>\n",
       "    <tr>\n",
       "      <th>158</th>\n",
       "      <td>159</td>\n",
       "      <td>LSIL-CIN1</td>\n",
       "    </tr>\n",
       "    <tr>\n",
       "      <th>160</th>\n",
       "      <td>161</td>\n",
       "      <td>LSIL-CIN1</td>\n",
       "    </tr>\n",
       "    <tr>\n",
       "      <th>162</th>\n",
       "      <td>163</td>\n",
       "      <td>LSIL-CIN1</td>\n",
       "    </tr>\n",
       "  </tbody>\n",
       "</table>\n",
       "</div>"
      ],
      "text/plain": [
       "     CaseNumber                                 Histology_findings\n",
       "107         108                                          LSIL-CIN1\n",
       "132         133  Posterior lip: LSIL-CIN1; Anterior lip: LSIL-H...\n",
       "134         135                                          LSIL-CIN1\n",
       "135         136                                          LSIL-CIN1\n",
       "136         137                                          LSIL-CIN1\n",
       "137         138               Anterior lip (10 o’clock): LSIL-CIN1\n",
       "138         139                                          LSIL-CIN1\n",
       "141         142                                          LSIL-CIN1\n",
       "142         143                                          LSIL-CIN1\n",
       "143         144                                          LSIL-CIN1\n",
       "144         145                                          LSIL-CIN1\n",
       "145         146                                          LSIL-CIN1\n",
       "146         147                                          LSIL-CIN1\n",
       "149         150                                          LSIL-CIN1\n",
       "150         151                                          LSIL-CIN1\n",
       "151         152                                          LSIL-CIN1\n",
       "152         153                                          LSIL-CIN1\n",
       "155         156                                          LSIL-CIN1\n",
       "156         157                                          LSIL-CIN1\n",
       "158         159                                          LSIL-CIN1\n",
       "160         161                                          LSIL-CIN1\n",
       "162         163                                          LSIL-CIN1"
      ]
     },
     "execution_count": 106,
     "metadata": {},
     "output_type": "execute_result"
    }
   ],
   "source": [
    "df_cin1_via"
   ]
  },
  {
   "cell_type": "code",
   "execution_count": 107,
   "id": "25be8bb3-9e1b-4bc2-8e90-a988efa319e5",
   "metadata": {
    "tags": []
   },
   "outputs": [
    {
     "data": {
      "text/html": [
       "<div>\n",
       "<style scoped>\n",
       "    .dataframe tbody tr th:only-of-type {\n",
       "        vertical-align: middle;\n",
       "    }\n",
       "\n",
       "    .dataframe tbody tr th {\n",
       "        vertical-align: top;\n",
       "    }\n",
       "\n",
       "    .dataframe thead th {\n",
       "        text-align: right;\n",
       "    }\n",
       "</style>\n",
       "<table border=\"1\" class=\"dataframe\">\n",
       "  <thead>\n",
       "    <tr style=\"text-align: right;\">\n",
       "      <th></th>\n",
       "      <th>CaseNumber</th>\n",
       "      <th>File</th>\n",
       "      <th>Type</th>\n",
       "    </tr>\n",
       "  </thead>\n",
       "  <tbody>\n",
       "    <tr>\n",
       "      <th>0</th>\n",
       "      <td>1</td>\n",
       "      <td>AFC0.jpg</td>\n",
       "      <td>Before application of acetic acid</td>\n",
       "    </tr>\n",
       "    <tr>\n",
       "      <th>1</th>\n",
       "      <td>1</td>\n",
       "      <td>AFC1.jpg</td>\n",
       "      <td>After application of acetic acid</td>\n",
       "    </tr>\n",
       "    <tr>\n",
       "      <th>2</th>\n",
       "      <td>2</td>\n",
       "      <td>AJL0.jpg</td>\n",
       "      <td>Before application of acetic acid</td>\n",
       "    </tr>\n",
       "    <tr>\n",
       "      <th>3</th>\n",
       "      <td>2</td>\n",
       "      <td>AJL1.jpg</td>\n",
       "      <td>After application of acetic acid</td>\n",
       "    </tr>\n",
       "    <tr>\n",
       "      <th>4</th>\n",
       "      <td>3</td>\n",
       "      <td>AGY0.jpg</td>\n",
       "      <td>Before application of acetic acid</td>\n",
       "    </tr>\n",
       "  </tbody>\n",
       "</table>\n",
       "</div>"
      ],
      "text/plain": [
       "   CaseNumber      File                               Type\n",
       "0           1  AFC0.jpg  Before application of acetic acid\n",
       "1           1  AFC1.jpg   After application of acetic acid\n",
       "2           2  AJL0.jpg  Before application of acetic acid\n",
       "3           2  AJL1.jpg   After application of acetic acid\n",
       "4           3  AGY0.jpg  Before application of acetic acid"
      ]
     },
     "execution_count": 107,
     "metadata": {},
     "output_type": "execute_result"
    }
   ],
   "source": [
    "df_images_via = pd.read_excel(iarc_via_datapath+'cases_images.xlsx')\n",
    "df_images_via.head()"
   ]
  },
  {
   "cell_type": "code",
   "execution_count": 108,
   "id": "768c4000-2a3e-4ffb-a840-5df2d1e9bb76",
   "metadata": {},
   "outputs": [
    {
     "data": {
      "text/plain": [
       "(420, 3)"
      ]
     },
     "execution_count": 108,
     "metadata": {},
     "output_type": "execute_result"
    }
   ],
   "source": [
    "df_images_via.shape"
   ]
  },
  {
   "cell_type": "code",
   "execution_count": 109,
   "id": "08aaddf6-2ed0-4464-bf7c-6b61733f179a",
   "metadata": {},
   "outputs": [
    {
     "data": {
      "text/html": [
       "<div>\n",
       "<style scoped>\n",
       "    .dataframe tbody tr th:only-of-type {\n",
       "        vertical-align: middle;\n",
       "    }\n",
       "\n",
       "    .dataframe tbody tr th {\n",
       "        vertical-align: top;\n",
       "    }\n",
       "\n",
       "    .dataframe thead th {\n",
       "        text-align: right;\n",
       "    }\n",
       "</style>\n",
       "<table border=\"1\" class=\"dataframe\">\n",
       "  <thead>\n",
       "    <tr style=\"text-align: right;\">\n",
       "      <th></th>\n",
       "      <th>CaseNumber</th>\n",
       "      <th>File</th>\n",
       "      <th>Type</th>\n",
       "    </tr>\n",
       "  </thead>\n",
       "  <tbody>\n",
       "    <tr>\n",
       "      <th>377</th>\n",
       "      <td>166</td>\n",
       "      <td>APW1.jpg</td>\n",
       "      <td>Before application of acetic acid</td>\n",
       "    </tr>\n",
       "    <tr>\n",
       "      <th>378</th>\n",
       "      <td>166</td>\n",
       "      <td>APW2.jpg</td>\n",
       "      <td>After application of acetic acid</td>\n",
       "    </tr>\n",
       "    <tr>\n",
       "      <th>379</th>\n",
       "      <td>166</td>\n",
       "      <td>APW3.jpg</td>\n",
       "      <td>After application of Lugol’s iodine</td>\n",
       "    </tr>\n",
       "  </tbody>\n",
       "</table>\n",
       "</div>"
      ],
      "text/plain": [
       "     CaseNumber      File                                 Type\n",
       "377         166  APW1.jpg    Before application of acetic acid\n",
       "378         166  APW2.jpg     After application of acetic acid\n",
       "379         166  APW3.jpg  After application of Lugol’s iodine"
      ]
     },
     "execution_count": 109,
     "metadata": {},
     "output_type": "execute_result"
    }
   ],
   "source": [
    "df_images_via[df_images_via['CaseNumber'] == 166]"
   ]
  },
  {
   "cell_type": "code",
   "execution_count": 110,
   "id": "e2de42f3-63e9-4a0b-abc3-4b717a42a60a",
   "metadata": {},
   "outputs": [],
   "source": [
    "#excluding image it's not present in the \n",
    "df_images_via = df_images_via[df_images_via['CaseNumber'] != 166]"
   ]
  },
  {
   "cell_type": "code",
   "execution_count": 111,
   "id": "6e35f6d3-9f22-475f-95fe-61c60becc902",
   "metadata": {},
   "outputs": [
    {
     "data": {
      "text/plain": [
       "(417, 3)"
      ]
     },
     "execution_count": 111,
     "metadata": {},
     "output_type": "execute_result"
    }
   ],
   "source": [
    "df_images_via.shape"
   ]
  },
  {
   "cell_type": "code",
   "execution_count": 112,
   "id": "f6ffec10-ec56-4b07-8161-c2baa0db1c00",
   "metadata": {
    "tags": []
   },
   "outputs": [],
   "source": [
    "df_via = df_images_via.loc[:, ['CaseNumber', 'File']]"
   ]
  },
  {
   "cell_type": "code",
   "execution_count": 113,
   "id": "1a01b6e5-9956-4045-9687-c41a5b2dd148",
   "metadata": {
    "tags": []
   },
   "outputs": [],
   "source": [
    "directory_cases_names_via = functions.rename_directories_dataframe(df_via, 'via')"
   ]
  },
  {
   "cell_type": "code",
   "execution_count": 114,
   "id": "7215973c-070f-4c8b-bd56-a4dc51065da6",
   "metadata": {
    "tags": []
   },
   "outputs": [
    {
     "data": {
      "text/html": [
       "<div>\n",
       "<style scoped>\n",
       "    .dataframe tbody tr th:only-of-type {\n",
       "        vertical-align: middle;\n",
       "    }\n",
       "\n",
       "    .dataframe tbody tr th {\n",
       "        vertical-align: top;\n",
       "    }\n",
       "\n",
       "    .dataframe thead th {\n",
       "        text-align: right;\n",
       "    }\n",
       "</style>\n",
       "<table border=\"1\" class=\"dataframe\">\n",
       "  <thead>\n",
       "    <tr style=\"text-align: right;\">\n",
       "      <th></th>\n",
       "      <th>CaseNumber</th>\n",
       "      <th>File</th>\n",
       "      <th>Case directory</th>\n",
       "    </tr>\n",
       "  </thead>\n",
       "  <tbody>\n",
       "    <tr>\n",
       "      <th>0</th>\n",
       "      <td>1</td>\n",
       "      <td>AFC0.jpg</td>\n",
       "      <td>Case_001</td>\n",
       "    </tr>\n",
       "    <tr>\n",
       "      <th>1</th>\n",
       "      <td>1</td>\n",
       "      <td>AFC1.jpg</td>\n",
       "      <td>Case_001</td>\n",
       "    </tr>\n",
       "    <tr>\n",
       "      <th>2</th>\n",
       "      <td>2</td>\n",
       "      <td>AJL0.jpg</td>\n",
       "      <td>Case_002</td>\n",
       "    </tr>\n",
       "    <tr>\n",
       "      <th>3</th>\n",
       "      <td>2</td>\n",
       "      <td>AJL1.jpg</td>\n",
       "      <td>Case_002</td>\n",
       "    </tr>\n",
       "    <tr>\n",
       "      <th>4</th>\n",
       "      <td>3</td>\n",
       "      <td>AGY0.jpg</td>\n",
       "      <td>Case_003</td>\n",
       "    </tr>\n",
       "  </tbody>\n",
       "</table>\n",
       "</div>"
      ],
      "text/plain": [
       "   CaseNumber      File Case directory\n",
       "0           1  AFC0.jpg       Case_001\n",
       "1           1  AFC1.jpg       Case_001\n",
       "2           2  AJL0.jpg       Case_002\n",
       "3           2  AJL1.jpg       Case_002\n",
       "4           3  AGY0.jpg       Case_003"
      ]
     },
     "execution_count": 114,
     "metadata": {},
     "output_type": "execute_result"
    }
   ],
   "source": [
    "df_via['Case directory'] = directory_cases_names_via\n",
    "df_via.head()"
   ]
  },
  {
   "cell_type": "code",
   "execution_count": 115,
   "id": "54bf9852-9bb3-4052-879f-2f9b0a236da1",
   "metadata": {
    "tags": []
   },
   "outputs": [],
   "source": [
    "diagnosis_via = np.zeros(len(df_via), dtype=int)\n",
    "df_via['Diagnosis'] = diagnosis_via"
   ]
  },
  {
   "cell_type": "code",
   "execution_count": 116,
   "id": "ce051187-24f1-454c-9e88-4ba3b59e51a7",
   "metadata": {
    "tags": []
   },
   "outputs": [],
   "source": [
    "df_via['Diagnosis'] = np.where(df_images_via['CaseNumber'].isin(normal_cases_ids), 0, df_via['Diagnosis'])\n",
    "df_via['Diagnosis'] = np.where(df_images_via['CaseNumber'].isin(cin1_cases_ids), 1, df_via['Diagnosis'])\n",
    "df_via['Diagnosis'] = np.where(df_images_via['CaseNumber'].isin(cin2_cases_ids), 2, df_via['Diagnosis'])\n",
    "df_via['Diagnosis'] = np.where(df_images_via['CaseNumber'].isin(cin3_cases_ids), 3, df_via['Diagnosis'])"
   ]
  },
  {
   "cell_type": "code",
   "execution_count": 117,
   "id": "92bf14c2-58c1-4942-a342-b1afe53d7ff6",
   "metadata": {},
   "outputs": [
    {
     "data": {
      "text/plain": [
       "array([0, 1, 2, 3])"
      ]
     },
     "execution_count": 117,
     "metadata": {},
     "output_type": "execute_result"
    }
   ],
   "source": [
    "df_via['Diagnosis'].unique()"
   ]
  },
  {
   "cell_type": "code",
   "execution_count": 118,
   "id": "0724da07-b1f5-446e-a9a9-1c8188b0d630",
   "metadata": {
    "tags": []
   },
   "outputs": [],
   "source": [
    "df_via['File'] = iarc_via_datapath+df_via['Case directory']+'/'+df_via['File']\n",
    "df_via = df_via.drop('Case directory', axis=1)"
   ]
  },
  {
   "cell_type": "code",
   "execution_count": 119,
   "id": "93ca12de-4eb8-4d83-b1d3-36e334ee7ace",
   "metadata": {
    "tags": []
   },
   "outputs": [
    {
     "data": {
      "text/plain": [
       "array([[1,\n",
       "        '/workspace/experiments/vit/datasets/IARCImageBankVIA/Case_001/AFC0.jpg',\n",
       "        0],\n",
       "       [1,\n",
       "        '/workspace/experiments/vit/datasets/IARCImageBankVIA/Case_001/AFC1.jpg',\n",
       "        0],\n",
       "       [2,\n",
       "        '/workspace/experiments/vit/datasets/IARCImageBankVIA/Case_002/AJL0.jpg',\n",
       "        0],\n",
       "       ...,\n",
       "       [185,\n",
       "        '/workspace/experiments/vit/datasets/IARCImageBankVIA/Case_185/ADF1.jpg',\n",
       "        0],\n",
       "       [186,\n",
       "        '/workspace/experiments/vit/datasets/IARCImageBankVIA/Case_186/ABK0.jpg',\n",
       "        0],\n",
       "       [186,\n",
       "        '/workspace/experiments/vit/datasets/IARCImageBankVIA/Case_186/ABK1.jpg',\n",
       "        0]], dtype=object)"
      ]
     },
     "execution_count": 119,
     "metadata": {},
     "output_type": "execute_result"
    }
   ],
   "source": [
    "df_via.values"
   ]
  },
  {
   "cell_type": "code",
   "execution_count": 120,
   "id": "ec951ba8-1b9f-4238-bc7d-7cdf0eb922a7",
   "metadata": {
    "tags": []
   },
   "outputs": [
    {
     "data": {
      "text/html": [
       "<div>\n",
       "<style scoped>\n",
       "    .dataframe tbody tr th:only-of-type {\n",
       "        vertical-align: middle;\n",
       "    }\n",
       "\n",
       "    .dataframe tbody tr th {\n",
       "        vertical-align: top;\n",
       "    }\n",
       "\n",
       "    .dataframe thead th {\n",
       "        text-align: right;\n",
       "    }\n",
       "</style>\n",
       "<table border=\"1\" class=\"dataframe\">\n",
       "  <thead>\n",
       "    <tr style=\"text-align: right;\">\n",
       "      <th></th>\n",
       "      <th>File</th>\n",
       "    </tr>\n",
       "  </thead>\n",
       "  <tbody>\n",
       "    <tr>\n",
       "      <th>count</th>\n",
       "      <td>417</td>\n",
       "    </tr>\n",
       "    <tr>\n",
       "      <th>unique</th>\n",
       "      <td>417</td>\n",
       "    </tr>\n",
       "    <tr>\n",
       "      <th>top</th>\n",
       "      <td>/workspace/experiments/vit/datasets/IARCImageB...</td>\n",
       "    </tr>\n",
       "    <tr>\n",
       "      <th>freq</th>\n",
       "      <td>1</td>\n",
       "    </tr>\n",
       "  </tbody>\n",
       "</table>\n",
       "</div>"
      ],
      "text/plain": [
       "                                                     File\n",
       "count                                                 417\n",
       "unique                                                417\n",
       "top     /workspace/experiments/vit/datasets/IARCImageB...\n",
       "freq                                                    1"
      ]
     },
     "execution_count": 120,
     "metadata": {},
     "output_type": "execute_result"
    }
   ],
   "source": [
    "df_via.describe(include=object)"
   ]
  },
  {
   "cell_type": "markdown",
   "id": "680d706b-aecc-4b55-a884-b5101cc10de9",
   "metadata": {},
   "source": [
    "### Merging both dataframes"
   ]
  },
  {
   "cell_type": "code",
   "execution_count": 121,
   "id": "665e7617-a308-428b-8d46-5a35fee6e9b3",
   "metadata": {},
   "outputs": [
    {
     "data": {
      "text/html": [
       "<div>\n",
       "<style scoped>\n",
       "    .dataframe tbody tr th:only-of-type {\n",
       "        vertical-align: middle;\n",
       "    }\n",
       "\n",
       "    .dataframe tbody tr th {\n",
       "        vertical-align: top;\n",
       "    }\n",
       "\n",
       "    .dataframe thead th {\n",
       "        text-align: right;\n",
       "    }\n",
       "</style>\n",
       "<table border=\"1\" class=\"dataframe\">\n",
       "  <thead>\n",
       "    <tr style=\"text-align: right;\">\n",
       "      <th></th>\n",
       "      <th>Case Number</th>\n",
       "      <th>File</th>\n",
       "      <th>Diagnosis</th>\n",
       "    </tr>\n",
       "  </thead>\n",
       "  <tbody>\n",
       "    <tr>\n",
       "      <th>0</th>\n",
       "      <td>1</td>\n",
       "      <td>/workspace/experiments/vit/datasets/IARCImageB...</td>\n",
       "      <td>0</td>\n",
       "    </tr>\n",
       "    <tr>\n",
       "      <th>1</th>\n",
       "      <td>1</td>\n",
       "      <td>/workspace/experiments/vit/datasets/IARCImageB...</td>\n",
       "      <td>0</td>\n",
       "    </tr>\n",
       "    <tr>\n",
       "      <th>2</th>\n",
       "      <td>1</td>\n",
       "      <td>/workspace/experiments/vit/datasets/IARCImageB...</td>\n",
       "      <td>0</td>\n",
       "    </tr>\n",
       "    <tr>\n",
       "      <th>3</th>\n",
       "      <td>1</td>\n",
       "      <td>/workspace/experiments/vit/datasets/IARCImageB...</td>\n",
       "      <td>0</td>\n",
       "    </tr>\n",
       "    <tr>\n",
       "      <th>4</th>\n",
       "      <td>2</td>\n",
       "      <td>/workspace/experiments/vit/datasets/IARCImageB...</td>\n",
       "      <td>0</td>\n",
       "    </tr>\n",
       "    <tr>\n",
       "      <th>...</th>\n",
       "      <td>...</td>\n",
       "      <td>...</td>\n",
       "      <td>...</td>\n",
       "    </tr>\n",
       "    <tr>\n",
       "      <th>900</th>\n",
       "      <td>199</td>\n",
       "      <td>/workspace/experiments/vit/datasets/IARCImageB...</td>\n",
       "      <td>0</td>\n",
       "    </tr>\n",
       "    <tr>\n",
       "      <th>901</th>\n",
       "      <td>200</td>\n",
       "      <td>/workspace/experiments/vit/datasets/IARCImageB...</td>\n",
       "      <td>0</td>\n",
       "    </tr>\n",
       "    <tr>\n",
       "      <th>902</th>\n",
       "      <td>200</td>\n",
       "      <td>/workspace/experiments/vit/datasets/IARCImageB...</td>\n",
       "      <td>0</td>\n",
       "    </tr>\n",
       "    <tr>\n",
       "      <th>903</th>\n",
       "      <td>200</td>\n",
       "      <td>/workspace/experiments/vit/datasets/IARCImageB...</td>\n",
       "      <td>0</td>\n",
       "    </tr>\n",
       "    <tr>\n",
       "      <th>904</th>\n",
       "      <td>200</td>\n",
       "      <td>/workspace/experiments/vit/datasets/IARCImageB...</td>\n",
       "      <td>0</td>\n",
       "    </tr>\n",
       "  </tbody>\n",
       "</table>\n",
       "<p>904 rows × 3 columns</p>\n",
       "</div>"
      ],
      "text/plain": [
       "     Case Number                                               File  Diagnosis\n",
       "0              1  /workspace/experiments/vit/datasets/IARCImageB...          0\n",
       "1              1  /workspace/experiments/vit/datasets/IARCImageB...          0\n",
       "2              1  /workspace/experiments/vit/datasets/IARCImageB...          0\n",
       "3              1  /workspace/experiments/vit/datasets/IARCImageB...          0\n",
       "4              2  /workspace/experiments/vit/datasets/IARCImageB...          0\n",
       "..           ...                                                ...        ...\n",
       "900          199  /workspace/experiments/vit/datasets/IARCImageB...          0\n",
       "901          200  /workspace/experiments/vit/datasets/IARCImageB...          0\n",
       "902          200  /workspace/experiments/vit/datasets/IARCImageB...          0\n",
       "903          200  /workspace/experiments/vit/datasets/IARCImageB...          0\n",
       "904          200  /workspace/experiments/vit/datasets/IARCImageB...          0\n",
       "\n",
       "[904 rows x 3 columns]"
      ]
     },
     "execution_count": 121,
     "metadata": {},
     "output_type": "execute_result"
    }
   ],
   "source": [
    "df_colpo"
   ]
  },
  {
   "cell_type": "code",
   "execution_count": 122,
   "id": "3a5981f1-9989-4ee9-804d-ae6e337725fe",
   "metadata": {},
   "outputs": [
    {
     "data": {
      "text/plain": [
       "200"
      ]
     },
     "execution_count": 122,
     "metadata": {},
     "output_type": "execute_result"
    }
   ],
   "source": [
    "df_colpo['Case Number'].unique().max()"
   ]
  },
  {
   "cell_type": "code",
   "execution_count": 123,
   "id": "75d92c7a-5edd-445c-b83b-17dd2de10104",
   "metadata": {},
   "outputs": [
    {
     "data": {
      "text/html": [
       "<div>\n",
       "<style scoped>\n",
       "    .dataframe tbody tr th:only-of-type {\n",
       "        vertical-align: middle;\n",
       "    }\n",
       "\n",
       "    .dataframe tbody tr th {\n",
       "        vertical-align: top;\n",
       "    }\n",
       "\n",
       "    .dataframe thead th {\n",
       "        text-align: right;\n",
       "    }\n",
       "</style>\n",
       "<table border=\"1\" class=\"dataframe\">\n",
       "  <thead>\n",
       "    <tr style=\"text-align: right;\">\n",
       "      <th></th>\n",
       "      <th>Case Number</th>\n",
       "      <th>File</th>\n",
       "      <th>Diagnosis</th>\n",
       "    </tr>\n",
       "  </thead>\n",
       "  <tbody>\n",
       "    <tr>\n",
       "      <th>0</th>\n",
       "      <td>1</td>\n",
       "      <td>/workspace/experiments/vit/datasets/IARCImageB...</td>\n",
       "      <td>0</td>\n",
       "    </tr>\n",
       "    <tr>\n",
       "      <th>1</th>\n",
       "      <td>1</td>\n",
       "      <td>/workspace/experiments/vit/datasets/IARCImageB...</td>\n",
       "      <td>0</td>\n",
       "    </tr>\n",
       "    <tr>\n",
       "      <th>2</th>\n",
       "      <td>2</td>\n",
       "      <td>/workspace/experiments/vit/datasets/IARCImageB...</td>\n",
       "      <td>0</td>\n",
       "    </tr>\n",
       "    <tr>\n",
       "      <th>3</th>\n",
       "      <td>2</td>\n",
       "      <td>/workspace/experiments/vit/datasets/IARCImageB...</td>\n",
       "      <td>0</td>\n",
       "    </tr>\n",
       "    <tr>\n",
       "      <th>4</th>\n",
       "      <td>3</td>\n",
       "      <td>/workspace/experiments/vit/datasets/IARCImageB...</td>\n",
       "      <td>0</td>\n",
       "    </tr>\n",
       "    <tr>\n",
       "      <th>...</th>\n",
       "      <td>...</td>\n",
       "      <td>...</td>\n",
       "      <td>...</td>\n",
       "    </tr>\n",
       "    <tr>\n",
       "      <th>415</th>\n",
       "      <td>184</td>\n",
       "      <td>/workspace/experiments/vit/datasets/IARCImageB...</td>\n",
       "      <td>0</td>\n",
       "    </tr>\n",
       "    <tr>\n",
       "      <th>416</th>\n",
       "      <td>185</td>\n",
       "      <td>/workspace/experiments/vit/datasets/IARCImageB...</td>\n",
       "      <td>0</td>\n",
       "    </tr>\n",
       "    <tr>\n",
       "      <th>417</th>\n",
       "      <td>185</td>\n",
       "      <td>/workspace/experiments/vit/datasets/IARCImageB...</td>\n",
       "      <td>0</td>\n",
       "    </tr>\n",
       "    <tr>\n",
       "      <th>418</th>\n",
       "      <td>186</td>\n",
       "      <td>/workspace/experiments/vit/datasets/IARCImageB...</td>\n",
       "      <td>0</td>\n",
       "    </tr>\n",
       "    <tr>\n",
       "      <th>419</th>\n",
       "      <td>186</td>\n",
       "      <td>/workspace/experiments/vit/datasets/IARCImageB...</td>\n",
       "      <td>0</td>\n",
       "    </tr>\n",
       "  </tbody>\n",
       "</table>\n",
       "<p>417 rows × 3 columns</p>\n",
       "</div>"
      ],
      "text/plain": [
       "     Case Number                                               File  Diagnosis\n",
       "0              1  /workspace/experiments/vit/datasets/IARCImageB...          0\n",
       "1              1  /workspace/experiments/vit/datasets/IARCImageB...          0\n",
       "2              2  /workspace/experiments/vit/datasets/IARCImageB...          0\n",
       "3              2  /workspace/experiments/vit/datasets/IARCImageB...          0\n",
       "4              3  /workspace/experiments/vit/datasets/IARCImageB...          0\n",
       "..           ...                                                ...        ...\n",
       "415          184  /workspace/experiments/vit/datasets/IARCImageB...          0\n",
       "416          185  /workspace/experiments/vit/datasets/IARCImageB...          0\n",
       "417          185  /workspace/experiments/vit/datasets/IARCImageB...          0\n",
       "418          186  /workspace/experiments/vit/datasets/IARCImageB...          0\n",
       "419          186  /workspace/experiments/vit/datasets/IARCImageB...          0\n",
       "\n",
       "[417 rows x 3 columns]"
      ]
     },
     "execution_count": 123,
     "metadata": {},
     "output_type": "execute_result"
    }
   ],
   "source": [
    "df_via.rename(columns={'CaseNumber': 'Case Number'}, inplace=True)\n",
    "df_via"
   ]
  },
  {
   "cell_type": "code",
   "execution_count": 124,
   "id": "5f22bcf1-6d47-4c76-b1f0-d5d7b2b0b26e",
   "metadata": {},
   "outputs": [],
   "source": [
    "df_via['Case Number'] += 200"
   ]
  },
  {
   "cell_type": "code",
   "execution_count": 125,
   "id": "a5b401ea-79e6-41be-9a6e-424cbb32087c",
   "metadata": {},
   "outputs": [
    {
     "data": {
      "text/plain": [
       "array([201, 202, 203, 204, 205, 206, 207, 208, 209, 210, 211, 212, 213,\n",
       "       214, 215, 216, 217, 218, 219, 220, 221, 222, 223, 224, 225, 226,\n",
       "       227, 228, 229, 230, 231, 232, 233, 234, 235, 236, 237, 238, 239,\n",
       "       240, 241, 242, 243, 244, 245, 246, 247, 248, 249, 250, 251, 252,\n",
       "       253, 254, 255, 256, 257, 258, 259, 260, 261, 262, 263, 264, 265,\n",
       "       266, 267, 268, 269, 270, 271, 272, 273, 274, 275, 276, 277, 278,\n",
       "       279, 280, 281, 282, 283, 284, 285, 286, 287, 288, 289, 290, 291,\n",
       "       292, 293, 294, 295, 296, 297, 298, 299, 300, 301, 302, 303, 304,\n",
       "       305, 306, 307, 308, 309, 310, 311, 312, 313, 314, 315, 316, 317,\n",
       "       318, 319, 320, 321, 322, 323, 324, 325, 326, 327, 328, 329, 330,\n",
       "       331, 332, 333, 334, 335, 336, 337, 338, 339, 340, 341, 342, 343,\n",
       "       344, 345, 346, 347, 348, 349, 350, 351, 352, 353, 354, 355, 356,\n",
       "       357, 358, 359, 360, 361, 362, 363, 364, 365, 367, 368, 369, 370,\n",
       "       371, 372, 373, 374, 375, 376, 377, 378, 379, 380, 381, 382, 383,\n",
       "       384, 385, 386])"
      ]
     },
     "execution_count": 125,
     "metadata": {},
     "output_type": "execute_result"
    }
   ],
   "source": [
    "df_via['Case Number'].unique()"
   ]
  },
  {
   "cell_type": "code",
   "execution_count": 126,
   "id": "fa24d91b-3d16-43f4-b540-7a4e891cd482",
   "metadata": {},
   "outputs": [
    {
     "data": {
      "text/html": [
       "<div>\n",
       "<style scoped>\n",
       "    .dataframe tbody tr th:only-of-type {\n",
       "        vertical-align: middle;\n",
       "    }\n",
       "\n",
       "    .dataframe tbody tr th {\n",
       "        vertical-align: top;\n",
       "    }\n",
       "\n",
       "    .dataframe thead th {\n",
       "        text-align: right;\n",
       "    }\n",
       "</style>\n",
       "<table border=\"1\" class=\"dataframe\">\n",
       "  <thead>\n",
       "    <tr style=\"text-align: right;\">\n",
       "      <th></th>\n",
       "      <th>index</th>\n",
       "      <th>Case Number</th>\n",
       "      <th>File</th>\n",
       "      <th>Diagnosis</th>\n",
       "    </tr>\n",
       "  </thead>\n",
       "  <tbody>\n",
       "    <tr>\n",
       "      <th>0</th>\n",
       "      <td>0</td>\n",
       "      <td>1</td>\n",
       "      <td>/workspace/experiments/vit/datasets/IARCImageB...</td>\n",
       "      <td>0</td>\n",
       "    </tr>\n",
       "    <tr>\n",
       "      <th>1</th>\n",
       "      <td>1</td>\n",
       "      <td>1</td>\n",
       "      <td>/workspace/experiments/vit/datasets/IARCImageB...</td>\n",
       "      <td>0</td>\n",
       "    </tr>\n",
       "    <tr>\n",
       "      <th>2</th>\n",
       "      <td>2</td>\n",
       "      <td>1</td>\n",
       "      <td>/workspace/experiments/vit/datasets/IARCImageB...</td>\n",
       "      <td>0</td>\n",
       "    </tr>\n",
       "    <tr>\n",
       "      <th>3</th>\n",
       "      <td>3</td>\n",
       "      <td>1</td>\n",
       "      <td>/workspace/experiments/vit/datasets/IARCImageB...</td>\n",
       "      <td>0</td>\n",
       "    </tr>\n",
       "    <tr>\n",
       "      <th>4</th>\n",
       "      <td>4</td>\n",
       "      <td>2</td>\n",
       "      <td>/workspace/experiments/vit/datasets/IARCImageB...</td>\n",
       "      <td>0</td>\n",
       "    </tr>\n",
       "    <tr>\n",
       "      <th>...</th>\n",
       "      <td>...</td>\n",
       "      <td>...</td>\n",
       "      <td>...</td>\n",
       "      <td>...</td>\n",
       "    </tr>\n",
       "    <tr>\n",
       "      <th>1316</th>\n",
       "      <td>415</td>\n",
       "      <td>384</td>\n",
       "      <td>/workspace/experiments/vit/datasets/IARCImageB...</td>\n",
       "      <td>0</td>\n",
       "    </tr>\n",
       "    <tr>\n",
       "      <th>1317</th>\n",
       "      <td>416</td>\n",
       "      <td>385</td>\n",
       "      <td>/workspace/experiments/vit/datasets/IARCImageB...</td>\n",
       "      <td>0</td>\n",
       "    </tr>\n",
       "    <tr>\n",
       "      <th>1318</th>\n",
       "      <td>417</td>\n",
       "      <td>385</td>\n",
       "      <td>/workspace/experiments/vit/datasets/IARCImageB...</td>\n",
       "      <td>0</td>\n",
       "    </tr>\n",
       "    <tr>\n",
       "      <th>1319</th>\n",
       "      <td>418</td>\n",
       "      <td>386</td>\n",
       "      <td>/workspace/experiments/vit/datasets/IARCImageB...</td>\n",
       "      <td>0</td>\n",
       "    </tr>\n",
       "    <tr>\n",
       "      <th>1320</th>\n",
       "      <td>419</td>\n",
       "      <td>386</td>\n",
       "      <td>/workspace/experiments/vit/datasets/IARCImageB...</td>\n",
       "      <td>0</td>\n",
       "    </tr>\n",
       "  </tbody>\n",
       "</table>\n",
       "<p>1321 rows × 4 columns</p>\n",
       "</div>"
      ],
      "text/plain": [
       "      index  Case Number                                               File  \\\n",
       "0         0            1  /workspace/experiments/vit/datasets/IARCImageB...   \n",
       "1         1            1  /workspace/experiments/vit/datasets/IARCImageB...   \n",
       "2         2            1  /workspace/experiments/vit/datasets/IARCImageB...   \n",
       "3         3            1  /workspace/experiments/vit/datasets/IARCImageB...   \n",
       "4         4            2  /workspace/experiments/vit/datasets/IARCImageB...   \n",
       "...     ...          ...                                                ...   \n",
       "1316    415          384  /workspace/experiments/vit/datasets/IARCImageB...   \n",
       "1317    416          385  /workspace/experiments/vit/datasets/IARCImageB...   \n",
       "1318    417          385  /workspace/experiments/vit/datasets/IARCImageB...   \n",
       "1319    418          386  /workspace/experiments/vit/datasets/IARCImageB...   \n",
       "1320    419          386  /workspace/experiments/vit/datasets/IARCImageB...   \n",
       "\n",
       "      Diagnosis  \n",
       "0             0  \n",
       "1             0  \n",
       "2             0  \n",
       "3             0  \n",
       "4             0  \n",
       "...         ...  \n",
       "1316          0  \n",
       "1317          0  \n",
       "1318          0  \n",
       "1319          0  \n",
       "1320          0  \n",
       "\n",
       "[1321 rows x 4 columns]"
      ]
     },
     "execution_count": 126,
     "metadata": {},
     "output_type": "execute_result"
    }
   ],
   "source": [
    "df_general = pd.concat([df_colpo, df_via])\n",
    "df_general = df_general.reset_index()\n",
    "df_general"
   ]
  },
  {
   "cell_type": "code",
   "execution_count": 127,
   "id": "e7474049-87b6-4805-a3a3-69844136687f",
   "metadata": {},
   "outputs": [
    {
     "data": {
      "text/html": [
       "<div>\n",
       "<style scoped>\n",
       "    .dataframe tbody tr th:only-of-type {\n",
       "        vertical-align: middle;\n",
       "    }\n",
       "\n",
       "    .dataframe tbody tr th {\n",
       "        vertical-align: top;\n",
       "    }\n",
       "\n",
       "    .dataframe thead th {\n",
       "        text-align: right;\n",
       "    }\n",
       "</style>\n",
       "<table border=\"1\" class=\"dataframe\">\n",
       "  <thead>\n",
       "    <tr style=\"text-align: right;\">\n",
       "      <th></th>\n",
       "      <th>Case Number</th>\n",
       "      <th>File</th>\n",
       "      <th>Diagnosis</th>\n",
       "    </tr>\n",
       "  </thead>\n",
       "  <tbody>\n",
       "    <tr>\n",
       "      <th>0</th>\n",
       "      <td>1</td>\n",
       "      <td>/workspace/experiments/vit/datasets/IARCImageB...</td>\n",
       "      <td>0</td>\n",
       "    </tr>\n",
       "    <tr>\n",
       "      <th>1</th>\n",
       "      <td>1</td>\n",
       "      <td>/workspace/experiments/vit/datasets/IARCImageB...</td>\n",
       "      <td>0</td>\n",
       "    </tr>\n",
       "    <tr>\n",
       "      <th>2</th>\n",
       "      <td>1</td>\n",
       "      <td>/workspace/experiments/vit/datasets/IARCImageB...</td>\n",
       "      <td>0</td>\n",
       "    </tr>\n",
       "    <tr>\n",
       "      <th>3</th>\n",
       "      <td>1</td>\n",
       "      <td>/workspace/experiments/vit/datasets/IARCImageB...</td>\n",
       "      <td>0</td>\n",
       "    </tr>\n",
       "    <tr>\n",
       "      <th>4</th>\n",
       "      <td>2</td>\n",
       "      <td>/workspace/experiments/vit/datasets/IARCImageB...</td>\n",
       "      <td>0</td>\n",
       "    </tr>\n",
       "    <tr>\n",
       "      <th>...</th>\n",
       "      <td>...</td>\n",
       "      <td>...</td>\n",
       "      <td>...</td>\n",
       "    </tr>\n",
       "    <tr>\n",
       "      <th>1316</th>\n",
       "      <td>384</td>\n",
       "      <td>/workspace/experiments/vit/datasets/IARCImageB...</td>\n",
       "      <td>0</td>\n",
       "    </tr>\n",
       "    <tr>\n",
       "      <th>1317</th>\n",
       "      <td>385</td>\n",
       "      <td>/workspace/experiments/vit/datasets/IARCImageB...</td>\n",
       "      <td>0</td>\n",
       "    </tr>\n",
       "    <tr>\n",
       "      <th>1318</th>\n",
       "      <td>385</td>\n",
       "      <td>/workspace/experiments/vit/datasets/IARCImageB...</td>\n",
       "      <td>0</td>\n",
       "    </tr>\n",
       "    <tr>\n",
       "      <th>1319</th>\n",
       "      <td>386</td>\n",
       "      <td>/workspace/experiments/vit/datasets/IARCImageB...</td>\n",
       "      <td>0</td>\n",
       "    </tr>\n",
       "    <tr>\n",
       "      <th>1320</th>\n",
       "      <td>386</td>\n",
       "      <td>/workspace/experiments/vit/datasets/IARCImageB...</td>\n",
       "      <td>0</td>\n",
       "    </tr>\n",
       "  </tbody>\n",
       "</table>\n",
       "<p>1321 rows × 3 columns</p>\n",
       "</div>"
      ],
      "text/plain": [
       "      Case Number                                               File  \\\n",
       "0               1  /workspace/experiments/vit/datasets/IARCImageB...   \n",
       "1               1  /workspace/experiments/vit/datasets/IARCImageB...   \n",
       "2               1  /workspace/experiments/vit/datasets/IARCImageB...   \n",
       "3               1  /workspace/experiments/vit/datasets/IARCImageB...   \n",
       "4               2  /workspace/experiments/vit/datasets/IARCImageB...   \n",
       "...           ...                                                ...   \n",
       "1316          384  /workspace/experiments/vit/datasets/IARCImageB...   \n",
       "1317          385  /workspace/experiments/vit/datasets/IARCImageB...   \n",
       "1318          385  /workspace/experiments/vit/datasets/IARCImageB...   \n",
       "1319          386  /workspace/experiments/vit/datasets/IARCImageB...   \n",
       "1320          386  /workspace/experiments/vit/datasets/IARCImageB...   \n",
       "\n",
       "      Diagnosis  \n",
       "0             0  \n",
       "1             0  \n",
       "2             0  \n",
       "3             0  \n",
       "4             0  \n",
       "...         ...  \n",
       "1316          0  \n",
       "1317          0  \n",
       "1318          0  \n",
       "1319          0  \n",
       "1320          0  \n",
       "\n",
       "[1321 rows x 3 columns]"
      ]
     },
     "execution_count": 127,
     "metadata": {},
     "output_type": "execute_result"
    }
   ],
   "source": [
    "df_general = df_general.loc[:, ['Case Number', 'File', 'Diagnosis']]\n",
    "df_general"
   ]
  },
  {
   "cell_type": "markdown",
   "id": "e540f5e8-b46a-4af2-8b7e-aec717f59f63",
   "metadata": {},
   "source": [
    "#### Split dataframe"
   ]
  },
  {
   "cell_type": "code",
   "execution_count": 128,
   "id": "bf389f02-5beb-4331-a3c2-b3d178a76c1a",
   "metadata": {},
   "outputs": [],
   "source": [
    "total_cases = df_general['Case Number'].unique()\n",
    "\n",
    "train_cases_aux, test_cases = functions.split_two(total_cases, train_ratio=0.8, val_ratio=0.2, seed=4619)\n",
    "train_cases, val_cases = functions.split_two(train_cases_aux, train_ratio=0.7, val_ratio=0.3, seed=3724)\n",
    "\n",
    "df_train = df_general[df_general['Case Number'].isin(train_cases)]\n",
    "df_val = df_general[df_general['Case Number'].isin(val_cases)]\n",
    "df_test = df_general[df_general['Case Number'].isin(test_cases)]"
   ]
  },
  {
   "cell_type": "code",
   "execution_count": 129,
   "id": "ee323a6d-ff6f-4d10-9118-b7980ed91d8b",
   "metadata": {},
   "outputs": [
    {
     "name": "stdout",
     "output_type": "stream",
     "text": [
      "[] [] []\n"
     ]
    }
   ],
   "source": [
    "#checking if its alright\n",
    "cases_inter_trainval = np.intersect1d(df_train['Case Number'].unique(), df_val['Case Number'].unique())\n",
    "cases_inter_valtest = np.intersect1d(df_test['Case Number'].unique(), df_val['Case Number'].unique())\n",
    "cases_inter_traintest = np.intersect1d(df_train['Case Number'].unique(), df_test['Case Number'].unique())\n",
    "print(cases_inter_trainval, cases_inter_valtest, cases_inter_traintest)"
   ]
  },
  {
   "cell_type": "code",
   "execution_count": 130,
   "id": "089965cc-9183-476b-a193-ec0e2ca40760",
   "metadata": {},
   "outputs": [
    {
     "data": {
      "text/html": [
       "<div>\n",
       "<style scoped>\n",
       "    .dataframe tbody tr th:only-of-type {\n",
       "        vertical-align: middle;\n",
       "    }\n",
       "\n",
       "    .dataframe tbody tr th {\n",
       "        vertical-align: top;\n",
       "    }\n",
       "\n",
       "    .dataframe thead th {\n",
       "        text-align: right;\n",
       "    }\n",
       "</style>\n",
       "<table border=\"1\" class=\"dataframe\">\n",
       "  <thead>\n",
       "    <tr style=\"text-align: right;\">\n",
       "      <th></th>\n",
       "      <th>Case Number</th>\n",
       "      <th>File</th>\n",
       "      <th>Diagnosis</th>\n",
       "    </tr>\n",
       "  </thead>\n",
       "  <tbody>\n",
       "    <tr>\n",
       "      <th>0</th>\n",
       "      <td>1</td>\n",
       "      <td>/workspace/experiments/vit/datasets/IARCImageB...</td>\n",
       "      <td>0</td>\n",
       "    </tr>\n",
       "    <tr>\n",
       "      <th>1</th>\n",
       "      <td>1</td>\n",
       "      <td>/workspace/experiments/vit/datasets/IARCImageB...</td>\n",
       "      <td>0</td>\n",
       "    </tr>\n",
       "    <tr>\n",
       "      <th>2</th>\n",
       "      <td>1</td>\n",
       "      <td>/workspace/experiments/vit/datasets/IARCImageB...</td>\n",
       "      <td>0</td>\n",
       "    </tr>\n",
       "    <tr>\n",
       "      <th>3</th>\n",
       "      <td>1</td>\n",
       "      <td>/workspace/experiments/vit/datasets/IARCImageB...</td>\n",
       "      <td>0</td>\n",
       "    </tr>\n",
       "    <tr>\n",
       "      <th>12</th>\n",
       "      <td>4</td>\n",
       "      <td>/workspace/experiments/vit/datasets/IARCImageB...</td>\n",
       "      <td>0</td>\n",
       "    </tr>\n",
       "    <tr>\n",
       "      <th>...</th>\n",
       "      <td>...</td>\n",
       "      <td>...</td>\n",
       "      <td>...</td>\n",
       "    </tr>\n",
       "    <tr>\n",
       "      <th>1308</th>\n",
       "      <td>380</td>\n",
       "      <td>/workspace/experiments/vit/datasets/IARCImageB...</td>\n",
       "      <td>0</td>\n",
       "    </tr>\n",
       "    <tr>\n",
       "      <th>1309</th>\n",
       "      <td>381</td>\n",
       "      <td>/workspace/experiments/vit/datasets/IARCImageB...</td>\n",
       "      <td>0</td>\n",
       "    </tr>\n",
       "    <tr>\n",
       "      <th>1310</th>\n",
       "      <td>381</td>\n",
       "      <td>/workspace/experiments/vit/datasets/IARCImageB...</td>\n",
       "      <td>0</td>\n",
       "    </tr>\n",
       "    <tr>\n",
       "      <th>1315</th>\n",
       "      <td>384</td>\n",
       "      <td>/workspace/experiments/vit/datasets/IARCImageB...</td>\n",
       "      <td>0</td>\n",
       "    </tr>\n",
       "    <tr>\n",
       "      <th>1316</th>\n",
       "      <td>384</td>\n",
       "      <td>/workspace/experiments/vit/datasets/IARCImageB...</td>\n",
       "      <td>0</td>\n",
       "    </tr>\n",
       "  </tbody>\n",
       "</table>\n",
       "<p>750 rows × 3 columns</p>\n",
       "</div>"
      ],
      "text/plain": [
       "      Case Number                                               File  \\\n",
       "0               1  /workspace/experiments/vit/datasets/IARCImageB...   \n",
       "1               1  /workspace/experiments/vit/datasets/IARCImageB...   \n",
       "2               1  /workspace/experiments/vit/datasets/IARCImageB...   \n",
       "3               1  /workspace/experiments/vit/datasets/IARCImageB...   \n",
       "12              4  /workspace/experiments/vit/datasets/IARCImageB...   \n",
       "...           ...                                                ...   \n",
       "1308          380  /workspace/experiments/vit/datasets/IARCImageB...   \n",
       "1309          381  /workspace/experiments/vit/datasets/IARCImageB...   \n",
       "1310          381  /workspace/experiments/vit/datasets/IARCImageB...   \n",
       "1315          384  /workspace/experiments/vit/datasets/IARCImageB...   \n",
       "1316          384  /workspace/experiments/vit/datasets/IARCImageB...   \n",
       "\n",
       "      Diagnosis  \n",
       "0             0  \n",
       "1             0  \n",
       "2             0  \n",
       "3             0  \n",
       "12            0  \n",
       "...         ...  \n",
       "1308          0  \n",
       "1309          0  \n",
       "1310          0  \n",
       "1315          0  \n",
       "1316          0  \n",
       "\n",
       "[750 rows x 3 columns]"
      ]
     },
     "execution_count": 130,
     "metadata": {},
     "output_type": "execute_result"
    }
   ],
   "source": [
    "df_train"
   ]
  },
  {
   "cell_type": "code",
   "execution_count": 131,
   "id": "62f6e496-bb02-4142-9ac2-b0d1ff29d88e",
   "metadata": {},
   "outputs": [
    {
     "data": {
      "text/html": [
       "<div>\n",
       "<style scoped>\n",
       "    .dataframe tbody tr th:only-of-type {\n",
       "        vertical-align: middle;\n",
       "    }\n",
       "\n",
       "    .dataframe tbody tr th {\n",
       "        vertical-align: top;\n",
       "    }\n",
       "\n",
       "    .dataframe thead th {\n",
       "        text-align: right;\n",
       "    }\n",
       "</style>\n",
       "<table border=\"1\" class=\"dataframe\">\n",
       "  <thead>\n",
       "    <tr style=\"text-align: right;\">\n",
       "      <th></th>\n",
       "      <th>Case Number</th>\n",
       "      <th>File</th>\n",
       "      <th>Diagnosis</th>\n",
       "    </tr>\n",
       "  </thead>\n",
       "  <tbody>\n",
       "    <tr>\n",
       "      <th>0</th>\n",
       "      <td>1</td>\n",
       "      <td>/workspace/experiments/vit/datasets/IARCImageB...</td>\n",
       "      <td>0</td>\n",
       "    </tr>\n",
       "    <tr>\n",
       "      <th>1</th>\n",
       "      <td>1</td>\n",
       "      <td>/workspace/experiments/vit/datasets/IARCImageB...</td>\n",
       "      <td>0</td>\n",
       "    </tr>\n",
       "    <tr>\n",
       "      <th>2</th>\n",
       "      <td>1</td>\n",
       "      <td>/workspace/experiments/vit/datasets/IARCImageB...</td>\n",
       "      <td>0</td>\n",
       "    </tr>\n",
       "    <tr>\n",
       "      <th>3</th>\n",
       "      <td>1</td>\n",
       "      <td>/workspace/experiments/vit/datasets/IARCImageB...</td>\n",
       "      <td>0</td>\n",
       "    </tr>\n",
       "    <tr>\n",
       "      <th>4</th>\n",
       "      <td>4</td>\n",
       "      <td>/workspace/experiments/vit/datasets/IARCImageB...</td>\n",
       "      <td>0</td>\n",
       "    </tr>\n",
       "    <tr>\n",
       "      <th>...</th>\n",
       "      <td>...</td>\n",
       "      <td>...</td>\n",
       "      <td>...</td>\n",
       "    </tr>\n",
       "    <tr>\n",
       "      <th>745</th>\n",
       "      <td>380</td>\n",
       "      <td>/workspace/experiments/vit/datasets/IARCImageB...</td>\n",
       "      <td>0</td>\n",
       "    </tr>\n",
       "    <tr>\n",
       "      <th>746</th>\n",
       "      <td>381</td>\n",
       "      <td>/workspace/experiments/vit/datasets/IARCImageB...</td>\n",
       "      <td>0</td>\n",
       "    </tr>\n",
       "    <tr>\n",
       "      <th>747</th>\n",
       "      <td>381</td>\n",
       "      <td>/workspace/experiments/vit/datasets/IARCImageB...</td>\n",
       "      <td>0</td>\n",
       "    </tr>\n",
       "    <tr>\n",
       "      <th>748</th>\n",
       "      <td>384</td>\n",
       "      <td>/workspace/experiments/vit/datasets/IARCImageB...</td>\n",
       "      <td>0</td>\n",
       "    </tr>\n",
       "    <tr>\n",
       "      <th>749</th>\n",
       "      <td>384</td>\n",
       "      <td>/workspace/experiments/vit/datasets/IARCImageB...</td>\n",
       "      <td>0</td>\n",
       "    </tr>\n",
       "  </tbody>\n",
       "</table>\n",
       "<p>750 rows × 3 columns</p>\n",
       "</div>"
      ],
      "text/plain": [
       "     Case Number                                               File  Diagnosis\n",
       "0              1  /workspace/experiments/vit/datasets/IARCImageB...          0\n",
       "1              1  /workspace/experiments/vit/datasets/IARCImageB...          0\n",
       "2              1  /workspace/experiments/vit/datasets/IARCImageB...          0\n",
       "3              1  /workspace/experiments/vit/datasets/IARCImageB...          0\n",
       "4              4  /workspace/experiments/vit/datasets/IARCImageB...          0\n",
       "..           ...                                                ...        ...\n",
       "745          380  /workspace/experiments/vit/datasets/IARCImageB...          0\n",
       "746          381  /workspace/experiments/vit/datasets/IARCImageB...          0\n",
       "747          381  /workspace/experiments/vit/datasets/IARCImageB...          0\n",
       "748          384  /workspace/experiments/vit/datasets/IARCImageB...          0\n",
       "749          384  /workspace/experiments/vit/datasets/IARCImageB...          0\n",
       "\n",
       "[750 rows x 3 columns]"
      ]
     },
     "execution_count": 131,
     "metadata": {},
     "output_type": "execute_result"
    }
   ],
   "source": [
    "df_train = df_train.reset_index()\n",
    "df_train = df_train.loc[:, ['Case Number', 'File', 'Diagnosis']]\n",
    "df_train"
   ]
  },
  {
   "cell_type": "code",
   "execution_count": 132,
   "id": "db5bfda1-0c72-43d0-81ce-5391fb1252fa",
   "metadata": {},
   "outputs": [
    {
     "data": {
      "text/html": [
       "<div>\n",
       "<style scoped>\n",
       "    .dataframe tbody tr th:only-of-type {\n",
       "        vertical-align: middle;\n",
       "    }\n",
       "\n",
       "    .dataframe tbody tr th {\n",
       "        vertical-align: top;\n",
       "    }\n",
       "\n",
       "    .dataframe thead th {\n",
       "        text-align: right;\n",
       "    }\n",
       "</style>\n",
       "<table border=\"1\" class=\"dataframe\">\n",
       "  <thead>\n",
       "    <tr style=\"text-align: right;\">\n",
       "      <th></th>\n",
       "      <th>Case Number</th>\n",
       "      <th>File</th>\n",
       "      <th>Diagnosis</th>\n",
       "    </tr>\n",
       "  </thead>\n",
       "  <tbody>\n",
       "    <tr>\n",
       "      <th>39</th>\n",
       "      <td>10</td>\n",
       "      <td>/workspace/experiments/vit/datasets/IARCImageB...</td>\n",
       "      <td>0</td>\n",
       "    </tr>\n",
       "    <tr>\n",
       "      <th>40</th>\n",
       "      <td>10</td>\n",
       "      <td>/workspace/experiments/vit/datasets/IARCImageB...</td>\n",
       "      <td>0</td>\n",
       "    </tr>\n",
       "    <tr>\n",
       "      <th>41</th>\n",
       "      <td>10</td>\n",
       "      <td>/workspace/experiments/vit/datasets/IARCImageB...</td>\n",
       "      <td>0</td>\n",
       "    </tr>\n",
       "    <tr>\n",
       "      <th>42</th>\n",
       "      <td>10</td>\n",
       "      <td>/workspace/experiments/vit/datasets/IARCImageB...</td>\n",
       "      <td>0</td>\n",
       "    </tr>\n",
       "    <tr>\n",
       "      <th>82</th>\n",
       "      <td>20</td>\n",
       "      <td>/workspace/experiments/vit/datasets/IARCImageB...</td>\n",
       "      <td>0</td>\n",
       "    </tr>\n",
       "    <tr>\n",
       "      <th>...</th>\n",
       "      <td>...</td>\n",
       "      <td>...</td>\n",
       "      <td>...</td>\n",
       "    </tr>\n",
       "    <tr>\n",
       "      <th>1302</th>\n",
       "      <td>377</td>\n",
       "      <td>/workspace/experiments/vit/datasets/IARCImageB...</td>\n",
       "      <td>0</td>\n",
       "    </tr>\n",
       "    <tr>\n",
       "      <th>1303</th>\n",
       "      <td>378</td>\n",
       "      <td>/workspace/experiments/vit/datasets/IARCImageB...</td>\n",
       "      <td>0</td>\n",
       "    </tr>\n",
       "    <tr>\n",
       "      <th>1304</th>\n",
       "      <td>378</td>\n",
       "      <td>/workspace/experiments/vit/datasets/IARCImageB...</td>\n",
       "      <td>0</td>\n",
       "    </tr>\n",
       "    <tr>\n",
       "      <th>1313</th>\n",
       "      <td>383</td>\n",
       "      <td>/workspace/experiments/vit/datasets/IARCImageB...</td>\n",
       "      <td>0</td>\n",
       "    </tr>\n",
       "    <tr>\n",
       "      <th>1314</th>\n",
       "      <td>383</td>\n",
       "      <td>/workspace/experiments/vit/datasets/IARCImageB...</td>\n",
       "      <td>0</td>\n",
       "    </tr>\n",
       "  </tbody>\n",
       "</table>\n",
       "<p>312 rows × 3 columns</p>\n",
       "</div>"
      ],
      "text/plain": [
       "      Case Number                                               File  \\\n",
       "39             10  /workspace/experiments/vit/datasets/IARCImageB...   \n",
       "40             10  /workspace/experiments/vit/datasets/IARCImageB...   \n",
       "41             10  /workspace/experiments/vit/datasets/IARCImageB...   \n",
       "42             10  /workspace/experiments/vit/datasets/IARCImageB...   \n",
       "82             20  /workspace/experiments/vit/datasets/IARCImageB...   \n",
       "...           ...                                                ...   \n",
       "1302          377  /workspace/experiments/vit/datasets/IARCImageB...   \n",
       "1303          378  /workspace/experiments/vit/datasets/IARCImageB...   \n",
       "1304          378  /workspace/experiments/vit/datasets/IARCImageB...   \n",
       "1313          383  /workspace/experiments/vit/datasets/IARCImageB...   \n",
       "1314          383  /workspace/experiments/vit/datasets/IARCImageB...   \n",
       "\n",
       "      Diagnosis  \n",
       "39            0  \n",
       "40            0  \n",
       "41            0  \n",
       "42            0  \n",
       "82            0  \n",
       "...         ...  \n",
       "1302          0  \n",
       "1303          0  \n",
       "1304          0  \n",
       "1313          0  \n",
       "1314          0  \n",
       "\n",
       "[312 rows x 3 columns]"
      ]
     },
     "execution_count": 132,
     "metadata": {},
     "output_type": "execute_result"
    }
   ],
   "source": [
    "df_val"
   ]
  },
  {
   "cell_type": "code",
   "execution_count": 133,
   "id": "81c3905d-ae22-4d18-9f3c-f8049e9e7e67",
   "metadata": {},
   "outputs": [
    {
     "data": {
      "text/html": [
       "<div>\n",
       "<style scoped>\n",
       "    .dataframe tbody tr th:only-of-type {\n",
       "        vertical-align: middle;\n",
       "    }\n",
       "\n",
       "    .dataframe tbody tr th {\n",
       "        vertical-align: top;\n",
       "    }\n",
       "\n",
       "    .dataframe thead th {\n",
       "        text-align: right;\n",
       "    }\n",
       "</style>\n",
       "<table border=\"1\" class=\"dataframe\">\n",
       "  <thead>\n",
       "    <tr style=\"text-align: right;\">\n",
       "      <th></th>\n",
       "      <th>Case Number</th>\n",
       "      <th>File</th>\n",
       "      <th>Diagnosis</th>\n",
       "    </tr>\n",
       "  </thead>\n",
       "  <tbody>\n",
       "    <tr>\n",
       "      <th>0</th>\n",
       "      <td>10</td>\n",
       "      <td>/workspace/experiments/vit/datasets/IARCImageB...</td>\n",
       "      <td>0</td>\n",
       "    </tr>\n",
       "    <tr>\n",
       "      <th>1</th>\n",
       "      <td>10</td>\n",
       "      <td>/workspace/experiments/vit/datasets/IARCImageB...</td>\n",
       "      <td>0</td>\n",
       "    </tr>\n",
       "    <tr>\n",
       "      <th>2</th>\n",
       "      <td>10</td>\n",
       "      <td>/workspace/experiments/vit/datasets/IARCImageB...</td>\n",
       "      <td>0</td>\n",
       "    </tr>\n",
       "    <tr>\n",
       "      <th>3</th>\n",
       "      <td>10</td>\n",
       "      <td>/workspace/experiments/vit/datasets/IARCImageB...</td>\n",
       "      <td>0</td>\n",
       "    </tr>\n",
       "    <tr>\n",
       "      <th>4</th>\n",
       "      <td>20</td>\n",
       "      <td>/workspace/experiments/vit/datasets/IARCImageB...</td>\n",
       "      <td>0</td>\n",
       "    </tr>\n",
       "    <tr>\n",
       "      <th>...</th>\n",
       "      <td>...</td>\n",
       "      <td>...</td>\n",
       "      <td>...</td>\n",
       "    </tr>\n",
       "    <tr>\n",
       "      <th>307</th>\n",
       "      <td>377</td>\n",
       "      <td>/workspace/experiments/vit/datasets/IARCImageB...</td>\n",
       "      <td>0</td>\n",
       "    </tr>\n",
       "    <tr>\n",
       "      <th>308</th>\n",
       "      <td>378</td>\n",
       "      <td>/workspace/experiments/vit/datasets/IARCImageB...</td>\n",
       "      <td>0</td>\n",
       "    </tr>\n",
       "    <tr>\n",
       "      <th>309</th>\n",
       "      <td>378</td>\n",
       "      <td>/workspace/experiments/vit/datasets/IARCImageB...</td>\n",
       "      <td>0</td>\n",
       "    </tr>\n",
       "    <tr>\n",
       "      <th>310</th>\n",
       "      <td>383</td>\n",
       "      <td>/workspace/experiments/vit/datasets/IARCImageB...</td>\n",
       "      <td>0</td>\n",
       "    </tr>\n",
       "    <tr>\n",
       "      <th>311</th>\n",
       "      <td>383</td>\n",
       "      <td>/workspace/experiments/vit/datasets/IARCImageB...</td>\n",
       "      <td>0</td>\n",
       "    </tr>\n",
       "  </tbody>\n",
       "</table>\n",
       "<p>312 rows × 3 columns</p>\n",
       "</div>"
      ],
      "text/plain": [
       "     Case Number                                               File  Diagnosis\n",
       "0             10  /workspace/experiments/vit/datasets/IARCImageB...          0\n",
       "1             10  /workspace/experiments/vit/datasets/IARCImageB...          0\n",
       "2             10  /workspace/experiments/vit/datasets/IARCImageB...          0\n",
       "3             10  /workspace/experiments/vit/datasets/IARCImageB...          0\n",
       "4             20  /workspace/experiments/vit/datasets/IARCImageB...          0\n",
       "..           ...                                                ...        ...\n",
       "307          377  /workspace/experiments/vit/datasets/IARCImageB...          0\n",
       "308          378  /workspace/experiments/vit/datasets/IARCImageB...          0\n",
       "309          378  /workspace/experiments/vit/datasets/IARCImageB...          0\n",
       "310          383  /workspace/experiments/vit/datasets/IARCImageB...          0\n",
       "311          383  /workspace/experiments/vit/datasets/IARCImageB...          0\n",
       "\n",
       "[312 rows x 3 columns]"
      ]
     },
     "execution_count": 133,
     "metadata": {},
     "output_type": "execute_result"
    }
   ],
   "source": [
    "df_val = df_val.reset_index()\n",
    "df_val = df_val.loc[:, ['Case Number', 'File', 'Diagnosis']]\n",
    "df_val"
   ]
  },
  {
   "cell_type": "code",
   "execution_count": 134,
   "id": "969f7c27-4c51-48f9-82a8-013d38d0fab4",
   "metadata": {},
   "outputs": [
    {
     "data": {
      "text/html": [
       "<div>\n",
       "<style scoped>\n",
       "    .dataframe tbody tr th:only-of-type {\n",
       "        vertical-align: middle;\n",
       "    }\n",
       "\n",
       "    .dataframe tbody tr th {\n",
       "        vertical-align: top;\n",
       "    }\n",
       "\n",
       "    .dataframe thead th {\n",
       "        text-align: right;\n",
       "    }\n",
       "</style>\n",
       "<table border=\"1\" class=\"dataframe\">\n",
       "  <thead>\n",
       "    <tr style=\"text-align: right;\">\n",
       "      <th></th>\n",
       "      <th>Case Number</th>\n",
       "      <th>File</th>\n",
       "      <th>Diagnosis</th>\n",
       "    </tr>\n",
       "  </thead>\n",
       "  <tbody>\n",
       "    <tr>\n",
       "      <th>4</th>\n",
       "      <td>2</td>\n",
       "      <td>/workspace/experiments/vit/datasets/IARCImageB...</td>\n",
       "      <td>0</td>\n",
       "    </tr>\n",
       "    <tr>\n",
       "      <th>5</th>\n",
       "      <td>2</td>\n",
       "      <td>/workspace/experiments/vit/datasets/IARCImageB...</td>\n",
       "      <td>0</td>\n",
       "    </tr>\n",
       "    <tr>\n",
       "      <th>6</th>\n",
       "      <td>2</td>\n",
       "      <td>/workspace/experiments/vit/datasets/IARCImageB...</td>\n",
       "      <td>0</td>\n",
       "    </tr>\n",
       "    <tr>\n",
       "      <th>7</th>\n",
       "      <td>2</td>\n",
       "      <td>/workspace/experiments/vit/datasets/IARCImageB...</td>\n",
       "      <td>0</td>\n",
       "    </tr>\n",
       "    <tr>\n",
       "      <th>8</th>\n",
       "      <td>3</td>\n",
       "      <td>/workspace/experiments/vit/datasets/IARCImageB...</td>\n",
       "      <td>0</td>\n",
       "    </tr>\n",
       "    <tr>\n",
       "      <th>...</th>\n",
       "      <td>...</td>\n",
       "      <td>...</td>\n",
       "      <td>...</td>\n",
       "    </tr>\n",
       "    <tr>\n",
       "      <th>1312</th>\n",
       "      <td>382</td>\n",
       "      <td>/workspace/experiments/vit/datasets/IARCImageB...</td>\n",
       "      <td>0</td>\n",
       "    </tr>\n",
       "    <tr>\n",
       "      <th>1317</th>\n",
       "      <td>385</td>\n",
       "      <td>/workspace/experiments/vit/datasets/IARCImageB...</td>\n",
       "      <td>0</td>\n",
       "    </tr>\n",
       "    <tr>\n",
       "      <th>1318</th>\n",
       "      <td>385</td>\n",
       "      <td>/workspace/experiments/vit/datasets/IARCImageB...</td>\n",
       "      <td>0</td>\n",
       "    </tr>\n",
       "    <tr>\n",
       "      <th>1319</th>\n",
       "      <td>386</td>\n",
       "      <td>/workspace/experiments/vit/datasets/IARCImageB...</td>\n",
       "      <td>0</td>\n",
       "    </tr>\n",
       "    <tr>\n",
       "      <th>1320</th>\n",
       "      <td>386</td>\n",
       "      <td>/workspace/experiments/vit/datasets/IARCImageB...</td>\n",
       "      <td>0</td>\n",
       "    </tr>\n",
       "  </tbody>\n",
       "</table>\n",
       "<p>259 rows × 3 columns</p>\n",
       "</div>"
      ],
      "text/plain": [
       "      Case Number                                               File  \\\n",
       "4               2  /workspace/experiments/vit/datasets/IARCImageB...   \n",
       "5               2  /workspace/experiments/vit/datasets/IARCImageB...   \n",
       "6               2  /workspace/experiments/vit/datasets/IARCImageB...   \n",
       "7               2  /workspace/experiments/vit/datasets/IARCImageB...   \n",
       "8               3  /workspace/experiments/vit/datasets/IARCImageB...   \n",
       "...           ...                                                ...   \n",
       "1312          382  /workspace/experiments/vit/datasets/IARCImageB...   \n",
       "1317          385  /workspace/experiments/vit/datasets/IARCImageB...   \n",
       "1318          385  /workspace/experiments/vit/datasets/IARCImageB...   \n",
       "1319          386  /workspace/experiments/vit/datasets/IARCImageB...   \n",
       "1320          386  /workspace/experiments/vit/datasets/IARCImageB...   \n",
       "\n",
       "      Diagnosis  \n",
       "4             0  \n",
       "5             0  \n",
       "6             0  \n",
       "7             0  \n",
       "8             0  \n",
       "...         ...  \n",
       "1312          0  \n",
       "1317          0  \n",
       "1318          0  \n",
       "1319          0  \n",
       "1320          0  \n",
       "\n",
       "[259 rows x 3 columns]"
      ]
     },
     "execution_count": 134,
     "metadata": {},
     "output_type": "execute_result"
    }
   ],
   "source": [
    "df_test"
   ]
  },
  {
   "cell_type": "code",
   "execution_count": 135,
   "id": "c7bf64ce-0f2a-499d-9a68-c69c18c516e4",
   "metadata": {},
   "outputs": [
    {
     "data": {
      "text/html": [
       "<div>\n",
       "<style scoped>\n",
       "    .dataframe tbody tr th:only-of-type {\n",
       "        vertical-align: middle;\n",
       "    }\n",
       "\n",
       "    .dataframe tbody tr th {\n",
       "        vertical-align: top;\n",
       "    }\n",
       "\n",
       "    .dataframe thead th {\n",
       "        text-align: right;\n",
       "    }\n",
       "</style>\n",
       "<table border=\"1\" class=\"dataframe\">\n",
       "  <thead>\n",
       "    <tr style=\"text-align: right;\">\n",
       "      <th></th>\n",
       "      <th>Case Number</th>\n",
       "      <th>File</th>\n",
       "      <th>Diagnosis</th>\n",
       "    </tr>\n",
       "  </thead>\n",
       "  <tbody>\n",
       "    <tr>\n",
       "      <th>0</th>\n",
       "      <td>2</td>\n",
       "      <td>/workspace/experiments/vit/datasets/IARCImageB...</td>\n",
       "      <td>0</td>\n",
       "    </tr>\n",
       "    <tr>\n",
       "      <th>1</th>\n",
       "      <td>2</td>\n",
       "      <td>/workspace/experiments/vit/datasets/IARCImageB...</td>\n",
       "      <td>0</td>\n",
       "    </tr>\n",
       "    <tr>\n",
       "      <th>2</th>\n",
       "      <td>2</td>\n",
       "      <td>/workspace/experiments/vit/datasets/IARCImageB...</td>\n",
       "      <td>0</td>\n",
       "    </tr>\n",
       "    <tr>\n",
       "      <th>3</th>\n",
       "      <td>2</td>\n",
       "      <td>/workspace/experiments/vit/datasets/IARCImageB...</td>\n",
       "      <td>0</td>\n",
       "    </tr>\n",
       "    <tr>\n",
       "      <th>4</th>\n",
       "      <td>3</td>\n",
       "      <td>/workspace/experiments/vit/datasets/IARCImageB...</td>\n",
       "      <td>0</td>\n",
       "    </tr>\n",
       "    <tr>\n",
       "      <th>...</th>\n",
       "      <td>...</td>\n",
       "      <td>...</td>\n",
       "      <td>...</td>\n",
       "    </tr>\n",
       "    <tr>\n",
       "      <th>254</th>\n",
       "      <td>382</td>\n",
       "      <td>/workspace/experiments/vit/datasets/IARCImageB...</td>\n",
       "      <td>0</td>\n",
       "    </tr>\n",
       "    <tr>\n",
       "      <th>255</th>\n",
       "      <td>385</td>\n",
       "      <td>/workspace/experiments/vit/datasets/IARCImageB...</td>\n",
       "      <td>0</td>\n",
       "    </tr>\n",
       "    <tr>\n",
       "      <th>256</th>\n",
       "      <td>385</td>\n",
       "      <td>/workspace/experiments/vit/datasets/IARCImageB...</td>\n",
       "      <td>0</td>\n",
       "    </tr>\n",
       "    <tr>\n",
       "      <th>257</th>\n",
       "      <td>386</td>\n",
       "      <td>/workspace/experiments/vit/datasets/IARCImageB...</td>\n",
       "      <td>0</td>\n",
       "    </tr>\n",
       "    <tr>\n",
       "      <th>258</th>\n",
       "      <td>386</td>\n",
       "      <td>/workspace/experiments/vit/datasets/IARCImageB...</td>\n",
       "      <td>0</td>\n",
       "    </tr>\n",
       "  </tbody>\n",
       "</table>\n",
       "<p>259 rows × 3 columns</p>\n",
       "</div>"
      ],
      "text/plain": [
       "     Case Number                                               File  Diagnosis\n",
       "0              2  /workspace/experiments/vit/datasets/IARCImageB...          0\n",
       "1              2  /workspace/experiments/vit/datasets/IARCImageB...          0\n",
       "2              2  /workspace/experiments/vit/datasets/IARCImageB...          0\n",
       "3              2  /workspace/experiments/vit/datasets/IARCImageB...          0\n",
       "4              3  /workspace/experiments/vit/datasets/IARCImageB...          0\n",
       "..           ...                                                ...        ...\n",
       "254          382  /workspace/experiments/vit/datasets/IARCImageB...          0\n",
       "255          385  /workspace/experiments/vit/datasets/IARCImageB...          0\n",
       "256          385  /workspace/experiments/vit/datasets/IARCImageB...          0\n",
       "257          386  /workspace/experiments/vit/datasets/IARCImageB...          0\n",
       "258          386  /workspace/experiments/vit/datasets/IARCImageB...          0\n",
       "\n",
       "[259 rows x 3 columns]"
      ]
     },
     "execution_count": 135,
     "metadata": {},
     "output_type": "execute_result"
    }
   ],
   "source": [
    "df_test = df_test.reset_index()\n",
    "df_test = df_test.loc[:, ['Case Number', 'File', 'Diagnosis']]\n",
    "df_test"
   ]
  },
  {
   "cell_type": "code",
   "execution_count": 136,
   "id": "8d4f48b8-d3fe-4aeb-b795-dcfca3757850",
   "metadata": {},
   "outputs": [],
   "source": [
    "prepared_data_path = '/workspace/experiments/vit/datasets/prepared_data/'\n",
    "\n",
    "df_train.to_csv(prepared_data_path+'iarc_multiclass_general_train.csv', index=False)\n",
    "df_val.to_csv(prepared_data_path+'iarc_multiclass_general_val.csv', index=False)\n",
    "df_test.to_csv(prepared_data_path+'iarc_multiclass_general_test.csv', index=False)"
   ]
  },
  {
   "cell_type": "code",
   "execution_count": 137,
   "id": "3b4b7853-8890-401f-8e84-e3b4e895ed3c",
   "metadata": {},
   "outputs": [
    {
     "data": {
      "text/plain": [
       "array([0, 1, 2, 3])"
      ]
     },
     "execution_count": 137,
     "metadata": {},
     "output_type": "execute_result"
    }
   ],
   "source": [
    "df_train['Diagnosis'].unique()"
   ]
  },
  {
   "cell_type": "code",
   "execution_count": 138,
   "id": "f4b342ab-1c15-424f-9900-35fc7e151747",
   "metadata": {},
   "outputs": [
    {
     "data": {
      "text/plain": [
       "array([0, 1, 2, 3])"
      ]
     },
     "execution_count": 138,
     "metadata": {},
     "output_type": "execute_result"
    }
   ],
   "source": [
    "df_val['Diagnosis'].unique()"
   ]
  },
  {
   "cell_type": "code",
   "execution_count": 139,
   "id": "35a8b475-5c84-490c-b1da-05d9885272d6",
   "metadata": {},
   "outputs": [
    {
     "data": {
      "text/plain": [
       "array([0, 1, 2, 3])"
      ]
     },
     "execution_count": 139,
     "metadata": {},
     "output_type": "execute_result"
    }
   ],
   "source": [
    "df_test['Diagnosis'].unique()"
   ]
  },
  {
   "cell_type": "code",
   "execution_count": null,
   "id": "49112608-53df-4139-9346-245a85ed4205",
   "metadata": {},
   "outputs": [],
   "source": []
  }
 ],
 "metadata": {
  "kernelspec": {
   "display_name": "Python 3 (ipykernel)",
   "language": "python",
   "name": "python3"
  },
  "language_info": {
   "codemirror_mode": {
    "name": "ipython",
    "version": 3
   },
   "file_extension": ".py",
   "mimetype": "text/x-python",
   "name": "python",
   "nbconvert_exporter": "python",
   "pygments_lexer": "ipython3",
   "version": "3.9.13"
  }
 },
 "nbformat": 4,
 "nbformat_minor": 5
}
