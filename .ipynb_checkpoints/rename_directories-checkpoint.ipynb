{
 "cells": [
  {
   "cell_type": "code",
   "execution_count": 117,
   "id": "31c39aea-171d-47be-8bc0-4bf6e769ed11",
   "metadata": {
    "tags": []
   },
   "outputs": [],
   "source": [
    "import os\n",
    "import math\n",
    "import numpy as np\n",
    "import pandas as pd"
   ]
  },
  {
   "cell_type": "code",
   "execution_count": 118,
   "id": "11dd6217-4bf7-48f6-aaf7-b1a9ee800888",
   "metadata": {
    "tags": []
   },
   "outputs": [],
   "source": [
    "def rename_all_directories(datapath: str):\n",
    "    with os.scandir(datapath) as entries:\n",
    "        for entry in entries:\n",
    "            if entry.is_dir():\n",
    "                dir_name = list(entry.name)\n",
    "                for i in range(len(dir_name)):\n",
    "                    if dir_name[i] == ' ':\n",
    "                        dir_name[i] = '_'\n",
    "                new_name = ''.join(dir_name)\n",
    "                os.rename(datapath+entry.name, datapath+new_name)"
   ]
  },
  {
   "cell_type": "code",
   "execution_count": 119,
   "id": "7a146b10-5191-46b6-86ff-fbef2e491fa6",
   "metadata": {},
   "outputs": [],
   "source": [
    "iarc_colpo_datapath = '/workspace/experiments/vit/data/IARCImageBankColpo/'\n",
    "rename_all_directories(iarc_colpo_datapath)"
   ]
  },
  {
   "cell_type": "code",
   "execution_count": 120,
   "id": "9f307322-7a1d-4f01-8fdf-a6162ba3bc50",
   "metadata": {
    "tags": []
   },
   "outputs": [],
   "source": [
    "iarc_via_datapath = '/workspace/experiments/vit/data/IARCImageBankVIA/'\n",
    "rename_all_directories(iarc_via_datapath)"
   ]
  },
  {
   "cell_type": "code",
   "execution_count": null,
   "id": "2d594fb4-d010-4055-8480-5249793369b9",
   "metadata": {},
   "outputs": [],
   "source": []
  }
 ],
 "metadata": {
  "kernelspec": {
   "display_name": "Python 3 (ipykernel)",
   "language": "python",
   "name": "python3"
  },
  "language_info": {
   "codemirror_mode": {
    "name": "ipython",
    "version": 3
   },
   "file_extension": ".py",
   "mimetype": "text/x-python",
   "name": "python",
   "nbconvert_exporter": "python",
   "pygments_lexer": "ipython3",
   "version": "3.7.13"
  }
 },
 "nbformat": 4,
 "nbformat_minor": 5
}
