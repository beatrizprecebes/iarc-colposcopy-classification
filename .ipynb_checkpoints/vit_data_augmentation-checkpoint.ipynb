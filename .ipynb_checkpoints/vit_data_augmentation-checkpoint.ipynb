{
 "cells": [
  {
   "cell_type": "code",
   "execution_count": 3,
   "id": "0b9864c3-7301-488f-b09f-5a4dd7aa80f4",
   "metadata": {},
   "outputs": [
    {
     "name": "stderr",
     "output_type": "stream",
     "text": [
      "comet_ml is installed but `COMET_API_KEY` is not set.\n"
     ]
    }
   ],
   "source": [
    "import numpy as np\n",
    "import pandas as pd\n",
    "import seaborn as sns\n",
    "from tqdm import tqdm\n",
    "import matplotlib.pyplot as plt\n",
    "\n",
    "import os\n",
    "import random\n",
    "\n",
    "import PIL\n",
    "from PIL import Image\n",
    "\n",
    "import torch\n",
    "import torch.nn as nn\n",
    "from torch.optim import Adam\n",
    "from torch.nn import CrossEntropyLoss\n",
    "\n",
    "from torchsummary import summary\n",
    "\n",
    "from torch.utils.data import random_split, Dataset, DataLoader\n",
    "\n",
    "import torchvision\n",
    "from torchvision import transforms\n",
    "from torchvision.transforms import ToTensor, GaussianBlur, RandomEqualize, RandomInvert, ColorJitter\n",
    "\n",
    "from sklearn.metrics import fbeta_score, cohen_kappa_score, balanced_accuracy_score, confusion_matrix\n",
    "import torchmetrics\n",
    "\n",
    "from transformers import ViTFeatureExtractor, ViTForImageClassification, ViTImageProcessor"
   ]
  },
  {
   "cell_type": "code",
   "execution_count": 3,
   "id": "bc18762c-ae14-4b46-920e-3d3d92ac63ab",
   "metadata": {},
   "outputs": [],
   "source": [
    "seed = 579"
   ]
  },
  {
   "cell_type": "code",
   "execution_count": 4,
   "id": "184ab0bd-0fd6-4a98-9e2f-507513486695",
   "metadata": {},
   "outputs": [],
   "source": [
    "def seed_everything(seed):\n",
    "    random.seed(seed)\n",
    "    np.random.seed(seed)\n",
    "    torch.manual_seed(seed)\n",
    "    torch.cuda.manual_seed(seed)\n",
    "\n",
    "seed_everything(seed)"
   ]
  },
  {
   "cell_type": "code",
   "execution_count": 56,
   "id": "e468a106-ccd8-4e84-9d3e-9be11028c8fe",
   "metadata": {},
   "outputs": [],
   "source": [
    "def compute_test_metrics(real_target, predicted_target, metric='balanced_accuracy'):\n",
    "        if metric == 'balanced_accuracy':\n",
    "            return balanced_accuracy_score(real_target, predicted_target)\n",
    "        elif metric == 'fb_score':\n",
    "            return fbeta_score(real_target, predicted_target, beta=1.5)\n",
    "        elif metric == 'cohen_kappa':\n",
    "            return cohen_kappa_score(real_target, predicted_target)"
   ]
  },
  {
   "cell_type": "markdown",
   "id": "010fbedc-5b5d-4575-a4ee-155146be8527",
   "metadata": {},
   "source": [
    "#### Datasets and dataloaders"
   ]
  },
  {
   "cell_type": "markdown",
   "id": "29ad7e0b-0660-4b24-ae90-1e67621b943b",
   "metadata": {},
   "source": [
    "##### Classes to create dataset ane collate_fn to build dataloader"
   ]
  },
  {
   "cell_type": "code",
   "execution_count": 16,
   "id": "b2108359-ccb6-4373-ba4f-024722f4cbe5",
   "metadata": {},
   "outputs": [],
   "source": [
    "class IARCDataset(Dataset):\n",
    "    '''\n",
    "    Build dataset from address of image files.\n",
    "    '''\n",
    "    def __init__(\n",
    "        self,\n",
    "        annotations_file_path,\n",
    "        mode='binary',\n",
    "        labels2ids=None,\n",
    "        aug_technique=None,\n",
    "        keep_original_data=False\n",
    "    ) -> None:\n",
    "\n",
    "        data_ = None\n",
    "\n",
    "        self.labels2ids = labels2ids\n",
    "        \n",
    "        self.data = None\n",
    "        self.transform = None\n",
    "        self.class_labels_strings = None\n",
    "\n",
    "        self.data = pd.read_csv(annotations_file_path)\n",
    "        self.class_labels = self.data['Diagnosis']\n",
    "\n",
    "        if mode == 'binary':\n",
    "            self.class_labels_strings = ['Normal', 'Abnormal']\n",
    "        elif mode == 'multiclass':\n",
    "            self.class_labels_strings = ['Normal', 'CIN1', 'CIN2', 'CIN3']\n",
    "        else:\n",
    "            print('Error establishing classification mode.')\n",
    "\n",
    "        self.data['Diagnosis encoded'] = self.data['Diagnosis'].map(lambda x: self._encode_labels_into_ids(x))\n",
    "        self._define_data_agumentation_technique(aug_technique)\n",
    "\n",
    "        if keep_original_data and aug_technique != None:\n",
    "            data_ = self.data.copy(deep=True)\n",
    "            data_['Augmentation technique'] = aug_technique\n",
    "            self.data['Augmentation technique'] = 'None'\n",
    "            self.data = pd.concat([self.data, data_], ignore_index=True)\n",
    "        elif not keep_original_data and aug_technique == None:\n",
    "            self.data['Augmentation technique'] = 'None'\n",
    "\n",
    "    def _encode_labels_into_ids(self, row) -> int:\n",
    "        if self.labels2ids is None:\n",
    "            self.labels2ids = dict(zip(self.class_labels_strings, range(len(self.class_labels_strings))))\n",
    "            \n",
    "        for k, v in self.labels2ids.items():\n",
    "            if k == row:\n",
    "                return int(v)\n",
    "\n",
    "    def _define_data_agumentation_technique(\n",
    "        self,\n",
    "        aug_technique: None\n",
    "    ) -> torchvision.transforms.transforms.Compose:\n",
    "        \n",
    "        if aug_technique == 'g': #Gaussian blur\n",
    "            self.transform = transforms.Compose([\n",
    "                GaussianBlur(kernel_size=5),\n",
    "            ])\n",
    "        elif aug_technique == 'e': #Random equalize\n",
    "            self.transform = transforms.Compose([\n",
    "                RandomEqualize(),\n",
    "            ])\n",
    "        elif aug_technique == 'g_e': #Gaussian blur and Random equalize\n",
    "            self.transform = transforms.Compose([\n",
    "                GaussianBlur(kernel_size=5),\n",
    "                RandomEqualize(),\n",
    "            ])\n",
    "\n",
    "    def __len__(self):\n",
    "        return len(self.data)\n",
    "\n",
    "    def __getitem__(self, idx):\n",
    "        case = self.data['Case Number'][idx]\n",
    "        diagnosis = self.data['Diagnosis encoded'][idx]\n",
    "        image = Image.open(f\"{self.data['File'][idx]}\")\n",
    "        \n",
    "        if self.data['Augmentation technique'][idx] != 'None':\n",
    "            image = self.transform(image)\n",
    "\n",
    "        return {'image': image,\n",
    "                'label': diagnosis}\n",
    "\n",
    "class collate_fn:\n",
    "    def __init__(self):\n",
    "        self.image_processor = ViTImageProcessor.from_pretrained('google/vit-base-patch16-224-in21k')\n",
    "        \n",
    "    def __call__(self, batch):\n",
    "        images = [item['image']for item in batch]\n",
    "        labels = [item['label'] for item in batch]\n",
    "\n",
    "        # inputs = self.image_processor(images, return_tensors='pt')\n",
    "        pixel_values = self.image_processor(images, return_tensors='pt')['pixel_values']\n",
    "        \n",
    "        return {'pixel_values': pixel_values,\n",
    "                'labels': torch.LongTensor(labels)}\n",
    "                # 'labels': labels}"
   ]
  },
  {
   "cell_type": "markdown",
   "id": "132e6fa0-4af5-4947-a0aa-36fc5b6434c4",
   "metadata": {},
   "source": [
    "##### Prepare datasets and dataloader"
   ]
  },
  {
   "cell_type": "code",
   "execution_count": 17,
   "id": "bed56961-046f-4b93-a0e9-554dd482a93d",
   "metadata": {},
   "outputs": [],
   "source": [
    "train_set_path = '/workspace/experiments/vit/data/IARCImageBankColpo/iarc_colpo_train.csv'\n",
    "val_set_path = '/workspace/experiments/vit/data/IARCImageBankColpo/iarc_colpo_val.csv'"
   ]
  },
  {
   "cell_type": "code",
   "execution_count": 18,
   "id": "bbd9339c-165b-4b24-8a71-d292220e313f",
   "metadata": {},
   "outputs": [],
   "source": [
    "colpo_train_set = IARCDataset(train_set_path)\n",
    "colpo_train_set_g = IARCDataset(train_set_path, aug_technique='g')\n",
    "colpo_train_set_e = IARCDataset(train_set_path, aug_technique='e', keep_original_data=True)\n",
    "\n",
    "colpo_val_set = IARCDataset(val_set_path)"
   ]
  },
  {
   "cell_type": "code",
   "execution_count": 19,
   "id": "6b118510-6875-4994-820b-c559e56f214a",
   "metadata": {},
   "outputs": [],
   "source": [
    "c_fn = collate_fn()\n",
    "\n",
    "colpo_train_dataloader = DataLoader(colpo_train_set, batch_size=16, num_workers=4, collate_fn=c_fn, shuffle=True)\n",
    "colpo_val_dataloader = DataLoader(colpo_val_set, batch_size=16, num_workers=4, collate_fn=c_fn, shuffle=True)"
   ]
  },
  {
   "cell_type": "markdown",
   "id": "3a0b757c-e098-498a-8f8c-b58fc443090c",
   "metadata": {
    "jp-MarkdownHeadingCollapsed": true
   },
   "source": [
    "##### Showing some images"
   ]
  },
  {
   "cell_type": "code",
   "execution_count": 8,
   "id": "e7057b87-c2d3-4d1e-b9fd-62db0e0c6b3f",
   "metadata": {},
   "outputs": [
    {
     "data": {
      "image/png": "[encoded data removed]",
      "text/plain": [
       "<Figure size 432x288 with 1 Axes>"
      ]
     },
     "metadata": {
      "needs_background": "light"
     },
     "output_type": "display_data"
    }
   ],
   "source": [
    "def imshow(inp, title=None):\n",
    "    \"\"\"Display image for Tensor.\"\"\"\n",
    "    inp = inp.numpy().transpose((1, 2, 0))\n",
    "    mean = np.array([0.485, 0.456, 0.406])\n",
    "    std = np.array([0.229, 0.224, 0.225])\n",
    "    inp = std * inp + mean\n",
    "    inp = np.clip(inp, 0, 1)\n",
    "    plt.imshow(inp)\n",
    "    if title is not None:\n",
    "        plt.title(title)\n",
    "    plt.pause(0.001)  # pause a bit so that plots are updated\n",
    "\n",
    "# Get a batch of training data\n",
    "batch = next(iter(colpo_train_dataloader))\n",
    "inputs, classes = batch['pixel_values'], batch['labels']\n",
    "\n",
    "# Make a grid from batch\n",
    "out = torchvision.utils.make_grid(inputs)\n",
    "\n",
    "class_names = colpo_train_dataloader.dataset.class_labels_strings\n",
    "\n",
    "imshow(out, title=[class_names[x] for x in classes])"
   ]
  },
  {
   "cell_type": "markdown",
   "id": "9bef55ae-866b-474a-a177-eba671fd559f",
   "metadata": {},
   "source": [
    "#### Training and validation"
   ]
  },
  {
   "cell_type": "code",
   "execution_count": 5,
   "id": "badfe111-5284-44fd-8f20-c145f088432b",
   "metadata": {},
   "outputs": [
    {
     "name": "stdout",
     "output_type": "stream",
     "text": [
      "Using cuda device\n"
     ]
    }
   ],
   "source": [
    "#check if cuda is availabe\n",
    "device = \"cuda\" if torch.cuda.is_available() else \"cpu\"\n",
    "print(f\"Using {device} device\")"
   ]
  },
  {
   "cell_type": "markdown",
   "id": "cd2b4695-4fc9-4d90-b63c-731f8d8f2af0",
   "metadata": {},
   "source": [
    "##### Defining model and some configurations"
   ]
  },
  {
   "cell_type": "code",
   "execution_count": 6,
   "id": "6ac2ddf3-182b-4f94-a47c-df9fd1ff6da5",
   "metadata": {},
   "outputs": [],
   "source": [
    "binary_ids2labels = {'Normal': 0, 'Abnormal': 1}\n",
    "model_pre_trained = 'google/vit-base-patch16-224-in21k'"
   ]
  },
  {
   "cell_type": "code",
   "execution_count": 7,
   "id": "841294cf-5736-47ed-9517-4a20fda5ed02",
   "metadata": {},
   "outputs": [
    {
     "name": "stderr",
     "output_type": "stream",
     "text": [
      "Some weights of ViTForImageClassification were not initialized from the model checkpoint at google/vit-base-patch16-224-in21k and are newly initialized: ['classifier.bias', 'classifier.weight']\n",
      "You should probably TRAIN this model on a down-stream task to be able to use it for predictions and inference.\n"
     ]
    }
   ],
   "source": [
    "binary_model = ViTForImageClassification.from_pretrained(\n",
    "    model_pre_trained,\n",
    "    num_labels=len(binary_ids2labels),\n",
    "    ignore_mismatched_sizes = True,\n",
    "    id2label={i: c for i, c in enumerate(binary_ids2labels)},\n",
    "    label2id={c: i for i, c in enumerate(binary_ids2labels)}\n",
    ")"
   ]
  },
  {
   "cell_type": "markdown",
   "id": "fa7c69ac-cb7a-45a4-9344-8466b8f1705c",
   "metadata": {},
   "source": [
    "##### Class to define the technique EarlyStopper"
   ]
  },
  {
   "cell_type": "code",
   "execution_count": 8,
   "id": "144ccdf3-6387-43a6-aea7-3c5d0f04a6fe",
   "metadata": {},
   "outputs": [],
   "source": [
    "class EarlyStopper:\n",
    "    def __init__(self, patience=1, min_delta=0.0):\n",
    "        self.patience = patience  # number of times to allow for no improvement before stopping the execution\n",
    "        self.min_delta = min_delta  # the minimum change to be counted as improvement\n",
    "        self.counter = 0  # count the number of times the validation accuracy not improving\n",
    "        self.min_validation_loss = np.inf\n",
    "    \n",
    "    # return True when encountering _patience_ times decrease in validation loss \n",
    "    def early_stop(self, validation_loss):\n",
    "        if ((validation_loss+self.min_delta) < self.min_validation_loss):\n",
    "            self.min_validation_loss = validation_loss\n",
    "            self.counter = 0  # reset the counter if validation loss decreased at least by min_delta\n",
    "        elif ((validation_loss+self.min_delta) > self.min_validation_loss):\n",
    "            self.counter += 1 # increase the counter if validation loss is not decreased by the min_delta\n",
    "            if self.counter >= self.patience:\n",
    "                return True\n",
    "        return False"
   ]
  },
  {
   "cell_type": "markdown",
   "id": "c06e1808-1f6e-4feb-8b44-4712b0af72fb",
   "metadata": {},
   "source": [
    "##### Class to define model and the proccess of training and validation"
   ]
  },
  {
   "cell_type": "code",
   "execution_count": 9,
   "id": "e139c961-4811-4323-a482-166d57dea7cf",
   "metadata": {},
   "outputs": [],
   "source": [
    "class ViT:\n",
    "    def __init__(self, model, learning_rate, path, name_model):\n",
    "        super().__init__()\n",
    "        \n",
    "        self.path = path\n",
    "        self.name_model = name_model\n",
    "\n",
    "        self.model = model\n",
    "        self.lr = learning_rate\n",
    "        self.optimizer = torch.optim.AdamW(params=self.model.parameters(), lr=self.lr)\n",
    "        self.early_stopper = EarlyStopper(patience=3)\n",
    "\n",
    "        self.logs = {}\n",
    "\n",
    "        self.total_training_loss = list()\n",
    "        self.total_validation_loss = list()\n",
    "\n",
    "    def training_step(self, colpo_train_dataloader):\n",
    "        train_loss = 0\n",
    "\n",
    "        for i, batch in enumerate(tqdm(colpo_train_dataloader)):\n",
    "            self.model.train()\n",
    "            \n",
    "            inputs, labels = batch['pixel_values'], batch['labels']\n",
    "            outputs = self.model(pixel_values=inputs, labels=labels)\n",
    "            \n",
    "            loss = outputs[0]\n",
    "            loss.mean().backward(retain_graph=True)\n",
    "            train_loss += loss.mean().item()\n",
    "            \n",
    "            self.optimizer.step()\n",
    "            self.optimizer.zero_grad()\n",
    "        return train_loss\n",
    "\n",
    "    def validation_step(self, colpo_val_dataloader):\n",
    "        valid_loss = 0\n",
    "        y_pred = []\n",
    "        y_true = []\n",
    "        \n",
    "        for j, batch in enumerate(tqdm(colpo_val_dataloader)):\n",
    "            self.model.eval()\n",
    "    \n",
    "            inputs, labels = batch['pixel_values'], batch['labels']\n",
    "            outputs = self.model(pixel_values=inputs, labels=labels)\n",
    "    \n",
    "            loss = outputs[0]\n",
    "            loss.mean().backward(retain_graph=True)\n",
    "            valid_loss += loss.mean().item()\n",
    "    \n",
    "            logits = outputs.logits\n",
    "    \n",
    "            y_pred = np.concatenate([y_pred, torch.argmax(logits, dim=-1).tolist()])\n",
    "            y_true = np.concatenate([y_true, labels])\n",
    "\n",
    "        return valid_loss, y_pred, y_true\n",
    "\n",
    "    def compute_metrics(self, real_target, predicted_target, metric='balanced_accuracy'):\n",
    "        if metric == 'balanced_accuracy':\n",
    "            return balanced_accuracy_score(real_target, predicted_target)\n",
    "        elif metric == 'fb_score':\n",
    "            return fbeta_score(real_target, predicted_target, beta=1.5)\n",
    "        elif metric == 'cohen_kappa':\n",
    "            return cohen_kappa_score(real_target, predicted_target)\n",
    "\n",
    "    def fit(self, train_loader, val_loader, epochs=1):\n",
    "\n",
    "        metric_fb = []\n",
    "        metric_cohen_kappa = []\n",
    "        metric_acc_balanced = []\n",
    "\n",
    "        best_loss = 1000\n",
    "\n",
    "        for epoch in range(1, epochs+1):\n",
    "            # y_pred = []\n",
    "            # y_true = []\n",
    "            \n",
    "            print(f\"Epoch: {epoch}/{epochs}\")\n",
    "            \n",
    "            train_loss = self.training_step(train_loader)\n",
    "            valid_loss, y_pred, y_true = self.validation_step(val_loader)\n",
    "            self.total_training_loss.append(train_loss/len(train_loader))\n",
    "            self.total_validation_loss.append(valid_loss/len(val_loader))\n",
    "\n",
    "            valid_fb = self.compute_metrics(y_true, y_pred, 'fb_score')\n",
    "            valid_kappa = self.compute_metrics(y_true, y_pred, 'cohen_kappa')\n",
    "            valid_acc_b = self.compute_metrics(y_true, y_pred, 'balanced_accuracy')\n",
    "    \n",
    "            metric_fb.append(valid_fb)\n",
    "            metric_cohen_kappa.append(valid_kappa)\n",
    "            metric_acc_balanced.append(valid_acc_b)\n",
    "\n",
    "            epoch_info = f\"Train loss: {round(train_loss/len(colpo_train_dataloader), 5)}\",\n",
    "            f\"- Validation loss: {round(valid_loss/len(colpo_val_dataloader), 5)}\",\n",
    "            f\"- Fb score: {round(valid_fb, 5)}\",\n",
    "            f\"- Cohen Kappa: {round(valid_kappa, 5)}\",\n",
    "            f\"- Balanced Accuracy: {round(valid_acc_b, 5)}\"\n",
    "        \n",
    "            print(epoch_info)\n",
    "\n",
    "            self.logs['Training loss'] = self.total_training_loss\n",
    "            self.logs['Validation loss'] = self.total_validation_loss\n",
    "\n",
    "            if(valid_loss/len(val_loader) < best_loss):\n",
    "                best_loss = valid_loss/len(val_loader)\n",
    "                torch.save({\n",
    "                    'epoch': epoch,\n",
    "                    'model_state_dict': self.model.state_dict()\n",
    "                }, self.path+self.name_model+'.pth')\n",
    "    \n",
    "            if self.early_stopper.early_stop(valid_loss):\n",
    "                print('Early Stopping!')\n",
    "                break"
   ]
  },
  {
   "cell_type": "markdown",
   "id": "1958f1be-4dcf-4d35-81b9-7f1c503b4dd2",
   "metadata": {},
   "source": [
    "##### First model: classification only with the original data"
   ]
  },
  {
   "cell_type": "code",
   "execution_count": 37,
   "id": "57054a02-027f-4b9f-9a4e-5b31e1f2664e",
   "metadata": {},
   "outputs": [],
   "source": [
    "path_da = '/workspace/experiments/vit/models/binary_vit_rd/'\n",
    "name_model_da = 'binary_vit_rd'"
   ]
  },
  {
   "cell_type": "code",
   "execution_count": 17,
   "id": "baeb3bb9-348a-4ff6-b704-20b3fe62332e",
   "metadata": {},
   "outputs": [],
   "source": [
    "model_rd = ViT(binary_model, 1e-5, path_da, name_model_da)"
   ]
  },
  {
   "cell_type": "code",
   "execution_count": 18,
   "id": "3f07ab1b-c40a-4b8f-9912-d49749d67f93",
   "metadata": {
    "scrolled": true
   },
   "outputs": [
    {
     "name": "stdout",
     "output_type": "stream",
     "text": [
      "Epoch: 1/50\n"
     ]
    },
    {
     "name": "stderr",
     "output_type": "stream",
     "text": [
      "100%|███████████████████████████████████████████████████████████████████████████████████| 40/40 [01:18<00:00,  1.95s/it]\n",
      "100%|███████████████████████████████████████████████████████████████████████████████████| 17/17 [00:29<00:00,  1.71s/it]\n"
     ]
    },
    {
     "name": "stdout",
     "output_type": "stream",
     "text": [
      "Train loss: 0.61589 - Validation loss: 0.62786 - Fb score: 0.78537 - Cohen Kappa: 0.41554 - Balanced Accuracy: 0.71011\n",
      "Epoch: 2/50\n"
     ]
    },
    {
     "name": "stderr",
     "output_type": "stream",
     "text": [
      "100%|███████████████████████████████████████████████████████████████████████████████████| 40/40 [01:20<00:00,  2.00s/it]\n",
      "100%|███████████████████████████████████████████████████████████████████████████████████| 17/17 [00:28<00:00,  1.66s/it]\n"
     ]
    },
    {
     "name": "stdout",
     "output_type": "stream",
     "text": [
      "Train loss: 0.543 - Validation loss: 0.56164 - Fb score: 0.81294 - Cohen Kappa: 0.51641 - Balanced Accuracy: 0.76036\n",
      "Epoch: 3/50\n"
     ]
    },
    {
     "name": "stderr",
     "output_type": "stream",
     "text": [
      "100%|███████████████████████████████████████████████████████████████████████████████████| 40/40 [01:20<00:00,  2.01s/it]\n",
      "100%|███████████████████████████████████████████████████████████████████████████████████| 17/17 [00:26<00:00,  1.57s/it]\n"
     ]
    },
    {
     "name": "stdout",
     "output_type": "stream",
     "text": [
      "Train loss: 0.46378 - Validation loss: 0.46726 - Fb score: 0.859 - Cohen Kappa: 0.73389 - Balanced Accuracy: 0.86677\n",
      "Epoch: 4/50\n"
     ]
    },
    {
     "name": "stderr",
     "output_type": "stream",
     "text": [
      "100%|███████████████████████████████████████████████████████████████████████████████████| 40/40 [01:17<00:00,  1.94s/it]\n",
      "100%|███████████████████████████████████████████████████████████████████████████████████| 17/17 [00:26<00:00,  1.59s/it]\n"
     ]
    },
    {
     "name": "stdout",
     "output_type": "stream",
     "text": [
      "Train loss: 0.37219 - Validation loss: 0.36643 - Fb score: 0.92049 - Cohen Kappa: 0.83028 - Balanced Accuracy: 0.91565\n",
      "Epoch: 5/50\n"
     ]
    },
    {
     "name": "stderr",
     "output_type": "stream",
     "text": [
      "100%|███████████████████████████████████████████████████████████████████████████████████| 40/40 [01:19<00:00,  1.98s/it]\n",
      "100%|███████████████████████████████████████████████████████████████████████████████████| 17/17 [00:28<00:00,  1.70s/it]\n"
     ]
    },
    {
     "name": "stdout",
     "output_type": "stream",
     "text": [
      "Train loss: 0.26863 - Validation loss: 0.27484 - Fb score: 0.96576 - Cohen Kappa: 0.91883 - Balanced Accuracy: 0.95998\n",
      "Epoch: 6/50\n"
     ]
    },
    {
     "name": "stderr",
     "output_type": "stream",
     "text": [
      "100%|███████████████████████████████████████████████████████████████████████████████████| 40/40 [01:20<00:00,  2.02s/it]\n",
      "100%|███████████████████████████████████████████████████████████████████████████████████| 17/17 [00:28<00:00,  1.67s/it]\n"
     ]
    },
    {
     "name": "stdout",
     "output_type": "stream",
     "text": [
      "Train loss: 0.19645 - Validation loss: 0.20571 - Fb score: 0.98839 - Cohen Kappa: 0.9631 - Balanced Accuracy: 0.98214\n",
      "Epoch: 7/50\n"
     ]
    },
    {
     "name": "stderr",
     "output_type": "stream",
     "text": [
      "100%|███████████████████████████████████████████████████████████████████████████████████| 40/40 [01:17<00:00,  1.93s/it]\n",
      "100%|███████████████████████████████████████████████████████████████████████████████████| 17/17 [00:28<00:00,  1.67s/it]\n"
     ]
    },
    {
     "name": "stdout",
     "output_type": "stream",
     "text": [
      "Train loss: 0.17856 - Validation loss: 0.1614 - Fb score: 1.0 - Cohen Kappa: 1.0 - Balanced Accuracy: 1.0\n",
      "Epoch: 8/50\n"
     ]
    },
    {
     "name": "stderr",
     "output_type": "stream",
     "text": [
      "100%|███████████████████████████████████████████████████████████████████████████████████| 40/40 [01:20<00:00,  2.01s/it]\n",
      "100%|███████████████████████████████████████████████████████████████████████████████████| 17/17 [00:29<00:00,  1.73s/it]\n"
     ]
    },
    {
     "name": "stdout",
     "output_type": "stream",
     "text": [
      "Train loss: 0.11014 - Validation loss: 0.11046 - Fb score: 1.0 - Cohen Kappa: 1.0 - Balanced Accuracy: 1.0\n",
      "Epoch: 9/50\n"
     ]
    },
    {
     "name": "stderr",
     "output_type": "stream",
     "text": [
      "100%|███████████████████████████████████████████████████████████████████████████████████| 40/40 [01:21<00:00,  2.04s/it]\n",
      "100%|███████████████████████████████████████████████████████████████████████████████████| 17/17 [00:26<00:00,  1.59s/it]\n"
     ]
    },
    {
     "name": "stdout",
     "output_type": "stream",
     "text": [
      "Train loss: 0.08067 - Validation loss: 0.08244 - Fb score: 1.0 - Cohen Kappa: 1.0 - Balanced Accuracy: 1.0\n",
      "Epoch: 10/50\n"
     ]
    },
    {
     "name": "stderr",
     "output_type": "stream",
     "text": [
      "100%|███████████████████████████████████████████████████████████████████████████████████| 40/40 [01:19<00:00,  2.00s/it]\n",
      "100%|███████████████████████████████████████████████████████████████████████████████████| 17/17 [00:29<00:00,  1.73s/it]\n"
     ]
    },
    {
     "name": "stdout",
     "output_type": "stream",
     "text": [
      "Train loss: 0.06355 - Validation loss: 0.06398 - Fb score: 1.0 - Cohen Kappa: 1.0 - Balanced Accuracy: 1.0\n",
      "Epoch: 11/50\n"
     ]
    },
    {
     "name": "stderr",
     "output_type": "stream",
     "text": [
      "100%|███████████████████████████████████████████████████████████████████████████████████| 40/40 [01:21<00:00,  2.03s/it]\n",
      "100%|███████████████████████████████████████████████████████████████████████████████████| 17/17 [00:30<00:00,  1.77s/it]\n"
     ]
    },
    {
     "name": "stdout",
     "output_type": "stream",
     "text": [
      "Train loss: 0.05192 - Validation loss: 0.05139 - Fb score: 1.0 - Cohen Kappa: 1.0 - Balanced Accuracy: 1.0\n",
      "Epoch: 12/50\n"
     ]
    },
    {
     "name": "stderr",
     "output_type": "stream",
     "text": [
      "100%|███████████████████████████████████████████████████████████████████████████████████| 40/40 [01:19<00:00,  2.00s/it]\n",
      "100%|███████████████████████████████████████████████████████████████████████████████████| 17/17 [00:28<00:00,  1.68s/it]\n"
     ]
    },
    {
     "name": "stdout",
     "output_type": "stream",
     "text": [
      "Train loss: 0.04366 - Validation loss: 0.04281 - Fb score: 1.0 - Cohen Kappa: 1.0 - Balanced Accuracy: 1.0\n",
      "Epoch: 13/50\n"
     ]
    },
    {
     "name": "stderr",
     "output_type": "stream",
     "text": [
      "100%|███████████████████████████████████████████████████████████████████████████████████| 40/40 [01:21<00:00,  2.04s/it]\n",
      "100%|███████████████████████████████████████████████████████████████████████████████████| 17/17 [00:29<00:00,  1.74s/it]\n"
     ]
    },
    {
     "name": "stdout",
     "output_type": "stream",
     "text": [
      "Train loss: 0.03728 - Validation loss: 0.03653 - Fb score: 1.0 - Cohen Kappa: 1.0 - Balanced Accuracy: 1.0\n",
      "Epoch: 14/50\n"
     ]
    },
    {
     "name": "stderr",
     "output_type": "stream",
     "text": [
      "100%|███████████████████████████████████████████████████████████████████████████████████| 40/40 [01:21<00:00,  2.03s/it]\n",
      "100%|███████████████████████████████████████████████████████████████████████████████████| 17/17 [00:28<00:00,  1.67s/it]\n"
     ]
    },
    {
     "name": "stdout",
     "output_type": "stream",
     "text": [
      "Train loss: 0.03244 - Validation loss: 0.03178 - Fb score: 1.0 - Cohen Kappa: 1.0 - Balanced Accuracy: 1.0\n",
      "Epoch: 15/50\n"
     ]
    },
    {
     "name": "stderr",
     "output_type": "stream",
     "text": [
      "100%|███████████████████████████████████████████████████████████████████████████████████| 40/40 [01:20<00:00,  2.01s/it]\n",
      "100%|███████████████████████████████████████████████████████████████████████████████████| 17/17 [00:28<00:00,  1.69s/it]\n"
     ]
    },
    {
     "name": "stdout",
     "output_type": "stream",
     "text": [
      "Train loss: 0.02869 - Validation loss: 0.02817 - Fb score: 1.0 - Cohen Kappa: 1.0 - Balanced Accuracy: 1.0\n",
      "Epoch: 16/50\n"
     ]
    },
    {
     "name": "stderr",
     "output_type": "stream",
     "text": [
      "100%|███████████████████████████████████████████████████████████████████████████████████| 40/40 [01:18<00:00,  1.96s/it]\n",
      "100%|███████████████████████████████████████████████████████████████████████████████████| 17/17 [00:29<00:00,  1.72s/it]\n"
     ]
    },
    {
     "name": "stdout",
     "output_type": "stream",
     "text": [
      "Train loss: 0.02567 - Validation loss: 0.02522 - Fb score: 1.0 - Cohen Kappa: 1.0 - Balanced Accuracy: 1.0\n",
      "Epoch: 17/50\n"
     ]
    },
    {
     "name": "stderr",
     "output_type": "stream",
     "text": [
      "100%|███████████████████████████████████████████████████████████████████████████████████| 40/40 [01:20<00:00,  2.02s/it]\n",
      "100%|███████████████████████████████████████████████████████████████████████████████████| 17/17 [00:29<00:00,  1.71s/it]\n"
     ]
    },
    {
     "name": "stdout",
     "output_type": "stream",
     "text": [
      "Train loss: 0.02311 - Validation loss: 0.02287 - Fb score: 1.0 - Cohen Kappa: 1.0 - Balanced Accuracy: 1.0\n",
      "Epoch: 18/50\n"
     ]
    },
    {
     "name": "stderr",
     "output_type": "stream",
     "text": [
      "100%|███████████████████████████████████████████████████████████████████████████████████| 40/40 [01:21<00:00,  2.04s/it]\n",
      "100%|███████████████████████████████████████████████████████████████████████████████████| 17/17 [00:28<00:00,  1.67s/it]\n"
     ]
    },
    {
     "name": "stdout",
     "output_type": "stream",
     "text": [
      "Train loss: 0.02102 - Validation loss: 0.02088 - Fb score: 1.0 - Cohen Kappa: 1.0 - Balanced Accuracy: 1.0\n",
      "Epoch: 19/50\n"
     ]
    },
    {
     "name": "stderr",
     "output_type": "stream",
     "text": [
      "100%|███████████████████████████████████████████████████████████████████████████████████| 40/40 [01:20<00:00,  2.01s/it]\n",
      "100%|███████████████████████████████████████████████████████████████████████████████████| 17/17 [00:28<00:00,  1.66s/it]\n"
     ]
    },
    {
     "name": "stdout",
     "output_type": "stream",
     "text": [
      "Train loss: 0.01916 - Validation loss: 0.01922 - Fb score: 1.0 - Cohen Kappa: 1.0 - Balanced Accuracy: 1.0\n",
      "Epoch: 20/50\n"
     ]
    },
    {
     "name": "stderr",
     "output_type": "stream",
     "text": [
      "100%|███████████████████████████████████████████████████████████████████████████████████| 40/40 [01:21<00:00,  2.04s/it]\n",
      "100%|███████████████████████████████████████████████████████████████████████████████████| 17/17 [00:28<00:00,  1.70s/it]\n"
     ]
    },
    {
     "name": "stdout",
     "output_type": "stream",
     "text": [
      "Train loss: 0.0177 - Validation loss: 0.01778 - Fb score: 1.0 - Cohen Kappa: 1.0 - Balanced Accuracy: 1.0\n",
      "Epoch: 21/50\n"
     ]
    },
    {
     "name": "stderr",
     "output_type": "stream",
     "text": [
      "100%|███████████████████████████████████████████████████████████████████████████████████| 40/40 [01:20<00:00,  2.02s/it]\n",
      "100%|███████████████████████████████████████████████████████████████████████████████████| 17/17 [00:28<00:00,  1.70s/it]\n"
     ]
    },
    {
     "name": "stdout",
     "output_type": "stream",
     "text": [
      "Train loss: 0.01646 - Validation loss: 0.01655 - Fb score: 1.0 - Cohen Kappa: 1.0 - Balanced Accuracy: 1.0\n",
      "Epoch: 22/50\n"
     ]
    },
    {
     "name": "stderr",
     "output_type": "stream",
     "text": [
      "100%|███████████████████████████████████████████████████████████████████████████████████| 40/40 [01:20<00:00,  2.00s/it]\n",
      "100%|███████████████████████████████████████████████████████████████████████████████████| 17/17 [00:28<00:00,  1.69s/it]\n"
     ]
    },
    {
     "name": "stdout",
     "output_type": "stream",
     "text": [
      "Train loss: 0.01539 - Validation loss: 0.01548 - Fb score: 1.0 - Cohen Kappa: 1.0 - Balanced Accuracy: 1.0\n",
      "Epoch: 23/50\n"
     ]
    },
    {
     "name": "stderr",
     "output_type": "stream",
     "text": [
      "100%|███████████████████████████████████████████████████████████████████████████████████| 40/40 [01:22<00:00,  2.06s/it]\n",
      "100%|███████████████████████████████████████████████████████████████████████████████████| 17/17 [00:28<00:00,  1.70s/it]\n"
     ]
    },
    {
     "name": "stdout",
     "output_type": "stream",
     "text": [
      "Train loss: 0.01446 - Validation loss: 0.01456 - Fb score: 1.0 - Cohen Kappa: 1.0 - Balanced Accuracy: 1.0\n",
      "Epoch: 24/50\n"
     ]
    },
    {
     "name": "stderr",
     "output_type": "stream",
     "text": [
      "100%|███████████████████████████████████████████████████████████████████████████████████| 40/40 [01:22<00:00,  2.07s/it]\n",
      "100%|███████████████████████████████████████████████████████████████████████████████████| 17/17 [00:28<00:00,  1.69s/it]\n"
     ]
    },
    {
     "name": "stdout",
     "output_type": "stream",
     "text": [
      "Train loss: 0.01364 - Validation loss: 0.01372 - Fb score: 1.0 - Cohen Kappa: 1.0 - Balanced Accuracy: 1.0\n",
      "Epoch: 25/50\n"
     ]
    },
    {
     "name": "stderr",
     "output_type": "stream",
     "text": [
      "100%|███████████████████████████████████████████████████████████████████████████████████| 40/40 [01:21<00:00,  2.03s/it]\n",
      "100%|███████████████████████████████████████████████████████████████████████████████████| 17/17 [00:29<00:00,  1.75s/it]\n"
     ]
    },
    {
     "name": "stdout",
     "output_type": "stream",
     "text": [
      "Train loss: 0.01287 - Validation loss: 0.01296 - Fb score: 1.0 - Cohen Kappa: 1.0 - Balanced Accuracy: 1.0\n",
      "Epoch: 26/50\n"
     ]
    },
    {
     "name": "stderr",
     "output_type": "stream",
     "text": [
      "100%|███████████████████████████████████████████████████████████████████████████████████| 40/40 [01:21<00:00,  2.03s/it]\n",
      "100%|███████████████████████████████████████████████████████████████████████████████████| 17/17 [00:29<00:00,  1.76s/it]\n"
     ]
    },
    {
     "name": "stdout",
     "output_type": "stream",
     "text": [
      "Train loss: 0.01221 - Validation loss: 0.0123 - Fb score: 1.0 - Cohen Kappa: 1.0 - Balanced Accuracy: 1.0\n",
      "Epoch: 27/50\n"
     ]
    },
    {
     "name": "stderr",
     "output_type": "stream",
     "text": [
      "100%|███████████████████████████████████████████████████████████████████████████████████| 40/40 [01:20<00:00,  2.02s/it]\n",
      "100%|███████████████████████████████████████████████████████████████████████████████████| 17/17 [00:29<00:00,  1.74s/it]\n"
     ]
    },
    {
     "name": "stdout",
     "output_type": "stream",
     "text": [
      "Train loss: 0.01162 - Validation loss: 0.01169 - Fb score: 1.0 - Cohen Kappa: 1.0 - Balanced Accuracy: 1.0\n",
      "Epoch: 28/50\n"
     ]
    },
    {
     "name": "stderr",
     "output_type": "stream",
     "text": [
      "100%|███████████████████████████████████████████████████████████████████████████████████| 40/40 [01:21<00:00,  2.05s/it]\n",
      "100%|███████████████████████████████████████████████████████████████████████████████████| 17/17 [00:29<00:00,  1.76s/it]\n"
     ]
    },
    {
     "name": "stdout",
     "output_type": "stream",
     "text": [
      "Train loss: 0.01107 - Validation loss: 0.01115 - Fb score: 1.0 - Cohen Kappa: 1.0 - Balanced Accuracy: 1.0\n",
      "Epoch: 29/50\n"
     ]
    },
    {
     "name": "stderr",
     "output_type": "stream",
     "text": [
      "100%|███████████████████████████████████████████████████████████████████████████████████| 40/40 [01:20<00:00,  2.01s/it]\n",
      "100%|███████████████████████████████████████████████████████████████████████████████████| 17/17 [00:29<00:00,  1.75s/it]\n"
     ]
    },
    {
     "name": "stdout",
     "output_type": "stream",
     "text": [
      "Train loss: 0.01057 - Validation loss: 0.01064 - Fb score: 1.0 - Cohen Kappa: 1.0 - Balanced Accuracy: 1.0\n",
      "Epoch: 30/50\n"
     ]
    },
    {
     "name": "stderr",
     "output_type": "stream",
     "text": [
      "100%|███████████████████████████████████████████████████████████████████████████████████| 40/40 [01:23<00:00,  2.10s/it]\n",
      "100%|███████████████████████████████████████████████████████████████████████████████████| 17/17 [00:28<00:00,  1.69s/it]\n"
     ]
    },
    {
     "name": "stdout",
     "output_type": "stream",
     "text": [
      "Train loss: 0.01012 - Validation loss: 0.01019 - Fb score: 1.0 - Cohen Kappa: 1.0 - Balanced Accuracy: 1.0\n",
      "Epoch: 31/50\n"
     ]
    },
    {
     "name": "stderr",
     "output_type": "stream",
     "text": [
      "100%|███████████████████████████████████████████████████████████████████████████████████| 40/40 [01:22<00:00,  2.07s/it]\n",
      "100%|███████████████████████████████████████████████████████████████████████████████████| 17/17 [00:29<00:00,  1.73s/it]\n"
     ]
    },
    {
     "name": "stdout",
     "output_type": "stream",
     "text": [
      "Train loss: 0.00969 - Validation loss: 0.00976 - Fb score: 1.0 - Cohen Kappa: 1.0 - Balanced Accuracy: 1.0\n",
      "Epoch: 32/50\n"
     ]
    },
    {
     "name": "stderr",
     "output_type": "stream",
     "text": [
      "100%|███████████████████████████████████████████████████████████████████████████████████| 40/40 [01:22<00:00,  2.05s/it]\n",
      "100%|███████████████████████████████████████████████████████████████████████████████████| 17/17 [00:30<00:00,  1.80s/it]\n"
     ]
    },
    {
     "name": "stdout",
     "output_type": "stream",
     "text": [
      "Train loss: 0.00932 - Validation loss: 0.00937 - Fb score: 1.0 - Cohen Kappa: 1.0 - Balanced Accuracy: 1.0\n",
      "Epoch: 33/50\n"
     ]
    },
    {
     "name": "stderr",
     "output_type": "stream",
     "text": [
      "100%|███████████████████████████████████████████████████████████████████████████████████| 40/40 [01:21<00:00,  2.04s/it]\n",
      "100%|███████████████████████████████████████████████████████████████████████████████████| 17/17 [00:31<00:00,  1.82s/it]\n"
     ]
    },
    {
     "name": "stdout",
     "output_type": "stream",
     "text": [
      "Train loss: 0.00896 - Validation loss: 0.00901 - Fb score: 1.0 - Cohen Kappa: 1.0 - Balanced Accuracy: 1.0\n",
      "Epoch: 34/50\n"
     ]
    },
    {
     "name": "stderr",
     "output_type": "stream",
     "text": [
      "100%|███████████████████████████████████████████████████████████████████████████████████| 40/40 [01:21<00:00,  2.05s/it]\n",
      "100%|███████████████████████████████████████████████████████████████████████████████████| 17/17 [00:30<00:00,  1.82s/it]\n"
     ]
    },
    {
     "name": "stdout",
     "output_type": "stream",
     "text": [
      "Train loss: 0.00863 - Validation loss: 0.00868 - Fb score: 1.0 - Cohen Kappa: 1.0 - Balanced Accuracy: 1.0\n",
      "Epoch: 35/50\n"
     ]
    },
    {
     "name": "stderr",
     "output_type": "stream",
     "text": [
      "100%|███████████████████████████████████████████████████████████████████████████████████| 40/40 [01:20<00:00,  2.01s/it]\n",
      "100%|███████████████████████████████████████████████████████████████████████████████████| 17/17 [00:30<00:00,  1.80s/it]\n"
     ]
    },
    {
     "name": "stdout",
     "output_type": "stream",
     "text": [
      "Train loss: 0.00832 - Validation loss: 0.00837 - Fb score: 1.0 - Cohen Kappa: 1.0 - Balanced Accuracy: 1.0\n",
      "Epoch: 36/50\n"
     ]
    },
    {
     "name": "stderr",
     "output_type": "stream",
     "text": [
      "100%|███████████████████████████████████████████████████████████████████████████████████| 40/40 [01:21<00:00,  2.04s/it]\n",
      "100%|███████████████████████████████████████████████████████████████████████████████████| 17/17 [00:31<00:00,  1.84s/it]\n"
     ]
    },
    {
     "name": "stdout",
     "output_type": "stream",
     "text": [
      "Train loss: 0.00803 - Validation loss: 0.00808 - Fb score: 1.0 - Cohen Kappa: 1.0 - Balanced Accuracy: 1.0\n",
      "Epoch: 37/50\n"
     ]
    },
    {
     "name": "stderr",
     "output_type": "stream",
     "text": [
      "100%|███████████████████████████████████████████████████████████████████████████████████| 40/40 [01:21<00:00,  2.03s/it]\n",
      "100%|███████████████████████████████████████████████████████████████████████████████████| 17/17 [00:31<00:00,  1.88s/it]\n"
     ]
    },
    {
     "name": "stdout",
     "output_type": "stream",
     "text": [
      "Train loss: 0.00776 - Validation loss: 0.00781 - Fb score: 1.0 - Cohen Kappa: 1.0 - Balanced Accuracy: 1.0\n",
      "Epoch: 38/50\n"
     ]
    },
    {
     "name": "stderr",
     "output_type": "stream",
     "text": [
      "100%|███████████████████████████████████████████████████████████████████████████████████| 40/40 [01:19<00:00,  1.99s/it]\n",
      "100%|███████████████████████████████████████████████████████████████████████████████████| 17/17 [00:30<00:00,  1.82s/it]\n"
     ]
    },
    {
     "name": "stdout",
     "output_type": "stream",
     "text": [
      "Train loss: 0.00751 - Validation loss: 0.00755 - Fb score: 1.0 - Cohen Kappa: 1.0 - Balanced Accuracy: 1.0\n",
      "Epoch: 39/50\n"
     ]
    },
    {
     "name": "stderr",
     "output_type": "stream",
     "text": [
      "100%|███████████████████████████████████████████████████████████████████████████████████| 40/40 [01:20<00:00,  2.02s/it]\n",
      "100%|███████████████████████████████████████████████████████████████████████████████████| 17/17 [00:30<00:00,  1.77s/it]\n"
     ]
    },
    {
     "name": "stdout",
     "output_type": "stream",
     "text": [
      "Train loss: 0.00728 - Validation loss: 0.00731 - Fb score: 1.0 - Cohen Kappa: 1.0 - Balanced Accuracy: 1.0\n",
      "Epoch: 40/50\n"
     ]
    },
    {
     "name": "stderr",
     "output_type": "stream",
     "text": [
      "100%|███████████████████████████████████████████████████████████████████████████████████| 40/40 [01:21<00:00,  2.03s/it]\n",
      "100%|███████████████████████████████████████████████████████████████████████████████████| 17/17 [00:30<00:00,  1.81s/it]\n"
     ]
    },
    {
     "name": "stdout",
     "output_type": "stream",
     "text": [
      "Train loss: 0.00705 - Validation loss: 0.00709 - Fb score: 1.0 - Cohen Kappa: 1.0 - Balanced Accuracy: 1.0\n",
      "Epoch: 41/50\n"
     ]
    },
    {
     "name": "stderr",
     "output_type": "stream",
     "text": [
      "100%|███████████████████████████████████████████████████████████████████████████████████| 40/40 [01:22<00:00,  2.06s/it]\n",
      "100%|███████████████████████████████████████████████████████████████████████████████████| 17/17 [00:29<00:00,  1.73s/it]\n"
     ]
    },
    {
     "name": "stdout",
     "output_type": "stream",
     "text": [
      "Train loss: 0.00684 - Validation loss: 0.00687 - Fb score: 1.0 - Cohen Kappa: 1.0 - Balanced Accuracy: 1.0\n",
      "Epoch: 42/50\n"
     ]
    },
    {
     "name": "stderr",
     "output_type": "stream",
     "text": [
      "100%|███████████████████████████████████████████████████████████████████████████████████| 40/40 [01:20<00:00,  2.01s/it]\n",
      "100%|███████████████████████████████████████████████████████████████████████████████████| 17/17 [00:32<00:00,  1.89s/it]\n"
     ]
    },
    {
     "name": "stdout",
     "output_type": "stream",
     "text": [
      "Train loss: 0.00665 - Validation loss: 0.00667 - Fb score: 1.0 - Cohen Kappa: 1.0 - Balanced Accuracy: 1.0\n",
      "Epoch: 43/50\n"
     ]
    },
    {
     "name": "stderr",
     "output_type": "stream",
     "text": [
      "100%|███████████████████████████████████████████████████████████████████████████████████| 40/40 [01:21<00:00,  2.03s/it]\n",
      "100%|███████████████████████████████████████████████████████████████████████████████████| 17/17 [00:31<00:00,  1.85s/it]\n"
     ]
    },
    {
     "name": "stdout",
     "output_type": "stream",
     "text": [
      "Train loss: 0.00646 - Validation loss: 0.00648 - Fb score: 1.0 - Cohen Kappa: 1.0 - Balanced Accuracy: 1.0\n",
      "Epoch: 44/50\n"
     ]
    },
    {
     "name": "stderr",
     "output_type": "stream",
     "text": [
      "100%|███████████████████████████████████████████████████████████████████████████████████| 40/40 [01:20<00:00,  2.01s/it]\n",
      "100%|███████████████████████████████████████████████████████████████████████████████████| 17/17 [00:30<00:00,  1.77s/it]\n"
     ]
    },
    {
     "name": "stdout",
     "output_type": "stream",
     "text": [
      "Train loss: 0.00628 - Validation loss: 0.0063 - Fb score: 1.0 - Cohen Kappa: 1.0 - Balanced Accuracy: 1.0\n",
      "Epoch: 45/50\n"
     ]
    },
    {
     "name": "stderr",
     "output_type": "stream",
     "text": [
      "100%|███████████████████████████████████████████████████████████████████████████████████| 40/40 [01:21<00:00,  2.03s/it]\n",
      "100%|███████████████████████████████████████████████████████████████████████████████████| 17/17 [00:30<00:00,  1.77s/it]\n"
     ]
    },
    {
     "name": "stdout",
     "output_type": "stream",
     "text": [
      "Train loss: 0.00611 - Validation loss: 0.00613 - Fb score: 1.0 - Cohen Kappa: 1.0 - Balanced Accuracy: 1.0\n",
      "Epoch: 46/50\n"
     ]
    },
    {
     "name": "stderr",
     "output_type": "stream",
     "text": [
      "100%|███████████████████████████████████████████████████████████████████████████████████| 40/40 [01:21<00:00,  2.05s/it]\n",
      "100%|███████████████████████████████████████████████████████████████████████████████████| 17/17 [00:31<00:00,  1.86s/it]\n"
     ]
    },
    {
     "name": "stdout",
     "output_type": "stream",
     "text": [
      "Train loss: 0.00595 - Validation loss: 0.00596 - Fb score: 1.0 - Cohen Kappa: 1.0 - Balanced Accuracy: 1.0\n",
      "Epoch: 47/50\n"
     ]
    },
    {
     "name": "stderr",
     "output_type": "stream",
     "text": [
      "100%|███████████████████████████████████████████████████████████████████████████████████| 40/40 [01:20<00:00,  2.01s/it]\n",
      "100%|███████████████████████████████████████████████████████████████████████████████████| 17/17 [00:31<00:00,  1.85s/it]\n"
     ]
    },
    {
     "name": "stdout",
     "output_type": "stream",
     "text": [
      "Train loss: 0.00579 - Validation loss: 0.00581 - Fb score: 1.0 - Cohen Kappa: 1.0 - Balanced Accuracy: 1.0\n",
      "Epoch: 48/50\n"
     ]
    },
    {
     "name": "stderr",
     "output_type": "stream",
     "text": [
      "100%|███████████████████████████████████████████████████████████████████████████████████| 40/40 [01:22<00:00,  2.06s/it]\n",
      "100%|███████████████████████████████████████████████████████████████████████████████████| 17/17 [00:31<00:00,  1.87s/it]\n"
     ]
    },
    {
     "name": "stdout",
     "output_type": "stream",
     "text": [
      "Train loss: 0.00564 - Validation loss: 0.00566 - Fb score: 1.0 - Cohen Kappa: 1.0 - Balanced Accuracy: 1.0\n",
      "Epoch: 49/50\n"
     ]
    },
    {
     "name": "stderr",
     "output_type": "stream",
     "text": [
      "100%|███████████████████████████████████████████████████████████████████████████████████| 40/40 [01:20<00:00,  2.00s/it]\n",
      "100%|███████████████████████████████████████████████████████████████████████████████████| 17/17 [00:30<00:00,  1.80s/it]\n"
     ]
    },
    {
     "name": "stdout",
     "output_type": "stream",
     "text": [
      "Train loss: 0.0055 - Validation loss: 0.00551 - Fb score: 1.0 - Cohen Kappa: 1.0 - Balanced Accuracy: 1.0\n",
      "Epoch: 50/50\n"
     ]
    },
    {
     "name": "stderr",
     "output_type": "stream",
     "text": [
      "100%|███████████████████████████████████████████████████████████████████████████████████| 40/40 [01:21<00:00,  2.05s/it]\n",
      "100%|███████████████████████████████████████████████████████████████████████████████████| 17/17 [00:30<00:00,  1.81s/it]\n"
     ]
    },
    {
     "name": "stdout",
     "output_type": "stream",
     "text": [
      "Train loss: 0.00537 - Validation loss: 0.00538 - Fb score: 1.0 - Cohen Kappa: 1.0 - Balanced Accuracy: 1.0\n"
     ]
    }
   ],
   "source": [
    "model_rd.fit(colpo_train_dataloader, colpo_val_dataloader, epochs=50)"
   ]
  },
  {
   "cell_type": "code",
   "execution_count": 32,
   "id": "5a500fa5-0c34-4eb2-8151-9c4dd66f511c",
   "metadata": {},
   "outputs": [
    {
     "name": "stderr",
     "output_type": "stream",
     "text": [
      "Some weights of ViTForImageClassification were not initialized from the model checkpoint at google/vit-base-patch16-224-in21k and are newly initialized: ['classifier.bias', 'classifier.weight']\n",
      "You should probably TRAIN this model on a down-stream task to be able to use it for predictions and inference.\n"
     ]
    }
   ],
   "source": [
    "best_model_rd = ViTForImageClassification.from_pretrained(\n",
    "    model_pre_trained,\n",
    "    num_labels=len(binary_ids2labels),\n",
    "    ignore_mismatched_sizes = True,\n",
    "    id2label={i: c for i, c in enumerate(binary_ids2labels)},\n",
    "    label2id={c: i for i, c in enumerate(binary_ids2labels)}\n",
    ")"
   ]
  },
  {
   "cell_type": "code",
   "execution_count": 39,
   "id": "eba30a5e-9c18-4be6-8288-b4581794ec64",
   "metadata": {},
   "outputs": [
    {
     "data": {
      "text/plain": [
       "<All keys matched successfully>"
      ]
     },
     "execution_count": 39,
     "metadata": {},
     "output_type": "execute_result"
    }
   ],
   "source": [
    "checkpoint = torch.load(os.path.join(path_da+name_model_da+'.pth'))\n",
    "best_model_rd.load_state_dict(checkpoint['model_state_dict'])\n",
    "#model.eval() não usei isso aqui, mas usar no vit"
   ]
  },
  {
   "cell_type": "code",
   "execution_count": 40,
   "id": "e5146514-13ca-42fb-93e6-4341de65a62e",
   "metadata": {},
   "outputs": [
    {
     "data": {
      "text/plain": [
       "50"
      ]
     },
     "execution_count": 40,
     "metadata": {},
     "output_type": "execute_result"
    }
   ],
   "source": [
    "checkpoint['epoch']"
   ]
  },
  {
   "cell_type": "code",
   "execution_count": 58,
   "id": "927da6ef-be83-4bc7-a48c-725b50af868e",
   "metadata": {},
   "outputs": [
    {
     "name": "stderr",
     "output_type": "stream",
     "text": [
      "100%|███████████████████████████████████████████████████████████████████████████████████| 17/17 [00:16<00:00,  1.02it/s]"
     ]
    },
    {
     "name": "stdout",
     "output_type": "stream",
     "text": [
      "\n",
      "f1_score: 1.0 cohen_kappa: 1.0 balanced acc: 1.0\n"
     ]
    },
    {
     "name": "stderr",
     "output_type": "stream",
     "text": [
      "\n"
     ]
    }
   ],
   "source": [
    "binary_y_pred = []\n",
    "binary_y_true = []\n",
    "\n",
    "for i, batch in enumerate(tqdm(colpo_val_dataloader)):\n",
    "    inputs, labels = batch['pixel_values'], batch['labels']\n",
    "    outputs = best_model_rd(pixel_values=inputs, labels=labels)\n",
    "\n",
    "    logits = outputs.logits\n",
    "\n",
    "    binary_y_pred = np.concatenate([binary_y_pred, torch.argmax(logits, dim=-1).tolist()])\n",
    "    binary_y_true = np.concatenate([binary_y_true, labels])\n",
    "    # print(binary_y_pred.shape)\n",
    "    # print(binary_y_true.shape)\n",
    "\n",
    "    binary_test_fb = compute_test_metrics(binary_y_true, binary_y_pred, 'fb_score')\n",
    "    binary_test_kappa = compute_test_metrics(binary_y_true, binary_y_pred, 'cohen_kappa')\n",
    "    binary_test_acc_b = compute_test_metrics(binary_y_true, binary_y_pred, 'balanced_accuracy')\n",
    "\n",
    "print(f\"\\nf1_score: {binary_test_fb}\", f\"cohen_kappa: {binary_test_kappa}\",\n",
    "      f\"balanced acc: {binary_test_acc_b}\")"
   ]
  },
  {
   "cell_type": "code",
   "execution_count": 68,
   "id": "50300d2f-ade2-4b3d-9199-af8d1991636f",
   "metadata": {},
   "outputs": [
    {
     "data": {
      "text/plain": [
       "<AxesSubplot:>"
      ]
     },
     "execution_count": 68,
     "metadata": {},
     "output_type": "execute_result"
    },
    {
     "data": {
      "image/png": "[encoded data removed]",
      "text/plain": [
       "<Figure size 2400x1200 with 2 Axes>"
      ]
     },
     "metadata": {
      "needs_background": "light"
     },
     "output_type": "display_data"
    }
   ],
   "source": [
    "cm = confusion_matrix(binary_y_true, binary_y_pred)\n",
    "\n",
    "best_model_rd_cm = pd.DataFrame(\n",
    "    cm,\n",
    "    index = {c: i for i, c in enumerate(binary_ids2labels)},\n",
    "    columns = {c: i for i, c in enumerate(binary_ids2labels)}\n",
    ")\n",
    "\n",
    "plt.figure(figsize = (12, 6), dpi=200)\n",
    "sns.heatmap(best_model_rd_cm/np.sum(cm), fmt='.2%', annot=True)"
   ]
  },
  {
   "cell_type": "markdown",
   "id": "a4973e73-7fad-4f48-a0fa-fed7ac70535e",
   "metadata": {},
   "source": [
    "##### Second model: classification with the original and equalized data"
   ]
  },
  {
   "cell_type": "code",
   "execution_count": 21,
   "id": "e5a0a7e1-2688-436f-9663-2d4a7fb0a865",
   "metadata": {},
   "outputs": [],
   "source": [
    "path_rd_da_eq = '/workspace/experiments/vit/models/binary_vit_rd_da_equalizer/'\n",
    "name_model_rd_da_eq = 'binary_vit_rd_da_equalizer'\n",
    "model_rd_da_eq = ViT(binary_model, 1e-5, path_rd_da_eq, name_model_rd_da_eq)"
   ]
  },
  {
   "cell_type": "code",
   "execution_count": 22,
   "id": "0db3b407-6f8d-42d9-8e02-d5c6c83f6dd6",
   "metadata": {},
   "outputs": [],
   "source": [
    "colpo_train_dataloader_eq = DataLoader(\n",
    "    colpo_train_set_e,\n",
    "    batch_size=16,\n",
    "    num_workers=4,\n",
    "    collate_fn=c_fn,\n",
    "    shuffle=True\n",
    ")"
   ]
  },
  {
   "cell_type": "code",
   "execution_count": 23,
   "id": "d7adabc7-de85-4f8d-92c7-eaf4459ca54c",
   "metadata": {
    "scrolled": true
   },
   "outputs": [
    {
     "name": "stdout",
     "output_type": "stream",
     "text": [
      "Epoch: 1/70\n"
     ]
    },
    {
     "name": "stderr",
     "output_type": "stream",
     "text": [
      "100%|███████████████████████████████████████████████████████████████████████████████████| 80/80 [02:27<00:00,  1.85s/it]\n",
      "100%|███████████████████████████████████████████████████████████████████████████████████| 17/17 [00:29<00:00,  1.75s/it]\n"
     ]
    },
    {
     "name": "stdout",
     "output_type": "stream",
     "text": [
      "Train loss: 1.31551 - Validation loss: 0.66661 - Fb score: 0.75722 - Cohen Kappa: 0.21114 - Balanced Accuracy: 0.60777\n",
      "Epoch: 2/70\n"
     ]
    },
    {
     "name": "stderr",
     "output_type": "stream",
     "text": [
      "100%|███████████████████████████████████████████████████████████████████████████████████| 80/80 [02:28<00:00,  1.85s/it]\n",
      "100%|███████████████████████████████████████████████████████████████████████████████████| 17/17 [00:28<00:00,  1.65s/it]\n"
     ]
    },
    {
     "name": "stdout",
     "output_type": "stream",
     "text": [
      "Train loss: 1.05085 - Validation loss: 0.60625 - Fb score: 0.80806 - Cohen Kappa: 0.35464 - Balanced Accuracy: 0.68067\n",
      "Epoch: 3/70\n"
     ]
    },
    {
     "name": "stderr",
     "output_type": "stream",
     "text": [
      "100%|███████████████████████████████████████████████████████████████████████████████████| 80/80 [02:31<00:00,  1.89s/it]\n",
      "100%|███████████████████████████████████████████████████████████████████████████████████| 17/17 [00:27<00:00,  1.60s/it]\n"
     ]
    },
    {
     "name": "stdout",
     "output_type": "stream",
     "text": [
      "Train loss: 0.77779 - Validation loss: 0.41904 - Fb score: 0.88415 - Cohen Kappa: 0.74929 - Balanced Accuracy: 0.87538\n",
      "Epoch: 4/70\n"
     ]
    },
    {
     "name": "stderr",
     "output_type": "stream",
     "text": [
      "100%|███████████████████████████████████████████████████████████████████████████████████| 80/80 [02:32<00:00,  1.90s/it]\n",
      "100%|███████████████████████████████████████████████████████████████████████████████████| 17/17 [00:27<00:00,  1.59s/it]\n"
     ]
    },
    {
     "name": "stdout",
     "output_type": "stream",
     "text": [
      "Train loss: 0.42296 - Validation loss: 0.22999 - Fb score: 0.95196 - Cohen Kappa: 0.90398 - Balanced Accuracy: 0.9521\n",
      "Epoch: 5/70\n"
     ]
    },
    {
     "name": "stderr",
     "output_type": "stream",
     "text": [
      "100%|███████████████████████████████████████████████████████████████████████████████████| 80/80 [02:31<00:00,  1.89s/it]\n",
      "100%|███████████████████████████████████████████████████████████████████████████████████| 17/17 [00:28<00:00,  1.65s/it]\n"
     ]
    },
    {
     "name": "stdout",
     "output_type": "stream",
     "text": [
      "Train loss: 0.22654 - Validation loss: 0.11458 - Fb score: 0.993 - Cohen Kappa: 0.97785 - Balanced Accuracy: 0.98929\n",
      "Epoch: 6/70\n"
     ]
    },
    {
     "name": "stderr",
     "output_type": "stream",
     "text": [
      "100%|███████████████████████████████████████████████████████████████████████████████████| 80/80 [02:30<00:00,  1.88s/it]\n",
      "100%|███████████████████████████████████████████████████████████████████████████████████| 17/17 [00:29<00:00,  1.74s/it]\n"
     ]
    },
    {
     "name": "stdout",
     "output_type": "stream",
     "text": [
      "Train loss: 0.14211 - Validation loss: 0.06338 - Fb score: 1.0 - Cohen Kappa: 1.0 - Balanced Accuracy: 1.0\n",
      "Epoch: 7/70\n"
     ]
    },
    {
     "name": "stderr",
     "output_type": "stream",
     "text": [
      "100%|███████████████████████████████████████████████████████████████████████████████████| 80/80 [02:33<00:00,  1.92s/it]\n",
      "100%|███████████████████████████████████████████████████████████████████████████████████| 17/17 [00:27<00:00,  1.63s/it]\n"
     ]
    },
    {
     "name": "stdout",
     "output_type": "stream",
     "text": [
      "Train loss: 0.08498 - Validation loss: 0.04487 - Fb score: 1.0 - Cohen Kappa: 1.0 - Balanced Accuracy: 1.0\n",
      "Epoch: 8/70\n"
     ]
    },
    {
     "name": "stderr",
     "output_type": "stream",
     "text": [
      "100%|███████████████████████████████████████████████████████████████████████████████████| 80/80 [02:32<00:00,  1.91s/it]\n",
      "100%|███████████████████████████████████████████████████████████████████████████████████| 17/17 [00:27<00:00,  1.61s/it]\n"
     ]
    },
    {
     "name": "stdout",
     "output_type": "stream",
     "text": [
      "Train loss: 0.09115 - Validation loss: 0.04846 - Fb score: 0.99532 - Cohen Kappa: 0.98523 - Balanced Accuracy: 0.99286\n",
      "Epoch: 9/70\n"
     ]
    },
    {
     "name": "stderr",
     "output_type": "stream",
     "text": [
      "100%|███████████████████████████████████████████████████████████████████████████████████| 80/80 [02:31<00:00,  1.90s/it]\n",
      "100%|███████████████████████████████████████████████████████████████████████████████████| 17/17 [00:28<00:00,  1.66s/it]\n"
     ]
    },
    {
     "name": "stdout",
     "output_type": "stream",
     "text": [
      "Train loss: 0.07058 - Validation loss: 0.03053 - Fb score: 1.0 - Cohen Kappa: 1.0 - Balanced Accuracy: 1.0\n",
      "Epoch: 10/70\n"
     ]
    },
    {
     "name": "stderr",
     "output_type": "stream",
     "text": [
      "100%|███████████████████████████████████████████████████████████████████████████████████| 80/80 [02:30<00:00,  1.88s/it]\n",
      "100%|███████████████████████████████████████████████████████████████████████████████████| 17/17 [00:29<00:00,  1.73s/it]\n"
     ]
    },
    {
     "name": "stdout",
     "output_type": "stream",
     "text": [
      "Train loss: 0.04254 - Validation loss: 0.02251 - Fb score: 1.0 - Cohen Kappa: 1.0 - Balanced Accuracy: 1.0\n",
      "Epoch: 11/70\n"
     ]
    },
    {
     "name": "stderr",
     "output_type": "stream",
     "text": [
      "100%|███████████████████████████████████████████████████████████████████████████████████| 80/80 [02:32<00:00,  1.90s/it]\n",
      "100%|███████████████████████████████████████████████████████████████████████████████████| 17/17 [00:27<00:00,  1.60s/it]\n"
     ]
    },
    {
     "name": "stdout",
     "output_type": "stream",
     "text": [
      "Train loss: 0.03595 - Validation loss: 0.01909 - Fb score: 1.0 - Cohen Kappa: 1.0 - Balanced Accuracy: 1.0\n",
      "Epoch: 12/70\n"
     ]
    },
    {
     "name": "stderr",
     "output_type": "stream",
     "text": [
      "100%|███████████████████████████████████████████████████████████████████████████████████| 80/80 [02:32<00:00,  1.90s/it]\n",
      "100%|███████████████████████████████████████████████████████████████████████████████████| 17/17 [00:28<00:00,  1.65s/it]\n"
     ]
    },
    {
     "name": "stdout",
     "output_type": "stream",
     "text": [
      "Train loss: 0.03151 - Validation loss: 0.01657 - Fb score: 1.0 - Cohen Kappa: 1.0 - Balanced Accuracy: 1.0\n",
      "Epoch: 13/70\n"
     ]
    },
    {
     "name": "stderr",
     "output_type": "stream",
     "text": [
      "100%|███████████████████████████████████████████████████████████████████████████████████| 80/80 [02:30<00:00,  1.88s/it]\n",
      "100%|███████████████████████████████████████████████████████████████████████████████████| 17/17 [00:28<00:00,  1.70s/it]\n"
     ]
    },
    {
     "name": "stdout",
     "output_type": "stream",
     "text": [
      "Train loss: 0.02773 - Validation loss: 0.01466 - Fb score: 1.0 - Cohen Kappa: 1.0 - Balanced Accuracy: 1.0\n",
      "Epoch: 14/70\n"
     ]
    },
    {
     "name": "stderr",
     "output_type": "stream",
     "text": [
      "100%|███████████████████████████████████████████████████████████████████████████████████| 80/80 [02:31<00:00,  1.90s/it]\n",
      "100%|███████████████████████████████████████████████████████████████████████████████████| 17/17 [00:27<00:00,  1.63s/it]\n"
     ]
    },
    {
     "name": "stdout",
     "output_type": "stream",
     "text": [
      "Train loss: 0.02481 - Validation loss: 0.01314 - Fb score: 1.0 - Cohen Kappa: 1.0 - Balanced Accuracy: 1.0\n",
      "Epoch: 15/70\n"
     ]
    },
    {
     "name": "stderr",
     "output_type": "stream",
     "text": [
      "100%|███████████████████████████████████████████████████████████████████████████████████| 80/80 [02:29<00:00,  1.87s/it]\n",
      "100%|███████████████████████████████████████████████████████████████████████████████████| 17/17 [00:28<00:00,  1.70s/it]\n"
     ]
    },
    {
     "name": "stdout",
     "output_type": "stream",
     "text": [
      "Train loss: 0.02258 - Validation loss: 0.01188 - Fb score: 1.0 - Cohen Kappa: 1.0 - Balanced Accuracy: 1.0\n",
      "Epoch: 16/70\n"
     ]
    },
    {
     "name": "stderr",
     "output_type": "stream",
     "text": [
      "100%|███████████████████████████████████████████████████████████████████████████████████| 80/80 [02:29<00:00,  1.87s/it]\n",
      "100%|███████████████████████████████████████████████████████████████████████████████████| 17/17 [00:29<00:00,  1.74s/it]\n"
     ]
    },
    {
     "name": "stdout",
     "output_type": "stream",
     "text": [
      "Train loss: 0.02072 - Validation loss: 0.01083 - Fb score: 1.0 - Cohen Kappa: 1.0 - Balanced Accuracy: 1.0\n",
      "Epoch: 17/70\n"
     ]
    },
    {
     "name": "stderr",
     "output_type": "stream",
     "text": [
      "100%|███████████████████████████████████████████████████████████████████████████████████| 80/80 [02:33<00:00,  1.92s/it]\n",
      "100%|███████████████████████████████████████████████████████████████████████████████████| 17/17 [00:28<00:00,  1.69s/it]\n"
     ]
    },
    {
     "name": "stdout",
     "output_type": "stream",
     "text": [
      "Train loss: 0.01896 - Validation loss: 0.00995 - Fb score: 1.0 - Cohen Kappa: 1.0 - Balanced Accuracy: 1.0\n",
      "Epoch: 18/70\n"
     ]
    },
    {
     "name": "stderr",
     "output_type": "stream",
     "text": [
      "100%|███████████████████████████████████████████████████████████████████████████████████| 80/80 [02:30<00:00,  1.88s/it]\n",
      "100%|███████████████████████████████████████████████████████████████████████████████████| 17/17 [00:28<00:00,  1.66s/it]\n"
     ]
    },
    {
     "name": "stdout",
     "output_type": "stream",
     "text": [
      "Train loss: 0.01763 - Validation loss: 0.00919 - Fb score: 1.0 - Cohen Kappa: 1.0 - Balanced Accuracy: 1.0\n",
      "Epoch: 19/70\n"
     ]
    },
    {
     "name": "stderr",
     "output_type": "stream",
     "text": [
      "100%|███████████████████████████████████████████████████████████████████████████████████| 80/80 [02:30<00:00,  1.88s/it]\n",
      "100%|███████████████████████████████████████████████████████████████████████████████████| 17/17 [00:28<00:00,  1.69s/it]\n"
     ]
    },
    {
     "name": "stdout",
     "output_type": "stream",
     "text": [
      "Train loss: 0.01636 - Validation loss: 0.00853 - Fb score: 1.0 - Cohen Kappa: 1.0 - Balanced Accuracy: 1.0\n",
      "Epoch: 20/70\n"
     ]
    },
    {
     "name": "stderr",
     "output_type": "stream",
     "text": [
      "100%|███████████████████████████████████████████████████████████████████████████████████| 80/80 [02:30<00:00,  1.89s/it]\n",
      "100%|███████████████████████████████████████████████████████████████████████████████████| 17/17 [00:26<00:00,  1.58s/it]\n"
     ]
    },
    {
     "name": "stdout",
     "output_type": "stream",
     "text": [
      "Train loss: 0.01524 - Validation loss: 0.00796 - Fb score: 1.0 - Cohen Kappa: 1.0 - Balanced Accuracy: 1.0\n",
      "Epoch: 21/70\n"
     ]
    },
    {
     "name": "stderr",
     "output_type": "stream",
     "text": [
      "100%|███████████████████████████████████████████████████████████████████████████████████| 80/80 [02:30<00:00,  1.89s/it]\n",
      "100%|███████████████████████████████████████████████████████████████████████████████████| 17/17 [00:29<00:00,  1.74s/it]\n"
     ]
    },
    {
     "name": "stdout",
     "output_type": "stream",
     "text": [
      "Train loss: 0.01424 - Validation loss: 0.00745 - Fb score: 1.0 - Cohen Kappa: 1.0 - Balanced Accuracy: 1.0\n",
      "Epoch: 22/70\n"
     ]
    },
    {
     "name": "stderr",
     "output_type": "stream",
     "text": [
      "100%|███████████████████████████████████████████████████████████████████████████████████| 80/80 [02:33<00:00,  1.91s/it]\n",
      "100%|███████████████████████████████████████████████████████████████████████████████████| 17/17 [00:29<00:00,  1.73s/it]\n"
     ]
    },
    {
     "name": "stdout",
     "output_type": "stream",
     "text": [
      "Train loss: 0.01339 - Validation loss: 0.00699 - Fb score: 1.0 - Cohen Kappa: 1.0 - Balanced Accuracy: 1.0\n",
      "Epoch: 23/70\n"
     ]
    },
    {
     "name": "stderr",
     "output_type": "stream",
     "text": [
      "100%|███████████████████████████████████████████████████████████████████████████████████| 80/80 [02:30<00:00,  1.89s/it]\n",
      "100%|███████████████████████████████████████████████████████████████████████████████████| 17/17 [00:27<00:00,  1.60s/it]\n"
     ]
    },
    {
     "name": "stdout",
     "output_type": "stream",
     "text": [
      "Train loss: 0.01263 - Validation loss: 0.00658 - Fb score: 1.0 - Cohen Kappa: 1.0 - Balanced Accuracy: 1.0\n",
      "Epoch: 24/70\n"
     ]
    },
    {
     "name": "stderr",
     "output_type": "stream",
     "text": [
      "100%|███████████████████████████████████████████████████████████████████████████████████| 80/80 [02:33<00:00,  1.92s/it]\n",
      "100%|███████████████████████████████████████████████████████████████████████████████████| 17/17 [00:31<00:00,  1.85s/it]\n"
     ]
    },
    {
     "name": "stdout",
     "output_type": "stream",
     "text": [
      "Train loss: 0.01197 - Validation loss: 0.00621 - Fb score: 1.0 - Cohen Kappa: 1.0 - Balanced Accuracy: 1.0\n",
      "Epoch: 25/70\n"
     ]
    },
    {
     "name": "stderr",
     "output_type": "stream",
     "text": [
      "100%|███████████████████████████████████████████████████████████████████████████████████| 80/80 [02:33<00:00,  1.91s/it]\n",
      "100%|███████████████████████████████████████████████████████████████████████████████████| 17/17 [00:28<00:00,  1.68s/it]\n"
     ]
    },
    {
     "name": "stdout",
     "output_type": "stream",
     "text": [
      "Train loss: 0.01133 - Validation loss: 0.00587 - Fb score: 1.0 - Cohen Kappa: 1.0 - Balanced Accuracy: 1.0\n",
      "Epoch: 26/70\n"
     ]
    },
    {
     "name": "stderr",
     "output_type": "stream",
     "text": [
      "100%|███████████████████████████████████████████████████████████████████████████████████| 80/80 [02:32<00:00,  1.90s/it]\n",
      "100%|███████████████████████████████████████████████████████████████████████████████████| 17/17 [00:28<00:00,  1.70s/it]\n"
     ]
    },
    {
     "name": "stdout",
     "output_type": "stream",
     "text": [
      "Train loss: 0.01072 - Validation loss: 0.00556 - Fb score: 1.0 - Cohen Kappa: 1.0 - Balanced Accuracy: 1.0\n",
      "Epoch: 27/70\n"
     ]
    },
    {
     "name": "stderr",
     "output_type": "stream",
     "text": [
      "100%|███████████████████████████████████████████████████████████████████████████████████| 80/80 [02:30<00:00,  1.88s/it]\n",
      "100%|███████████████████████████████████████████████████████████████████████████████████| 17/17 [00:29<00:00,  1.76s/it]\n"
     ]
    },
    {
     "name": "stdout",
     "output_type": "stream",
     "text": [
      "Train loss: 0.01018 - Validation loss: 0.00528 - Fb score: 1.0 - Cohen Kappa: 1.0 - Balanced Accuracy: 1.0\n",
      "Epoch: 28/70\n"
     ]
    },
    {
     "name": "stderr",
     "output_type": "stream",
     "text": [
      "100%|███████████████████████████████████████████████████████████████████████████████████| 80/80 [02:27<00:00,  1.84s/it]\n",
      "100%|███████████████████████████████████████████████████████████████████████████████████| 17/17 [00:28<00:00,  1.70s/it]\n"
     ]
    },
    {
     "name": "stdout",
     "output_type": "stream",
     "text": [
      "Train loss: 0.0097 - Validation loss: 0.00502 - Fb score: 1.0 - Cohen Kappa: 1.0 - Balanced Accuracy: 1.0\n",
      "Epoch: 29/70\n"
     ]
    },
    {
     "name": "stderr",
     "output_type": "stream",
     "text": [
      "100%|███████████████████████████████████████████████████████████████████████████████████| 80/80 [02:32<00:00,  1.91s/it]\n",
      "100%|███████████████████████████████████████████████████████████████████████████████████| 17/17 [00:28<00:00,  1.65s/it]\n"
     ]
    },
    {
     "name": "stdout",
     "output_type": "stream",
     "text": [
      "Train loss: 0.00924 - Validation loss: 0.00477 - Fb score: 1.0 - Cohen Kappa: 1.0 - Balanced Accuracy: 1.0\n",
      "Epoch: 30/70\n"
     ]
    },
    {
     "name": "stderr",
     "output_type": "stream",
     "text": [
      "100%|███████████████████████████████████████████████████████████████████████████████████| 80/80 [02:34<00:00,  1.93s/it]\n",
      "100%|███████████████████████████████████████████████████████████████████████████████████| 17/17 [00:30<00:00,  1.79s/it]\n"
     ]
    },
    {
     "name": "stdout",
     "output_type": "stream",
     "text": [
      "Train loss: 0.00883 - Validation loss: 0.00455 - Fb score: 1.0 - Cohen Kappa: 1.0 - Balanced Accuracy: 1.0\n",
      "Epoch: 31/70\n"
     ]
    },
    {
     "name": "stderr",
     "output_type": "stream",
     "text": [
      "100%|███████████████████████████████████████████████████████████████████████████████████| 80/80 [02:32<00:00,  1.90s/it]\n",
      "100%|███████████████████████████████████████████████████████████████████████████████████| 17/17 [00:30<00:00,  1.80s/it]\n"
     ]
    },
    {
     "name": "stdout",
     "output_type": "stream",
     "text": [
      "Train loss: 0.00844 - Validation loss: 0.00434 - Fb score: 1.0 - Cohen Kappa: 1.0 - Balanced Accuracy: 1.0\n",
      "Epoch: 32/70\n"
     ]
    },
    {
     "name": "stderr",
     "output_type": "stream",
     "text": [
      "100%|███████████████████████████████████████████████████████████████████████████████████| 80/80 [02:32<00:00,  1.91s/it]\n",
      "100%|███████████████████████████████████████████████████████████████████████████████████| 17/17 [00:30<00:00,  1.80s/it]\n"
     ]
    },
    {
     "name": "stdout",
     "output_type": "stream",
     "text": [
      "Train loss: 0.00806 - Validation loss: 0.00414 - Fb score: 1.0 - Cohen Kappa: 1.0 - Balanced Accuracy: 1.0\n",
      "Epoch: 33/70\n"
     ]
    },
    {
     "name": "stderr",
     "output_type": "stream",
     "text": [
      "100%|███████████████████████████████████████████████████████████████████████████████████| 80/80 [02:32<00:00,  1.91s/it]\n",
      "100%|███████████████████████████████████████████████████████████████████████████████████| 17/17 [00:30<00:00,  1.80s/it]\n"
     ]
    },
    {
     "name": "stdout",
     "output_type": "stream",
     "text": [
      "Train loss: 0.00769 - Validation loss: 0.00396 - Fb score: 1.0 - Cohen Kappa: 1.0 - Balanced Accuracy: 1.0\n",
      "Epoch: 34/70\n"
     ]
    },
    {
     "name": "stderr",
     "output_type": "stream",
     "text": [
      "100%|███████████████████████████████████████████████████████████████████████████████████| 80/80 [02:31<00:00,  1.90s/it]\n",
      "100%|███████████████████████████████████████████████████████████████████████████████████| 17/17 [00:29<00:00,  1.73s/it]\n"
     ]
    },
    {
     "name": "stdout",
     "output_type": "stream",
     "text": [
      "Train loss: 0.00738 - Validation loss: 0.00378 - Fb score: 1.0 - Cohen Kappa: 1.0 - Balanced Accuracy: 1.0\n",
      "Epoch: 35/70\n"
     ]
    },
    {
     "name": "stderr",
     "output_type": "stream",
     "text": [
      "100%|███████████████████████████████████████████████████████████████████████████████████| 80/80 [02:25<00:00,  1.82s/it]\n",
      "100%|███████████████████████████████████████████████████████████████████████████████████| 17/17 [00:29<00:00,  1.73s/it]\n"
     ]
    },
    {
     "name": "stdout",
     "output_type": "stream",
     "text": [
      "Train loss: 0.00706 - Validation loss: 0.00362 - Fb score: 1.0 - Cohen Kappa: 1.0 - Balanced Accuracy: 1.0\n",
      "Epoch: 36/70\n"
     ]
    },
    {
     "name": "stderr",
     "output_type": "stream",
     "text": [
      "100%|███████████████████████████████████████████████████████████████████████████████████| 80/80 [02:33<00:00,  1.92s/it]\n",
      "100%|███████████████████████████████████████████████████████████████████████████████████| 17/17 [00:30<00:00,  1.77s/it]\n"
     ]
    },
    {
     "name": "stdout",
     "output_type": "stream",
     "text": [
      "Train loss: 0.00677 - Validation loss: 0.00346 - Fb score: 1.0 - Cohen Kappa: 1.0 - Balanced Accuracy: 1.0\n",
      "Epoch: 37/70\n"
     ]
    },
    {
     "name": "stderr",
     "output_type": "stream",
     "text": [
      "100%|███████████████████████████████████████████████████████████████████████████████████| 80/80 [02:30<00:00,  1.88s/it]\n",
      "100%|███████████████████████████████████████████████████████████████████████████████████| 17/17 [00:29<00:00,  1.75s/it]\n"
     ]
    },
    {
     "name": "stdout",
     "output_type": "stream",
     "text": [
      "Train loss: 0.00649 - Validation loss: 0.00332 - Fb score: 1.0 - Cohen Kappa: 1.0 - Balanced Accuracy: 1.0\n",
      "Epoch: 38/70\n"
     ]
    },
    {
     "name": "stderr",
     "output_type": "stream",
     "text": [
      "100%|███████████████████████████████████████████████████████████████████████████████████| 80/80 [02:29<00:00,  1.86s/it]\n",
      "100%|███████████████████████████████████████████████████████████████████████████████████| 17/17 [00:31<00:00,  1.85s/it]\n"
     ]
    },
    {
     "name": "stdout",
     "output_type": "stream",
     "text": [
      "Train loss: 0.00625 - Validation loss: 0.00318 - Fb score: 1.0 - Cohen Kappa: 1.0 - Balanced Accuracy: 1.0\n",
      "Epoch: 39/70\n"
     ]
    },
    {
     "name": "stderr",
     "output_type": "stream",
     "text": [
      "100%|███████████████████████████████████████████████████████████████████████████████████| 80/80 [02:34<00:00,  1.93s/it]\n",
      "100%|███████████████████████████████████████████████████████████████████████████████████| 17/17 [00:30<00:00,  1.81s/it]\n"
     ]
    },
    {
     "name": "stdout",
     "output_type": "stream",
     "text": [
      "Train loss: 0.00597 - Validation loss: 0.00305 - Fb score: 1.0 - Cohen Kappa: 1.0 - Balanced Accuracy: 1.0\n",
      "Epoch: 40/70\n"
     ]
    },
    {
     "name": "stderr",
     "output_type": "stream",
     "text": [
      "100%|███████████████████████████████████████████████████████████████████████████████████| 80/80 [02:33<00:00,  1.92s/it]\n",
      "100%|███████████████████████████████████████████████████████████████████████████████████| 17/17 [00:29<00:00,  1.74s/it]\n"
     ]
    },
    {
     "name": "stdout",
     "output_type": "stream",
     "text": [
      "Train loss: 0.00574 - Validation loss: 0.00292 - Fb score: 1.0 - Cohen Kappa: 1.0 - Balanced Accuracy: 1.0\n",
      "Epoch: 41/70\n"
     ]
    },
    {
     "name": "stderr",
     "output_type": "stream",
     "text": [
      "100%|███████████████████████████████████████████████████████████████████████████████████| 80/80 [02:33<00:00,  1.92s/it]\n",
      "100%|███████████████████████████████████████████████████████████████████████████████████| 17/17 [00:30<00:00,  1.77s/it]\n"
     ]
    },
    {
     "name": "stdout",
     "output_type": "stream",
     "text": [
      "Train loss: 0.00551 - Validation loss: 0.00281 - Fb score: 1.0 - Cohen Kappa: 1.0 - Balanced Accuracy: 1.0\n",
      "Epoch: 42/70\n"
     ]
    },
    {
     "name": "stderr",
     "output_type": "stream",
     "text": [
      "100%|███████████████████████████████████████████████████████████████████████████████████| 80/80 [02:31<00:00,  1.89s/it]\n",
      "100%|███████████████████████████████████████████████████████████████████████████████████| 17/17 [00:29<00:00,  1.76s/it]\n"
     ]
    },
    {
     "name": "stdout",
     "output_type": "stream",
     "text": [
      "Train loss: 0.00529 - Validation loss: 0.00269 - Fb score: 1.0 - Cohen Kappa: 1.0 - Balanced Accuracy: 1.0\n",
      "Epoch: 43/70\n"
     ]
    },
    {
     "name": "stderr",
     "output_type": "stream",
     "text": [
      "100%|███████████████████████████████████████████████████████████████████████████████████| 80/80 [02:29<00:00,  1.87s/it]\n",
      "100%|███████████████████████████████████████████████████████████████████████████████████| 17/17 [00:30<00:00,  1.81s/it]\n"
     ]
    },
    {
     "name": "stdout",
     "output_type": "stream",
     "text": [
      "Train loss: 0.00509 - Validation loss: 0.00259 - Fb score: 1.0 - Cohen Kappa: 1.0 - Balanced Accuracy: 1.0\n",
      "Epoch: 44/70\n"
     ]
    },
    {
     "name": "stderr",
     "output_type": "stream",
     "text": [
      "100%|███████████████████████████████████████████████████████████████████████████████████| 80/80 [02:34<00:00,  1.93s/it]\n",
      "100%|███████████████████████████████████████████████████████████████████████████████████| 17/17 [00:30<00:00,  1.77s/it]\n"
     ]
    },
    {
     "name": "stdout",
     "output_type": "stream",
     "text": [
      "Train loss: 0.00488 - Validation loss: 0.00248 - Fb score: 1.0 - Cohen Kappa: 1.0 - Balanced Accuracy: 1.0\n",
      "Epoch: 45/70\n"
     ]
    },
    {
     "name": "stderr",
     "output_type": "stream",
     "text": [
      "100%|███████████████████████████████████████████████████████████████████████████████████| 80/80 [02:33<00:00,  1.91s/it]\n",
      "100%|███████████████████████████████████████████████████████████████████████████████████| 17/17 [00:31<00:00,  1.83s/it]\n"
     ]
    },
    {
     "name": "stdout",
     "output_type": "stream",
     "text": [
      "Train loss: 0.00469 - Validation loss: 0.00238 - Fb score: 1.0 - Cohen Kappa: 1.0 - Balanced Accuracy: 1.0\n",
      "Epoch: 46/70\n"
     ]
    },
    {
     "name": "stderr",
     "output_type": "stream",
     "text": [
      "100%|███████████████████████████████████████████████████████████████████████████████████| 80/80 [02:35<00:00,  1.95s/it]\n",
      "100%|███████████████████████████████████████████████████████████████████████████████████| 17/17 [00:30<00:00,  1.77s/it]\n"
     ]
    },
    {
     "name": "stdout",
     "output_type": "stream",
     "text": [
      "Train loss: 0.00451 - Validation loss: 0.00229 - Fb score: 1.0 - Cohen Kappa: 1.0 - Balanced Accuracy: 1.0\n",
      "Epoch: 47/70\n"
     ]
    },
    {
     "name": "stderr",
     "output_type": "stream",
     "text": [
      "100%|███████████████████████████████████████████████████████████████████████████████████| 80/80 [02:35<00:00,  1.95s/it]\n",
      "100%|███████████████████████████████████████████████████████████████████████████████████| 17/17 [00:29<00:00,  1.76s/it]\n"
     ]
    },
    {
     "name": "stdout",
     "output_type": "stream",
     "text": [
      "Train loss: 0.00435 - Validation loss: 0.0022 - Fb score: 1.0 - Cohen Kappa: 1.0 - Balanced Accuracy: 1.0\n",
      "Epoch: 48/70\n"
     ]
    },
    {
     "name": "stderr",
     "output_type": "stream",
     "text": [
      "100%|███████████████████████████████████████████████████████████████████████████████████| 80/80 [02:35<00:00,  1.95s/it]\n",
      "100%|███████████████████████████████████████████████████████████████████████████████████| 17/17 [00:30<00:00,  1.80s/it]\n"
     ]
    },
    {
     "name": "stdout",
     "output_type": "stream",
     "text": [
      "Train loss: 0.00418 - Validation loss: 0.00212 - Fb score: 1.0 - Cohen Kappa: 1.0 - Balanced Accuracy: 1.0\n",
      "Epoch: 49/70\n"
     ]
    },
    {
     "name": "stderr",
     "output_type": "stream",
     "text": [
      "100%|███████████████████████████████████████████████████████████████████████████████████| 80/80 [02:30<00:00,  1.88s/it]\n",
      "100%|███████████████████████████████████████████████████████████████████████████████████| 17/17 [00:29<00:00,  1.75s/it]\n"
     ]
    },
    {
     "name": "stdout",
     "output_type": "stream",
     "text": [
      "Train loss: 0.00402 - Validation loss: 0.00203 - Fb score: 1.0 - Cohen Kappa: 1.0 - Balanced Accuracy: 1.0\n",
      "Epoch: 50/70\n"
     ]
    },
    {
     "name": "stderr",
     "output_type": "stream",
     "text": [
      "100%|███████████████████████████████████████████████████████████████████████████████████| 80/80 [02:32<00:00,  1.90s/it]\n",
      "100%|███████████████████████████████████████████████████████████████████████████████████| 17/17 [00:30<00:00,  1.79s/it]\n"
     ]
    },
    {
     "name": "stdout",
     "output_type": "stream",
     "text": [
      "Train loss: 0.00387 - Validation loss: 0.00195 - Fb score: 1.0 - Cohen Kappa: 1.0 - Balanced Accuracy: 1.0\n",
      "Epoch: 51/70\n"
     ]
    },
    {
     "name": "stderr",
     "output_type": "stream",
     "text": [
      "100%|███████████████████████████████████████████████████████████████████████████████████| 80/80 [02:36<00:00,  1.95s/it]\n",
      "100%|███████████████████████████████████████████████████████████████████████████████████| 17/17 [00:31<00:00,  1.85s/it]\n"
     ]
    },
    {
     "name": "stdout",
     "output_type": "stream",
     "text": [
      "Train loss: 0.00372 - Validation loss: 0.00188 - Fb score: 1.0 - Cohen Kappa: 1.0 - Balanced Accuracy: 1.0\n",
      "Epoch: 52/70\n"
     ]
    },
    {
     "name": "stderr",
     "output_type": "stream",
     "text": [
      "100%|███████████████████████████████████████████████████████████████████████████████████| 80/80 [02:31<00:00,  1.90s/it]\n",
      "100%|███████████████████████████████████████████████████████████████████████████████████| 17/17 [00:29<00:00,  1.73s/it]\n"
     ]
    },
    {
     "name": "stdout",
     "output_type": "stream",
     "text": [
      "Train loss: 0.00357 - Validation loss: 0.00181 - Fb score: 1.0 - Cohen Kappa: 1.0 - Balanced Accuracy: 1.0\n",
      "Epoch: 53/70\n"
     ]
    },
    {
     "name": "stderr",
     "output_type": "stream",
     "text": [
      "100%|███████████████████████████████████████████████████████████████████████████████████| 80/80 [02:33<00:00,  1.92s/it]\n",
      "100%|███████████████████████████████████████████████████████████████████████████████████| 17/17 [00:30<00:00,  1.82s/it]\n"
     ]
    },
    {
     "name": "stdout",
     "output_type": "stream",
     "text": [
      "Train loss: 0.00344 - Validation loss: 0.00174 - Fb score: 1.0 - Cohen Kappa: 1.0 - Balanced Accuracy: 1.0\n",
      "Epoch: 54/70\n"
     ]
    },
    {
     "name": "stderr",
     "output_type": "stream",
     "text": [
      "100%|███████████████████████████████████████████████████████████████████████████████████| 80/80 [02:32<00:00,  1.91s/it]\n",
      "100%|███████████████████████████████████████████████████████████████████████████████████| 17/17 [00:30<00:00,  1.81s/it]\n"
     ]
    },
    {
     "name": "stdout",
     "output_type": "stream",
     "text": [
      "Train loss: 0.00331 - Validation loss: 0.00167 - Fb score: 1.0 - Cohen Kappa: 1.0 - Balanced Accuracy: 1.0\n",
      "Epoch: 55/70\n"
     ]
    },
    {
     "name": "stderr",
     "output_type": "stream",
     "text": [
      "100%|███████████████████████████████████████████████████████████████████████████████████| 80/80 [02:32<00:00,  1.91s/it]\n",
      "100%|███████████████████████████████████████████████████████████████████████████████████| 17/17 [00:32<00:00,  1.92s/it]\n"
     ]
    },
    {
     "name": "stdout",
     "output_type": "stream",
     "text": [
      "Train loss: 0.00319 - Validation loss: 0.00161 - Fb score: 1.0 - Cohen Kappa: 1.0 - Balanced Accuracy: 1.0\n",
      "Epoch: 56/70\n"
     ]
    },
    {
     "name": "stderr",
     "output_type": "stream",
     "text": [
      "100%|███████████████████████████████████████████████████████████████████████████████████| 80/80 [02:31<00:00,  1.89s/it]\n",
      "100%|███████████████████████████████████████████████████████████████████████████████████| 17/17 [00:30<00:00,  1.80s/it]\n"
     ]
    },
    {
     "name": "stdout",
     "output_type": "stream",
     "text": [
      "Train loss: 0.00307 - Validation loss: 0.00155 - Fb score: 1.0 - Cohen Kappa: 1.0 - Balanced Accuracy: 1.0\n",
      "Epoch: 57/70\n"
     ]
    },
    {
     "name": "stderr",
     "output_type": "stream",
     "text": [
      "100%|███████████████████████████████████████████████████████████████████████████████████| 80/80 [02:36<00:00,  1.96s/it]\n",
      "100%|███████████████████████████████████████████████████████████████████████████████████| 17/17 [00:30<00:00,  1.77s/it]\n"
     ]
    },
    {
     "name": "stdout",
     "output_type": "stream",
     "text": [
      "Train loss: 0.00295 - Validation loss: 0.00149 - Fb score: 1.0 - Cohen Kappa: 1.0 - Balanced Accuracy: 1.0\n",
      "Epoch: 58/70\n"
     ]
    },
    {
     "name": "stderr",
     "output_type": "stream",
     "text": [
      "100%|███████████████████████████████████████████████████████████████████████████████████| 80/80 [02:34<00:00,  1.93s/it]\n",
      "100%|███████████████████████████████████████████████████████████████████████████████████| 17/17 [00:28<00:00,  1.69s/it]\n"
     ]
    },
    {
     "name": "stdout",
     "output_type": "stream",
     "text": [
      "Train loss: 0.00284 - Validation loss: 0.00143 - Fb score: 1.0 - Cohen Kappa: 1.0 - Balanced Accuracy: 1.0\n",
      "Epoch: 59/70\n"
     ]
    },
    {
     "name": "stderr",
     "output_type": "stream",
     "text": [
      "100%|███████████████████████████████████████████████████████████████████████████████████| 80/80 [02:34<00:00,  1.93s/it]\n",
      "100%|███████████████████████████████████████████████████████████████████████████████████| 17/17 [00:29<00:00,  1.76s/it]\n"
     ]
    },
    {
     "name": "stdout",
     "output_type": "stream",
     "text": [
      "Train loss: 0.00273 - Validation loss: 0.00138 - Fb score: 1.0 - Cohen Kappa: 1.0 - Balanced Accuracy: 1.0\n",
      "Epoch: 60/70\n"
     ]
    },
    {
     "name": "stderr",
     "output_type": "stream",
     "text": [
      "100%|███████████████████████████████████████████████████████████████████████████████████| 80/80 [02:31<00:00,  1.90s/it]\n",
      "100%|███████████████████████████████████████████████████████████████████████████████████| 17/17 [00:30<00:00,  1.77s/it]\n"
     ]
    },
    {
     "name": "stdout",
     "output_type": "stream",
     "text": [
      "Train loss: 0.00263 - Validation loss: 0.00132 - Fb score: 1.0 - Cohen Kappa: 1.0 - Balanced Accuracy: 1.0\n",
      "Epoch: 61/70\n"
     ]
    },
    {
     "name": "stderr",
     "output_type": "stream",
     "text": [
      "100%|███████████████████████████████████████████████████████████████████████████████████| 80/80 [02:34<00:00,  1.93s/it]\n",
      "100%|███████████████████████████████████████████████████████████████████████████████████| 17/17 [00:29<00:00,  1.74s/it]\n"
     ]
    },
    {
     "name": "stdout",
     "output_type": "stream",
     "text": [
      "Train loss: 0.00253 - Validation loss: 0.00127 - Fb score: 1.0 - Cohen Kappa: 1.0 - Balanced Accuracy: 1.0\n",
      "Epoch: 62/70\n"
     ]
    },
    {
     "name": "stderr",
     "output_type": "stream",
     "text": [
      "100%|███████████████████████████████████████████████████████████████████████████████████| 80/80 [02:33<00:00,  1.92s/it]\n",
      "100%|███████████████████████████████████████████████████████████████████████████████████| 17/17 [00:31<00:00,  1.84s/it]\n"
     ]
    },
    {
     "name": "stdout",
     "output_type": "stream",
     "text": [
      "Train loss: 0.00244 - Validation loss: 0.00122 - Fb score: 1.0 - Cohen Kappa: 1.0 - Balanced Accuracy: 1.0\n",
      "Epoch: 63/70\n"
     ]
    },
    {
     "name": "stderr",
     "output_type": "stream",
     "text": [
      "100%|███████████████████████████████████████████████████████████████████████████████████| 80/80 [02:32<00:00,  1.91s/it]\n",
      "100%|███████████████████████████████████████████████████████████████████████████████████| 17/17 [00:29<00:00,  1.75s/it]\n"
     ]
    },
    {
     "name": "stdout",
     "output_type": "stream",
     "text": [
      "Train loss: 0.00234 - Validation loss: 0.00118 - Fb score: 1.0 - Cohen Kappa: 1.0 - Balanced Accuracy: 1.0\n",
      "Epoch: 64/70\n"
     ]
    },
    {
     "name": "stderr",
     "output_type": "stream",
     "text": [
      "100%|███████████████████████████████████████████████████████████████████████████████████| 80/80 [02:35<00:00,  1.95s/it]\n",
      "100%|███████████████████████████████████████████████████████████████████████████████████| 17/17 [00:32<00:00,  1.89s/it]\n"
     ]
    },
    {
     "name": "stdout",
     "output_type": "stream",
     "text": [
      "Train loss: 0.00225 - Validation loss: 0.00113 - Fb score: 1.0 - Cohen Kappa: 1.0 - Balanced Accuracy: 1.0\n",
      "Epoch: 65/70\n"
     ]
    },
    {
     "name": "stderr",
     "output_type": "stream",
     "text": [
      "100%|███████████████████████████████████████████████████████████████████████████████████| 80/80 [02:33<00:00,  1.91s/it]\n",
      "100%|███████████████████████████████████████████████████████████████████████████████████| 17/17 [00:31<00:00,  1.85s/it]\n"
     ]
    },
    {
     "name": "stdout",
     "output_type": "stream",
     "text": [
      "Train loss: 0.00217 - Validation loss: 0.00109 - Fb score: 1.0 - Cohen Kappa: 1.0 - Balanced Accuracy: 1.0\n",
      "Epoch: 66/70\n"
     ]
    },
    {
     "name": "stderr",
     "output_type": "stream",
     "text": [
      "100%|███████████████████████████████████████████████████████████████████████████████████| 80/80 [02:31<00:00,  1.90s/it]\n",
      "100%|███████████████████████████████████████████████████████████████████████████████████| 17/17 [00:29<00:00,  1.73s/it]\n"
     ]
    },
    {
     "name": "stdout",
     "output_type": "stream",
     "text": [
      "Train loss: 0.00209 - Validation loss: 0.00105 - Fb score: 1.0 - Cohen Kappa: 1.0 - Balanced Accuracy: 1.0\n",
      "Epoch: 67/70\n"
     ]
    },
    {
     "name": "stderr",
     "output_type": "stream",
     "text": [
      "100%|███████████████████████████████████████████████████████████████████████████████████| 80/80 [02:28<00:00,  1.86s/it]\n",
      "100%|███████████████████████████████████████████████████████████████████████████████████| 17/17 [00:30<00:00,  1.81s/it]\n"
     ]
    },
    {
     "name": "stdout",
     "output_type": "stream",
     "text": [
      "Train loss: 0.00201 - Validation loss: 0.00101 - Fb score: 1.0 - Cohen Kappa: 1.0 - Balanced Accuracy: 1.0\n",
      "Epoch: 68/70\n"
     ]
    },
    {
     "name": "stderr",
     "output_type": "stream",
     "text": [
      "100%|███████████████████████████████████████████████████████████████████████████████████| 80/80 [02:32<00:00,  1.91s/it]\n",
      "100%|███████████████████████████████████████████████████████████████████████████████████| 17/17 [00:30<00:00,  1.77s/it]\n"
     ]
    },
    {
     "name": "stdout",
     "output_type": "stream",
     "text": [
      "Train loss: 0.00193 - Validation loss: 0.00097 - Fb score: 1.0 - Cohen Kappa: 1.0 - Balanced Accuracy: 1.0\n",
      "Epoch: 69/70\n"
     ]
    },
    {
     "name": "stderr",
     "output_type": "stream",
     "text": [
      "100%|███████████████████████████████████████████████████████████████████████████████████| 80/80 [02:35<00:00,  1.94s/it]\n",
      "100%|███████████████████████████████████████████████████████████████████████████████████| 17/17 [00:30<00:00,  1.80s/it]\n"
     ]
    },
    {
     "name": "stdout",
     "output_type": "stream",
     "text": [
      "Train loss: 0.00186 - Validation loss: 0.00093 - Fb score: 1.0 - Cohen Kappa: 1.0 - Balanced Accuracy: 1.0\n",
      "Epoch: 70/70\n"
     ]
    },
    {
     "name": "stderr",
     "output_type": "stream",
     "text": [
      "100%|███████████████████████████████████████████████████████████████████████████████████| 80/80 [02:32<00:00,  1.90s/it]\n",
      "100%|███████████████████████████████████████████████████████████████████████████████████| 17/17 [00:31<00:00,  1.87s/it]\n"
     ]
    },
    {
     "name": "stdout",
     "output_type": "stream",
     "text": [
      "Train loss: 0.00179 - Validation loss: 0.0009 - Fb score: 1.0 - Cohen Kappa: 1.0 - Balanced Accuracy: 1.0\n"
     ]
    }
   ],
   "source": [
    "model_rd_da_eq.fit(colpo_train_dataloader_eq, colpo_val_dataloader, epochs=70)"
   ]
  },
  {
   "cell_type": "code",
   "execution_count": 26,
   "id": "7cf40fac-09bc-437d-8017-5fcff5c88b8d",
   "metadata": {},
   "outputs": [],
   "source": [
    "# model_rd_da_eq.logs"
   ]
  },
  {
   "cell_type": "code",
   "execution_count": 31,
   "id": "1f7f992d-4eb2-46e0-8ede-5994819af065",
   "metadata": {},
   "outputs": [
    {
     "data": {
      "image/png": "[encoded data removed]",
      "text/plain": [
       "<Figure size 648x432 with 1 Axes>"
      ]
     },
     "metadata": {
      "needs_background": "light"
     },
     "output_type": "display_data"
    }
   ],
   "source": [
    "plt.figure(figsize=(9, 6))\n",
    "plt.title(\"Model loss\")\n",
    "plt.plot(model_rd_da_eq.logs['Training loss'], \"o\", linestyle=\":\", markersize=5, label=\"Training\")\n",
    "plt.plot(model_rd_da_eq.logs['Validation loss'], \"o\", linestyle=\":\", markersize=5, label=\"Validation\")\n",
    "plt.ylabel(\"Loss\")\n",
    "plt.xlabel(\"Epochs\")\n",
    "plt.grid(alpha=0.35)\n",
    "plt.legend()\n",
    "plt.show()"
   ]
  },
  {
   "cell_type": "code",
   "execution_count": null,
   "id": "eafcafd9-7c72-4526-a16f-0e4b7a602306",
   "metadata": {},
   "outputs": [],
   "source": []
  }
 ],
 "metadata": {
  "kernelspec": {
   "display_name": "Python 3 (ipykernel)",
   "language": "python",
   "name": "python3"
  },
  "language_info": {
   "codemirror_mode": {
    "name": "ipython",
    "version": 3
   },
   "file_extension": ".py",
   "mimetype": "text/x-python",
   "name": "python",
   "nbconvert_exporter": "python",
   "pygments_lexer": "ipython3",
   "version": "3.9.13"
  }
 },
 "nbformat": 4,
 "nbformat_minor": 5
}
