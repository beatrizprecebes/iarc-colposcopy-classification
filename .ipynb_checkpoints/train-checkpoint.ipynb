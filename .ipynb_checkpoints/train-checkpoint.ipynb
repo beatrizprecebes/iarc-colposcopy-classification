{
 "cells": [
  {
   "cell_type": "code",
   "execution_count": 1,
   "id": "5fca5425-fd63-4587-94d3-cdcde664b39a",
   "metadata": {},
   "outputs": [
    {
     "name": "stderr",
     "output_type": "stream",
     "text": [
      "comet_ml is installed but `COMET_API_KEY` is not set.\n"
     ]
    }
   ],
   "source": [
    "import numpy as np\n",
    "import pandas as pd\n",
    "import seaborn as sns\n",
    "from tqdm import tqdm\n",
    "import matplotlib.pyplot as plt\n",
    "\n",
    "import os\n",
    "import random\n",
    "\n",
    "import logging\n",
    "\n",
    "import torch\n",
    "import torch.nn as nn\n",
    "from torch.optim import Adam\n",
    "from torch.nn import CrossEntropyLoss\n",
    "\n",
    "from torchsummary import summary\n",
    "\n",
    "from torch.utils.data import random_split, DataLoader\n",
    "\n",
    "from sklearn.metrics import fbeta_score, cohen_kappa_score, balanced_accuracy_score, confusion_matrix\n",
    "import torchmetrics\n",
    "\n",
    "from transformers import ViTFeatureExtractor, ViTForImageClassification, ViTImageProcessor\n",
    "\n",
    "from datasets import get_trainval_datasets\n",
    "from utils import compute_test_metrics\n",
    "from datasets.iarc_dataset import collate_fn"
   ]
  },
  {
   "cell_type": "code",
   "execution_count": 2,
   "id": "e30daea6-a2aa-4526-ad48-b516b992c81e",
   "metadata": {},
   "outputs": [],
   "source": [
    "train_set_path = '/workspace/experiments/vit/datasets/prepared_data/iarc_multiclass_general_train.csv'\n",
    "val_set_path = '/workspace/experiments/vit/datasets/prepared_data/iarc_multiclass_general_val.csv'"
   ]
  },
  {
   "cell_type": "code",
   "execution_count": 3,
   "id": "2b6a41d3-e823-4c6a-a4ff-daaea71a5a51",
   "metadata": {},
   "outputs": [],
   "source": [
    "train_set, val_set = get_trainval_datasets('iarc_general', 'multiclass')"
   ]
  },
  {
   "cell_type": "code",
   "execution_count": 34,
   "id": "7753c6d8-60cc-47ef-a90c-69c302b85b8e",
   "metadata": {},
   "outputs": [
    {
     "name": "stdout",
     "output_type": "stream",
     "text": [
      "Datasets infos\n",
      "Train: 750 \n",
      "Validation: 312\n"
     ]
    }
   ],
   "source": [
    "print(\"Datasets infos\\nTrain: %d \\nValidation: %d\" % (train_set.__len__(), val_set.__len__()))"
   ]
  },
  {
   "cell_type": "code",
   "execution_count": 6,
   "id": "acdf48a6-96cb-495b-9c85-6c2a925f71d6",
   "metadata": {},
   "outputs": [
    {
     "data": {
      "text/plain": [
       "['Normal', 'CIN1', 'CIN2', 'CIN3']"
      ]
     },
     "execution_count": 6,
     "metadata": {},
     "output_type": "execute_result"
    }
   ],
   "source": [
    "train_set.class_labels_strings"
   ]
  },
  {
   "cell_type": "code",
   "execution_count": 7,
   "id": "c3a0d0cb-6ef4-4ecf-9753-57367a10abff",
   "metadata": {},
   "outputs": [
    {
     "data": {
      "text/plain": [
       "{'Normal': 0, 'CIN1': 1, 'CIN2': 2, 'CIN3': 3}"
      ]
     },
     "execution_count": 7,
     "metadata": {},
     "output_type": "execute_result"
    }
   ],
   "source": [
    "train_set.labels2ids"
   ]
  },
  {
   "cell_type": "code",
   "execution_count": 8,
   "id": "760e3e37-3d9e-4c47-bf14-c865ae08544f",
   "metadata": {},
   "outputs": [
    {
     "data": {
      "text/plain": [
       "{'image': <PIL.Image.Image image mode=RGB size=300x400>, 'label': 0}"
      ]
     },
     "execution_count": 8,
     "metadata": {},
     "output_type": "execute_result"
    }
   ],
   "source": [
    "val_set.__getitem__(200)"
   ]
  },
  {
   "cell_type": "code",
   "execution_count": 9,
   "id": "07dff271-2bfa-4760-a9b5-b96cf527c772",
   "metadata": {},
   "outputs": [],
   "source": [
    "c_fn = collate_fn()"
   ]
  },
  {
   "cell_type": "code",
   "execution_count": 10,
   "id": "b1c00191-7823-4ec2-9bf3-66588aaf0626",
   "metadata": {},
   "outputs": [],
   "source": [
    "train_dataloader = DataLoader(train_set, batch_size=16, num_workers=4, collate_fn=c_fn, shuffle=True)\n",
    "val_dataloader = DataLoader(val_set, batch_size=16, num_workers=4, collate_fn=c_fn, shuffle=True)"
   ]
  },
  {
   "cell_type": "code",
   "execution_count": 11,
   "id": "59c63785-dae9-4494-90e0-a656c3357606",
   "metadata": {},
   "outputs": [
    {
     "name": "stdout",
     "output_type": "stream",
     "text": [
      "Using cuda device\n"
     ]
    }
   ],
   "source": [
    "#check if cuda is availabe\n",
    "device = \"cuda\" if torch.cuda.is_available() else \"cpu\"\n",
    "print(f\"Using {device} device\")"
   ]
  },
  {
   "cell_type": "code",
   "execution_count": 12,
   "id": "d812d3ef-7ef6-42d1-a827-5a09135c1a0e",
   "metadata": {},
   "outputs": [],
   "source": [
    "ids2labels = {'Normal': 0, 'CIN1': 1, 'CIN2': 2, 'CIN3': 3}\n",
    "model_pre_trained = 'google/vit-base-patch16-224-in21k'"
   ]
  },
  {
   "cell_type": "code",
   "execution_count": 13,
   "id": "cc17c489-15d5-48d1-aa5d-d060cbab99c2",
   "metadata": {},
   "outputs": [
    {
     "name": "stderr",
     "output_type": "stream",
     "text": [
      "Some weights of ViTForImageClassification were not initialized from the model checkpoint at google/vit-base-patch16-224-in21k and are newly initialized: ['classifier.bias', 'classifier.weight']\n",
      "You should probably TRAIN this model on a down-stream task to be able to use it for predictions and inference.\n"
     ]
    }
   ],
   "source": [
    "model = ViTForImageClassification.from_pretrained(\n",
    "    model_pre_trained,\n",
    "    num_labels=len(ids2labels),\n",
    "    ignore_mismatched_sizes = True,\n",
    "    id2label={i: c for i, c in enumerate(ids2labels)},\n",
    "    label2id={c: i for i, c in enumerate(ids2labels)}\n",
    ")"
   ]
  },
  {
   "cell_type": "code",
   "execution_count": 14,
   "id": "ce51d6c5-6050-40c3-9d3a-9cc840413f7c",
   "metadata": {},
   "outputs": [],
   "source": [
    "class EarlyStopper:\n",
    "    def __init__(self, patience=1, min_delta=0.0):\n",
    "        self.patience = patience  # number of times to allow for no improvement before stopping the execution\n",
    "        self.min_delta = min_delta  # the minimum change to be counted as improvement\n",
    "        self.counter = 0  # count the number of times the validation accuracy not improving\n",
    "        self.min_validation_loss = np.inf\n",
    "    \n",
    "    # return True when encountering _patience_ times decrease in validation loss \n",
    "    def early_stop(self, validation_loss):\n",
    "        if ((validation_loss+self.min_delta) < self.min_validation_loss):\n",
    "            self.min_validation_loss = validation_loss\n",
    "            self.counter = 0  # reset the counter if validation loss decreased at least by min_delta\n",
    "        elif ((validation_loss+self.min_delta) > self.min_validation_loss):\n",
    "            self.counter += 1 # increase the counter if validation loss is not decreased by the min_delta\n",
    "            if self.counter >= self.patience:\n",
    "                return True\n",
    "        return False"
   ]
  },
  {
   "cell_type": "code",
   "execution_count": 15,
   "id": "d60cdbb0-ce70-4726-8320-f2f9ece543d8",
   "metadata": {},
   "outputs": [],
   "source": [
    "log_path = '/workspace/work/vit/models/vit_iarc_general_multiclass/'\n",
    "logging.basicConfig(filename=log_path+\"train.log\", level=logging.INFO,\n",
    "                    format=\"%(asctime)s %(message)s\")\n",
    "logging.info('')\n",
    "logging.info('ViT for IARC dataset (Colpo and VIA merged and without any data augmentation technique.')\n",
    "logging.info('Training and validation steps...')\n",
    "logging.info('')"
   ]
  },
  {
   "cell_type": "code",
   "execution_count": 16,
   "id": "b4018607-aed8-488b-b067-cd36c4a49862",
   "metadata": {},
   "outputs": [],
   "source": [
    "class ViT:\n",
    "    def __init__(self, model, learning_rate, path, name_model):\n",
    "        super().__init__()\n",
    "        \n",
    "        self.path = path\n",
    "        self.name_model = name_model\n",
    "\n",
    "        self.model = model\n",
    "        self.lr = learning_rate\n",
    "        self.optimizer = torch.optim.AdamW(params=self.model.parameters(), lr=self.lr)\n",
    "        self.early_stopper = EarlyStopper(patience=3)\n",
    "\n",
    "        self.total_training_loss = list()\n",
    "        self.total_validation_loss = list()\n",
    "\n",
    "    def training_step(self, train_dataloader):\n",
    "        train_loss = 0\n",
    "\n",
    "        for i, batch in enumerate(tqdm(train_dataloader)):\n",
    "            self.model.train()\n",
    "            \n",
    "            inputs, labels = batch['pixel_values'], batch['labels']\n",
    "            outputs = self.model(pixel_values=inputs, labels=labels)\n",
    "            \n",
    "            loss = outputs[0]\n",
    "            loss.mean().backward(retain_graph=True)\n",
    "            train_loss += loss.mean().item()\n",
    "            \n",
    "            self.optimizer.step()\n",
    "            self.optimizer.zero_grad()\n",
    "            \n",
    "        return train_loss\n",
    "\n",
    "    def validation_step(self, val_dataloader):\n",
    "        valid_loss = 0\n",
    "        y_pred = []\n",
    "        y_true = []\n",
    "        \n",
    "        for j, batch in enumerate(tqdm(val_dataloader)):\n",
    "            self.model.eval()\n",
    "    \n",
    "            inputs, labels = batch['pixel_values'], batch['labels']\n",
    "            outputs = self.model(pixel_values=inputs, labels=labels)\n",
    "    \n",
    "            loss = outputs[0]\n",
    "            loss.mean().backward(retain_graph=True)\n",
    "            valid_loss += loss.mean().item()\n",
    "    \n",
    "            logits = outputs.logits\n",
    "    \n",
    "            y_pred = np.concatenate([y_pred, torch.argmax(logits, dim=-1).tolist()])\n",
    "            y_true = np.concatenate([y_true, labels])\n",
    "\n",
    "        return valid_loss, y_pred, y_true\n",
    "\n",
    "    def compute_metrics(self, real_target, predicted_target, metric='balanced_accuracy'):\n",
    "        if metric == 'balanced_accuracy':\n",
    "            return balanced_accuracy_score(real_target, predicted_target)\n",
    "        elif metric == 'fb_score':\n",
    "            return fbeta_score(real_target, predicted_target, beta=1.5, average='weighted')\n",
    "        elif metric == 'cohen_kappa':\n",
    "            return cohen_kappa_score(real_target, predicted_target)\n",
    "\n",
    "    def fit(self, train_loader, val_loader, epochs=1):\n",
    "\n",
    "        metric_fb = []\n",
    "        metric_cohen_kappa = []\n",
    "        metric_acc_balanced = []\n",
    "\n",
    "        best_loss = 1000\n",
    "\n",
    "        for epoch in range(1, epochs+1):\n",
    "            # y_pred = []\n",
    "            # y_true = []\n",
    "            \n",
    "            print(f\"Epoch: {epoch}/{epochs}\")\n",
    "            \n",
    "            train_loss = self.training_step(train_loader)\n",
    "            valid_loss, y_pred, y_true = self.validation_step(val_loader)\n",
    "            self.total_training_loss.append(train_loss/len(train_loader))\n",
    "            self.total_validation_loss.append(valid_loss/len(val_loader))\n",
    "\n",
    "            valid_fb = self.compute_metrics(y_true, y_pred, 'fb_score')\n",
    "            valid_kappa = self.compute_metrics(y_true, y_pred, 'cohen_kappa')\n",
    "            valid_acc_b = self.compute_metrics(y_true, y_pred, 'balanced_accuracy')\n",
    "    \n",
    "            metric_fb.append(valid_fb)\n",
    "            metric_cohen_kappa.append(valid_kappa)\n",
    "            metric_acc_balanced.append(valid_acc_b)\n",
    "\n",
    "            epoch_info = \"Train loss: {:.4f}, Val loss: {:.3f}, Fb score: {:.3f}, C Kappa: {:.3f}, \"\\\n",
    "            \"Bal Acc: {:.3f}\".format(round(train_loss/len(train_dataloader), 5),\n",
    "                                     round(valid_loss/len(val_dataloader), 5), round(valid_fb, 5),\n",
    "                                     round(valid_kappa, 5), round(valid_acc_b, 5))\n",
    "        \n",
    "            print(epoch_info)\n",
    "\n",
    "            logging.info(f\"Epoch: {epoch}/{epochs}\")\n",
    "            logging.info(epoch_info)\n",
    "            logging.info('')\n",
    "\n",
    "            #self.logs['Training loss'] = self.total_training_loss\n",
    "            #self.logs['Validation loss'] = self.total_validation_loss\n",
    "\n",
    "            if(valid_loss/len(val_loader) < best_loss):\n",
    "                best_loss = valid_loss/len(val_loader)\n",
    "                torch.save({\n",
    "                    'epoch': epoch,\n",
    "                    'model_state_dict': self.model.state_dict()\n",
    "                }, self.path+self.name_model+'.pth')\n",
    "    \n",
    "            if self.early_stopper.early_stop(valid_loss):\n",
    "                print('Early Stopping!')\n",
    "                logging.info('Early Stopping')\n",
    "                break"
   ]
  },
  {
   "cell_type": "code",
   "execution_count": 17,
   "id": "0680bcc2-b42e-4d47-9e38-d30224ae5dba",
   "metadata": {},
   "outputs": [],
   "source": [
    "path = '/workspace/work/vit/models/vit_iarc_general_multiclass/'\n",
    "model_name = 'best_model'"
   ]
  },
  {
   "cell_type": "code",
   "execution_count": 18,
   "id": "c1dd4301-f942-4315-be01-84639f18776e",
   "metadata": {},
   "outputs": [],
   "source": [
    "model_rd = ViT(model, 1e-5, path, model_name)"
   ]
  },
  {
   "cell_type": "code",
   "execution_count": 19,
   "id": "2025568b-aefb-4ebf-8f68-601be1002f08",
   "metadata": {},
   "outputs": [
    {
     "name": "stdout",
     "output_type": "stream",
     "text": [
      "Epoch: 1/100\n"
     ]
    },
    {
     "name": "stderr",
     "output_type": "stream",
     "text": [
      "100%|███████████████████████████████████████████| 47/47 [01:28<00:00,  1.88s/it]\n",
      "100%|███████████████████████████████████████████| 20/20 [00:37<00:00,  1.89s/it]\n"
     ]
    },
    {
     "name": "stdout",
     "output_type": "stream",
     "text": [
      "Train loss: 1.1529, Val loss: 1.060, Fb score: 0.539, C Kappa: 0.000, Bal Acc: 0.250\n",
      "Epoch: 2/100\n"
     ]
    },
    {
     "name": "stderr",
     "output_type": "stream",
     "text": [
      "100%|███████████████████████████████████████████| 47/47 [01:34<00:00,  2.02s/it]\n",
      "100%|███████████████████████████████████████████| 20/20 [00:41<00:00,  2.08s/it]\n"
     ]
    },
    {
     "name": "stdout",
     "output_type": "stream",
     "text": [
      "Train loss: 1.0073, Val loss: 1.007, Fb score: 0.539, C Kappa: 0.000, Bal Acc: 0.250\n",
      "Epoch: 3/100\n"
     ]
    },
    {
     "name": "stderr",
     "output_type": "stream",
     "text": [
      "100%|███████████████████████████████████████████| 47/47 [01:31<00:00,  1.95s/it]\n",
      "100%|███████████████████████████████████████████| 20/20 [00:38<00:00,  1.92s/it]\n"
     ]
    },
    {
     "name": "stdout",
     "output_type": "stream",
     "text": [
      "Train loss: 0.9500, Val loss: 0.922, Fb score: 0.539, C Kappa: 0.000, Bal Acc: 0.250\n",
      "Epoch: 4/100\n"
     ]
    },
    {
     "name": "stderr",
     "output_type": "stream",
     "text": [
      "100%|███████████████████████████████████████████| 47/47 [01:33<00:00,  1.99s/it]\n",
      "100%|███████████████████████████████████████████| 20/20 [00:36<00:00,  1.84s/it]\n"
     ]
    },
    {
     "name": "stdout",
     "output_type": "stream",
     "text": [
      "Train loss: 0.8633, Val loss: 0.847, Fb score: 0.539, C Kappa: 0.000, Bal Acc: 0.250\n",
      "Epoch: 5/100\n"
     ]
    },
    {
     "name": "stderr",
     "output_type": "stream",
     "text": [
      "100%|███████████████████████████████████████████| 47/47 [01:31<00:00,  1.94s/it]\n",
      "100%|███████████████████████████████████████████| 20/20 [00:37<00:00,  1.88s/it]\n"
     ]
    },
    {
     "name": "stdout",
     "output_type": "stream",
     "text": [
      "Train loss: 0.7954, Val loss: 0.752, Fb score: 0.552, C Kappa: 0.037, Bal Acc: 0.259\n",
      "Epoch: 6/100\n"
     ]
    },
    {
     "name": "stderr",
     "output_type": "stream",
     "text": [
      "100%|███████████████████████████████████████████| 47/47 [01:34<00:00,  2.02s/it]\n",
      "100%|███████████████████████████████████████████| 20/20 [00:34<00:00,  1.71s/it]\n"
     ]
    },
    {
     "name": "stdout",
     "output_type": "stream",
     "text": [
      "Train loss: 0.7221, Val loss: 0.694, Fb score: 0.710, C Kappa: 0.497, Bal Acc: 0.431\n",
      "Epoch: 7/100\n"
     ]
    },
    {
     "name": "stderr",
     "output_type": "stream",
     "text": [
      "100%|███████████████████████████████████████████| 47/47 [01:34<00:00,  2.00s/it]\n",
      "100%|███████████████████████████████████████████| 20/20 [00:35<00:00,  1.76s/it]\n"
     ]
    },
    {
     "name": "stdout",
     "output_type": "stream",
     "text": [
      "Train loss: 0.6307, Val loss: 0.616, Fb score: 0.730, C Kappa: 0.548, Bal Acc: 0.458\n",
      "Epoch: 8/100\n"
     ]
    },
    {
     "name": "stderr",
     "output_type": "stream",
     "text": [
      "100%|███████████████████████████████████████████| 47/47 [01:32<00:00,  1.97s/it]\n",
      "100%|███████████████████████████████████████████| 20/20 [00:40<00:00,  2.00s/it]\n"
     ]
    },
    {
     "name": "stdout",
     "output_type": "stream",
     "text": [
      "Train loss: 0.5730, Val loss: 0.583, Fb score: 0.737, C Kappa: 0.569, Bal Acc: 0.468\n",
      "Epoch: 9/100\n"
     ]
    },
    {
     "name": "stderr",
     "output_type": "stream",
     "text": [
      "100%|███████████████████████████████████████████| 47/47 [01:33<00:00,  1.99s/it]\n",
      "100%|███████████████████████████████████████████| 20/20 [00:38<00:00,  1.91s/it]\n"
     ]
    },
    {
     "name": "stdout",
     "output_type": "stream",
     "text": [
      "Train loss: 0.5317, Val loss: 0.534, Fb score: 0.755, C Kappa: 0.611, Bal Acc: 0.495\n",
      "Epoch: 10/100\n"
     ]
    },
    {
     "name": "stderr",
     "output_type": "stream",
     "text": [
      "100%|███████████████████████████████████████████| 47/47 [01:33<00:00,  1.98s/it]\n",
      "100%|███████████████████████████████████████████| 20/20 [00:37<00:00,  1.87s/it]\n"
     ]
    },
    {
     "name": "stdout",
     "output_type": "stream",
     "text": [
      "Train loss: 0.4833, Val loss: 0.497, Fb score: 0.773, C Kappa: 0.640, Bal Acc: 0.525\n",
      "Epoch: 11/100\n"
     ]
    },
    {
     "name": "stderr",
     "output_type": "stream",
     "text": [
      "100%|███████████████████████████████████████████| 47/47 [01:32<00:00,  1.97s/it]\n",
      "100%|███████████████████████████████████████████| 20/20 [00:37<00:00,  1.86s/it]\n"
     ]
    },
    {
     "name": "stdout",
     "output_type": "stream",
     "text": [
      "Train loss: 0.4468, Val loss: 0.466, Fb score: 0.775, C Kappa: 0.643, Bal Acc: 0.525\n",
      "Epoch: 12/100\n"
     ]
    },
    {
     "name": "stderr",
     "output_type": "stream",
     "text": [
      "100%|███████████████████████████████████████████| 47/47 [01:34<00:00,  2.00s/it]\n",
      "100%|███████████████████████████████████████████| 20/20 [00:39<00:00,  1.96s/it]\n"
     ]
    },
    {
     "name": "stdout",
     "output_type": "stream",
     "text": [
      "Train loss: 0.4175, Val loss: 0.435, Fb score: 0.775, C Kappa: 0.643, Bal Acc: 0.525\n",
      "Epoch: 13/100\n"
     ]
    },
    {
     "name": "stderr",
     "output_type": "stream",
     "text": [
      "100%|███████████████████████████████████████████| 47/47 [01:34<00:00,  2.02s/it]\n",
      "100%|███████████████████████████████████████████| 20/20 [00:37<00:00,  1.87s/it]\n"
     ]
    },
    {
     "name": "stdout",
     "output_type": "stream",
     "text": [
      "Train loss: 0.3847, Val loss: 0.428, Fb score: 0.766, C Kappa: 0.604, Bal Acc: 0.512\n",
      "Epoch: 14/100\n"
     ]
    },
    {
     "name": "stderr",
     "output_type": "stream",
     "text": [
      "100%|███████████████████████████████████████████| 47/47 [01:35<00:00,  2.03s/it]\n",
      "100%|███████████████████████████████████████████| 20/20 [00:34<00:00,  1.71s/it]\n"
     ]
    },
    {
     "name": "stdout",
     "output_type": "stream",
     "text": [
      "Train loss: 0.5912, Val loss: 0.438, Fb score: 0.840, C Kappa: 0.728, Bal Acc: 0.646\n",
      "Epoch: 15/100\n"
     ]
    },
    {
     "name": "stderr",
     "output_type": "stream",
     "text": [
      "100%|███████████████████████████████████████████| 47/47 [01:36<00:00,  2.04s/it]\n",
      "100%|███████████████████████████████████████████| 20/20 [00:37<00:00,  1.86s/it]\n"
     ]
    },
    {
     "name": "stdout",
     "output_type": "stream",
     "text": [
      "Train loss: 0.3595, Val loss: 0.378, Fb score: 0.882, C Kappa: 0.802, Bal Acc: 0.725\n",
      "Epoch: 16/100\n"
     ]
    },
    {
     "name": "stderr",
     "output_type": "stream",
     "text": [
      "100%|███████████████████████████████████████████| 47/47 [01:33<00:00,  1.99s/it]\n",
      "100%|███████████████████████████████████████████| 20/20 [00:34<00:00,  1.73s/it]\n"
     ]
    },
    {
     "name": "stdout",
     "output_type": "stream",
     "text": [
      "Train loss: 0.3246, Val loss: 0.353, Fb score: 0.910, C Kappa: 0.845, Bal Acc: 0.787\n",
      "Epoch: 17/100\n"
     ]
    },
    {
     "name": "stderr",
     "output_type": "stream",
     "text": [
      "100%|███████████████████████████████████████████| 47/47 [01:34<00:00,  2.01s/it]\n",
      "100%|███████████████████████████████████████████| 20/20 [00:36<00:00,  1.84s/it]\n"
     ]
    },
    {
     "name": "stdout",
     "output_type": "stream",
     "text": [
      "Train loss: 0.2872, Val loss: 0.300, Fb score: 0.922, C Kappa: 0.863, Bal Acc: 0.809\n",
      "Epoch: 18/100\n"
     ]
    },
    {
     "name": "stderr",
     "output_type": "stream",
     "text": [
      "100%|███████████████████████████████████████████| 47/47 [01:34<00:00,  2.01s/it]\n",
      "100%|███████████████████████████████████████████| 20/20 [00:37<00:00,  1.89s/it]\n"
     ]
    },
    {
     "name": "stdout",
     "output_type": "stream",
     "text": [
      "Train loss: 0.2566, Val loss: 0.279, Fb score: 0.936, C Kappa: 0.888, Bal Acc: 0.842\n",
      "Epoch: 19/100\n"
     ]
    },
    {
     "name": "stderr",
     "output_type": "stream",
     "text": [
      "100%|███████████████████████████████████████████| 47/47 [01:34<00:00,  2.01s/it]\n",
      "100%|███████████████████████████████████████████| 20/20 [00:36<00:00,  1.83s/it]\n"
     ]
    },
    {
     "name": "stdout",
     "output_type": "stream",
     "text": [
      "Train loss: 0.2294, Val loss: 0.241, Fb score: 0.957, C Kappa: 0.923, Bal Acc: 0.894\n",
      "Epoch: 20/100\n"
     ]
    },
    {
     "name": "stderr",
     "output_type": "stream",
     "text": [
      "100%|███████████████████████████████████████████| 47/47 [01:35<00:00,  2.03s/it]\n",
      "100%|███████████████████████████████████████████| 20/20 [00:38<00:00,  1.94s/it]\n"
     ]
    },
    {
     "name": "stdout",
     "output_type": "stream",
     "text": [
      "Train loss: 0.2034, Val loss: 0.212, Fb score: 0.981, C Kappa: 0.965, Bal Acc: 0.949\n",
      "Epoch: 21/100\n"
     ]
    },
    {
     "name": "stderr",
     "output_type": "stream",
     "text": [
      "100%|███████████████████████████████████████████| 47/47 [01:33<00:00,  2.00s/it]\n",
      "100%|███████████████████████████████████████████| 20/20 [00:33<00:00,  1.69s/it]\n"
     ]
    },
    {
     "name": "stdout",
     "output_type": "stream",
     "text": [
      "Train loss: 0.1795, Val loss: 0.194, Fb score: 0.984, C Kappa: 0.971, Bal Acc: 0.958\n",
      "Epoch: 22/100\n"
     ]
    },
    {
     "name": "stderr",
     "output_type": "stream",
     "text": [
      "100%|███████████████████████████████████████████| 47/47 [01:33<00:00,  2.00s/it]\n",
      "100%|███████████████████████████████████████████| 20/20 [00:34<00:00,  1.72s/it]\n"
     ]
    },
    {
     "name": "stdout",
     "output_type": "stream",
     "text": [
      "Train loss: 0.1586, Val loss: 0.172, Fb score: 0.990, C Kappa: 0.982, Bal Acc: 0.975\n",
      "Epoch: 23/100\n"
     ]
    },
    {
     "name": "stderr",
     "output_type": "stream",
     "text": [
      "100%|███████████████████████████████████████████| 47/47 [01:33<00:00,  1.98s/it]\n",
      "100%|███████████████████████████████████████████| 20/20 [00:38<00:00,  1.93s/it]\n"
     ]
    },
    {
     "name": "stdout",
     "output_type": "stream",
     "text": [
      "Train loss: 0.1427, Val loss: 0.150, Fb score: 0.994, C Kappa: 0.988, Bal Acc: 0.983\n",
      "Epoch: 24/100\n"
     ]
    },
    {
     "name": "stderr",
     "output_type": "stream",
     "text": [
      "100%|███████████████████████████████████████████| 47/47 [01:33<00:00,  1.99s/it]\n",
      "100%|███████████████████████████████████████████| 20/20 [00:33<00:00,  1.70s/it]\n"
     ]
    },
    {
     "name": "stdout",
     "output_type": "stream",
     "text": [
      "Train loss: 0.1276, Val loss: 0.130, Fb score: 0.994, C Kappa: 0.988, Bal Acc: 0.983\n",
      "Epoch: 25/100\n"
     ]
    },
    {
     "name": "stderr",
     "output_type": "stream",
     "text": [
      "100%|███████████████████████████████████████████| 47/47 [01:33<00:00,  1.99s/it]\n",
      "100%|███████████████████████████████████████████| 20/20 [00:34<00:00,  1.74s/it]\n"
     ]
    },
    {
     "name": "stdout",
     "output_type": "stream",
     "text": [
      "Train loss: 0.1142, Val loss: 0.116, Fb score: 0.994, C Kappa: 0.988, Bal Acc: 0.983\n",
      "Epoch: 26/100\n"
     ]
    },
    {
     "name": "stderr",
     "output_type": "stream",
     "text": [
      "100%|███████████████████████████████████████████| 47/47 [01:34<00:00,  2.01s/it]\n",
      "100%|███████████████████████████████████████████| 20/20 [00:37<00:00,  1.88s/it]\n"
     ]
    },
    {
     "name": "stdout",
     "output_type": "stream",
     "text": [
      "Train loss: 0.1024, Val loss: 0.104, Fb score: 0.997, C Kappa: 0.994, Bal Acc: 0.992\n",
      "Epoch: 27/100\n"
     ]
    },
    {
     "name": "stderr",
     "output_type": "stream",
     "text": [
      "100%|███████████████████████████████████████████| 47/47 [01:33<00:00,  1.98s/it]\n",
      "100%|███████████████████████████████████████████| 20/20 [00:39<00:00,  1.97s/it]\n"
     ]
    },
    {
     "name": "stdout",
     "output_type": "stream",
     "text": [
      "Train loss: 0.0931, Val loss: 0.093, Fb score: 1.000, C Kappa: 1.000, Bal Acc: 1.000\n",
      "Epoch: 28/100\n"
     ]
    },
    {
     "name": "stderr",
     "output_type": "stream",
     "text": [
      "100%|███████████████████████████████████████████| 47/47 [01:35<00:00,  2.02s/it]\n",
      "100%|███████████████████████████████████████████| 20/20 [00:36<00:00,  1.83s/it]\n"
     ]
    },
    {
     "name": "stdout",
     "output_type": "stream",
     "text": [
      "Train loss: 0.0853, Val loss: 0.086, Fb score: 1.000, C Kappa: 1.000, Bal Acc: 1.000\n",
      "Epoch: 29/100\n"
     ]
    },
    {
     "name": "stderr",
     "output_type": "stream",
     "text": [
      "100%|███████████████████████████████████████████| 47/47 [01:34<00:00,  2.01s/it]\n",
      "100%|███████████████████████████████████████████| 20/20 [00:37<00:00,  1.86s/it]\n"
     ]
    },
    {
     "name": "stdout",
     "output_type": "stream",
     "text": [
      "Train loss: 0.0786, Val loss: 0.079, Fb score: 1.000, C Kappa: 1.000, Bal Acc: 1.000\n",
      "Epoch: 30/100\n"
     ]
    },
    {
     "name": "stderr",
     "output_type": "stream",
     "text": [
      "100%|███████████████████████████████████████████| 47/47 [01:35<00:00,  2.02s/it]\n",
      "100%|███████████████████████████████████████████| 20/20 [00:38<00:00,  1.91s/it]\n"
     ]
    },
    {
     "name": "stdout",
     "output_type": "stream",
     "text": [
      "Train loss: 0.0727, Val loss: 0.071, Fb score: 1.000, C Kappa: 1.000, Bal Acc: 1.000\n",
      "Epoch: 31/100\n"
     ]
    },
    {
     "name": "stderr",
     "output_type": "stream",
     "text": [
      "100%|███████████████████████████████████████████| 47/47 [01:35<00:00,  2.02s/it]\n",
      "100%|███████████████████████████████████████████| 20/20 [00:36<00:00,  1.84s/it]\n"
     ]
    },
    {
     "name": "stdout",
     "output_type": "stream",
     "text": [
      "Train loss: 0.0676, Val loss: 0.067, Fb score: 1.000, C Kappa: 1.000, Bal Acc: 1.000\n",
      "Epoch: 32/100\n"
     ]
    },
    {
     "name": "stderr",
     "output_type": "stream",
     "text": [
      "100%|███████████████████████████████████████████| 47/47 [01:37<00:00,  2.07s/it]\n",
      "100%|███████████████████████████████████████████| 20/20 [00:35<00:00,  1.76s/it]\n"
     ]
    },
    {
     "name": "stdout",
     "output_type": "stream",
     "text": [
      "Train loss: 0.0631, Val loss: 0.062, Fb score: 1.000, C Kappa: 1.000, Bal Acc: 1.000\n",
      "Epoch: 33/100\n"
     ]
    },
    {
     "name": "stderr",
     "output_type": "stream",
     "text": [
      "100%|███████████████████████████████████████████| 47/47 [01:33<00:00,  2.00s/it]\n",
      "100%|███████████████████████████████████████████| 20/20 [00:38<00:00,  1.92s/it]\n"
     ]
    },
    {
     "name": "stdout",
     "output_type": "stream",
     "text": [
      "Train loss: 0.0589, Val loss: 0.058, Fb score: 1.000, C Kappa: 1.000, Bal Acc: 1.000\n",
      "Epoch: 34/100\n"
     ]
    },
    {
     "name": "stderr",
     "output_type": "stream",
     "text": [
      "100%|███████████████████████████████████████████| 47/47 [01:35<00:00,  2.03s/it]\n",
      "100%|███████████████████████████████████████████| 20/20 [00:38<00:00,  1.91s/it]\n"
     ]
    },
    {
     "name": "stdout",
     "output_type": "stream",
     "text": [
      "Train loss: 0.0553, Val loss: 0.055, Fb score: 1.000, C Kappa: 1.000, Bal Acc: 1.000\n",
      "Epoch: 35/100\n"
     ]
    },
    {
     "name": "stderr",
     "output_type": "stream",
     "text": [
      "100%|███████████████████████████████████████████| 47/47 [01:36<00:00,  2.06s/it]\n",
      "100%|███████████████████████████████████████████| 20/20 [00:38<00:00,  1.92s/it]\n"
     ]
    },
    {
     "name": "stdout",
     "output_type": "stream",
     "text": [
      "Train loss: 0.0521, Val loss: 0.051, Fb score: 1.000, C Kappa: 1.000, Bal Acc: 1.000\n",
      "Epoch: 36/100\n"
     ]
    },
    {
     "name": "stderr",
     "output_type": "stream",
     "text": [
      "100%|███████████████████████████████████████████| 47/47 [01:34<00:00,  2.02s/it]\n",
      "100%|███████████████████████████████████████████| 20/20 [00:33<00:00,  1.67s/it]\n"
     ]
    },
    {
     "name": "stdout",
     "output_type": "stream",
     "text": [
      "Train loss: 0.0492, Val loss: 0.048, Fb score: 1.000, C Kappa: 1.000, Bal Acc: 1.000\n",
      "Epoch: 37/100\n"
     ]
    },
    {
     "name": "stderr",
     "output_type": "stream",
     "text": [
      "100%|███████████████████████████████████████████| 47/47 [01:35<00:00,  2.04s/it]\n",
      "100%|███████████████████████████████████████████| 20/20 [00:35<00:00,  1.79s/it]\n"
     ]
    },
    {
     "name": "stdout",
     "output_type": "stream",
     "text": [
      "Train loss: 0.0467, Val loss: 0.046, Fb score: 1.000, C Kappa: 1.000, Bal Acc: 1.000\n",
      "Epoch: 38/100\n"
     ]
    },
    {
     "name": "stderr",
     "output_type": "stream",
     "text": [
      "100%|███████████████████████████████████████████| 47/47 [01:35<00:00,  2.03s/it]\n",
      "100%|███████████████████████████████████████████| 20/20 [00:37<00:00,  1.89s/it]\n"
     ]
    },
    {
     "name": "stdout",
     "output_type": "stream",
     "text": [
      "Train loss: 0.0445, Val loss: 0.044, Fb score: 1.000, C Kappa: 1.000, Bal Acc: 1.000\n",
      "Epoch: 39/100\n"
     ]
    },
    {
     "name": "stderr",
     "output_type": "stream",
     "text": [
      "100%|███████████████████████████████████████████| 47/47 [01:35<00:00,  2.04s/it]\n",
      "100%|███████████████████████████████████████████| 20/20 [00:37<00:00,  1.87s/it]\n"
     ]
    },
    {
     "name": "stdout",
     "output_type": "stream",
     "text": [
      "Train loss: 0.0424, Val loss: 0.042, Fb score: 1.000, C Kappa: 1.000, Bal Acc: 1.000\n",
      "Epoch: 40/100\n"
     ]
    },
    {
     "name": "stderr",
     "output_type": "stream",
     "text": [
      "100%|███████████████████████████████████████████| 47/47 [01:35<00:00,  2.03s/it]\n",
      "100%|███████████████████████████████████████████| 20/20 [00:35<00:00,  1.76s/it]\n"
     ]
    },
    {
     "name": "stdout",
     "output_type": "stream",
     "text": [
      "Train loss: 0.0406, Val loss: 0.040, Fb score: 1.000, C Kappa: 1.000, Bal Acc: 1.000\n",
      "Epoch: 41/100\n"
     ]
    },
    {
     "name": "stderr",
     "output_type": "stream",
     "text": [
      "100%|███████████████████████████████████████████| 47/47 [01:32<00:00,  1.98s/it]\n",
      "100%|███████████████████████████████████████████| 20/20 [00:36<00:00,  1.83s/it]\n"
     ]
    },
    {
     "name": "stdout",
     "output_type": "stream",
     "text": [
      "Train loss: 0.0389, Val loss: 0.038, Fb score: 1.000, C Kappa: 1.000, Bal Acc: 1.000\n",
      "Epoch: 42/100\n"
     ]
    },
    {
     "name": "stderr",
     "output_type": "stream",
     "text": [
      "100%|███████████████████████████████████████████| 47/47 [01:36<00:00,  2.05s/it]\n",
      "100%|███████████████████████████████████████████| 20/20 [00:36<00:00,  1.84s/it]\n"
     ]
    },
    {
     "name": "stdout",
     "output_type": "stream",
     "text": [
      "Train loss: 0.0373, Val loss: 0.037, Fb score: 1.000, C Kappa: 1.000, Bal Acc: 1.000\n",
      "Epoch: 43/100\n"
     ]
    },
    {
     "name": "stderr",
     "output_type": "stream",
     "text": [
      "100%|███████████████████████████████████████████| 47/47 [01:34<00:00,  2.01s/it]\n",
      "100%|███████████████████████████████████████████| 20/20 [00:33<00:00,  1.70s/it]\n"
     ]
    },
    {
     "name": "stdout",
     "output_type": "stream",
     "text": [
      "Train loss: 0.0358, Val loss: 0.036, Fb score: 1.000, C Kappa: 1.000, Bal Acc: 1.000\n",
      "Epoch: 44/100\n"
     ]
    },
    {
     "name": "stderr",
     "output_type": "stream",
     "text": [
      "100%|███████████████████████████████████████████| 47/47 [01:34<00:00,  2.02s/it]\n",
      "100%|███████████████████████████████████████████| 20/20 [00:37<00:00,  1.86s/it]\n"
     ]
    },
    {
     "name": "stdout",
     "output_type": "stream",
     "text": [
      "Train loss: 0.0345, Val loss: 0.034, Fb score: 1.000, C Kappa: 1.000, Bal Acc: 1.000\n",
      "Epoch: 45/100\n"
     ]
    },
    {
     "name": "stderr",
     "output_type": "stream",
     "text": [
      "100%|███████████████████████████████████████████| 47/47 [01:33<00:00,  1.98s/it]\n",
      "100%|███████████████████████████████████████████| 20/20 [00:37<00:00,  1.88s/it]\n"
     ]
    },
    {
     "name": "stdout",
     "output_type": "stream",
     "text": [
      "Train loss: 0.0332, Val loss: 0.033, Fb score: 1.000, C Kappa: 1.000, Bal Acc: 1.000\n",
      "Epoch: 46/100\n"
     ]
    },
    {
     "name": "stderr",
     "output_type": "stream",
     "text": [
      "100%|███████████████████████████████████████████| 47/47 [01:34<00:00,  2.02s/it]\n",
      "100%|███████████████████████████████████████████| 20/20 [00:37<00:00,  1.87s/it]\n"
     ]
    },
    {
     "name": "stdout",
     "output_type": "stream",
     "text": [
      "Train loss: 0.0320, Val loss: 0.032, Fb score: 1.000, C Kappa: 1.000, Bal Acc: 1.000\n",
      "Epoch: 47/100\n"
     ]
    },
    {
     "name": "stderr",
     "output_type": "stream",
     "text": [
      "100%|███████████████████████████████████████████| 47/47 [01:33<00:00,  1.98s/it]\n",
      "100%|███████████████████████████████████████████| 20/20 [00:37<00:00,  1.85s/it]\n"
     ]
    },
    {
     "name": "stdout",
     "output_type": "stream",
     "text": [
      "Train loss: 0.0309, Val loss: 0.031, Fb score: 1.000, C Kappa: 1.000, Bal Acc: 1.000\n",
      "Epoch: 48/100\n"
     ]
    },
    {
     "name": "stderr",
     "output_type": "stream",
     "text": [
      "100%|███████████████████████████████████████████| 47/47 [01:33<00:00,  1.99s/it]\n",
      "100%|███████████████████████████████████████████| 20/20 [00:35<00:00,  1.77s/it]\n"
     ]
    },
    {
     "name": "stdout",
     "output_type": "stream",
     "text": [
      "Train loss: 0.0298, Val loss: 0.029, Fb score: 1.000, C Kappa: 1.000, Bal Acc: 1.000\n",
      "Epoch: 49/100\n"
     ]
    },
    {
     "name": "stderr",
     "output_type": "stream",
     "text": [
      "100%|███████████████████████████████████████████| 47/47 [01:34<00:00,  2.01s/it]\n",
      "100%|███████████████████████████████████████████| 20/20 [00:37<00:00,  1.87s/it]\n"
     ]
    },
    {
     "name": "stdout",
     "output_type": "stream",
     "text": [
      "Train loss: 0.0288, Val loss: 0.029, Fb score: 1.000, C Kappa: 1.000, Bal Acc: 1.000\n",
      "Epoch: 50/100\n"
     ]
    },
    {
     "name": "stderr",
     "output_type": "stream",
     "text": [
      "100%|███████████████████████████████████████████| 47/47 [01:33<00:00,  1.99s/it]\n",
      "100%|███████████████████████████████████████████| 20/20 [00:37<00:00,  1.88s/it]\n"
     ]
    },
    {
     "name": "stdout",
     "output_type": "stream",
     "text": [
      "Train loss: 0.0279, Val loss: 0.027, Fb score: 1.000, C Kappa: 1.000, Bal Acc: 1.000\n",
      "Epoch: 51/100\n"
     ]
    },
    {
     "name": "stderr",
     "output_type": "stream",
     "text": [
      "100%|███████████████████████████████████████████| 47/47 [01:35<00:00,  2.03s/it]\n",
      "100%|███████████████████████████████████████████| 20/20 [00:38<00:00,  1.90s/it]\n"
     ]
    },
    {
     "name": "stdout",
     "output_type": "stream",
     "text": [
      "Train loss: 0.0270, Val loss: 0.027, Fb score: 1.000, C Kappa: 1.000, Bal Acc: 1.000\n",
      "Epoch: 52/100\n"
     ]
    },
    {
     "name": "stderr",
     "output_type": "stream",
     "text": [
      "100%|███████████████████████████████████████████| 47/47 [01:34<00:00,  2.01s/it]\n",
      "100%|███████████████████████████████████████████| 20/20 [00:37<00:00,  1.85s/it]\n"
     ]
    },
    {
     "name": "stdout",
     "output_type": "stream",
     "text": [
      "Train loss: 0.0261, Val loss: 0.026, Fb score: 1.000, C Kappa: 1.000, Bal Acc: 1.000\n",
      "Epoch: 53/100\n"
     ]
    },
    {
     "name": "stderr",
     "output_type": "stream",
     "text": [
      "100%|███████████████████████████████████████████| 47/47 [01:33<00:00,  1.99s/it]\n",
      "100%|███████████████████████████████████████████| 20/20 [00:37<00:00,  1.86s/it]\n"
     ]
    },
    {
     "name": "stdout",
     "output_type": "stream",
     "text": [
      "Train loss: 0.0254, Val loss: 0.025, Fb score: 1.000, C Kappa: 1.000, Bal Acc: 1.000\n",
      "Epoch: 54/100\n"
     ]
    },
    {
     "name": "stderr",
     "output_type": "stream",
     "text": [
      "100%|███████████████████████████████████████████| 47/47 [01:34<00:00,  2.01s/it]\n",
      "100%|███████████████████████████████████████████| 20/20 [00:38<00:00,  1.90s/it]\n"
     ]
    },
    {
     "name": "stdout",
     "output_type": "stream",
     "text": [
      "Train loss: 0.0246, Val loss: 0.024, Fb score: 1.000, C Kappa: 1.000, Bal Acc: 1.000\n",
      "Epoch: 55/100\n"
     ]
    },
    {
     "name": "stderr",
     "output_type": "stream",
     "text": [
      "100%|███████████████████████████████████████████| 47/47 [01:33<00:00,  1.98s/it]\n",
      "100%|███████████████████████████████████████████| 20/20 [00:34<00:00,  1.73s/it]\n"
     ]
    },
    {
     "name": "stdout",
     "output_type": "stream",
     "text": [
      "Train loss: 0.0239, Val loss: 0.023, Fb score: 1.000, C Kappa: 1.000, Bal Acc: 1.000\n",
      "Epoch: 56/100\n"
     ]
    },
    {
     "name": "stderr",
     "output_type": "stream",
     "text": [
      "100%|███████████████████████████████████████████| 47/47 [01:33<00:00,  1.98s/it]\n",
      "100%|███████████████████████████████████████████| 20/20 [00:34<00:00,  1.73s/it]\n"
     ]
    },
    {
     "name": "stdout",
     "output_type": "stream",
     "text": [
      "Train loss: 0.0232, Val loss: 0.023, Fb score: 1.000, C Kappa: 1.000, Bal Acc: 1.000\n",
      "Epoch: 57/100\n"
     ]
    },
    {
     "name": "stderr",
     "output_type": "stream",
     "text": [
      "100%|███████████████████████████████████████████| 47/47 [01:34<00:00,  2.02s/it]\n",
      "100%|███████████████████████████████████████████| 20/20 [00:33<00:00,  1.69s/it]\n"
     ]
    },
    {
     "name": "stdout",
     "output_type": "stream",
     "text": [
      "Train loss: 0.0226, Val loss: 0.022, Fb score: 1.000, C Kappa: 1.000, Bal Acc: 1.000\n",
      "Epoch: 58/100\n"
     ]
    },
    {
     "name": "stderr",
     "output_type": "stream",
     "text": [
      "100%|███████████████████████████████████████████| 47/47 [01:34<00:00,  2.01s/it]\n",
      "100%|███████████████████████████████████████████| 20/20 [00:37<00:00,  1.86s/it]\n"
     ]
    },
    {
     "name": "stdout",
     "output_type": "stream",
     "text": [
      "Train loss: 0.0219, Val loss: 0.022, Fb score: 1.000, C Kappa: 1.000, Bal Acc: 1.000\n",
      "Epoch: 59/100\n"
     ]
    },
    {
     "name": "stderr",
     "output_type": "stream",
     "text": [
      "100%|███████████████████████████████████████████| 47/47 [01:33<00:00,  1.99s/it]\n",
      "100%|███████████████████████████████████████████| 20/20 [00:36<00:00,  1.83s/it]\n"
     ]
    },
    {
     "name": "stdout",
     "output_type": "stream",
     "text": [
      "Train loss: 0.0213, Val loss: 0.021, Fb score: 1.000, C Kappa: 1.000, Bal Acc: 1.000\n",
      "Epoch: 60/100\n"
     ]
    },
    {
     "name": "stderr",
     "output_type": "stream",
     "text": [
      "100%|███████████████████████████████████████████| 47/47 [01:34<00:00,  2.00s/it]\n",
      "100%|███████████████████████████████████████████| 20/20 [00:35<00:00,  1.75s/it]\n"
     ]
    },
    {
     "name": "stdout",
     "output_type": "stream",
     "text": [
      "Train loss: 0.0208, Val loss: 0.020, Fb score: 1.000, C Kappa: 1.000, Bal Acc: 1.000\n",
      "Epoch: 61/100\n"
     ]
    },
    {
     "name": "stderr",
     "output_type": "stream",
     "text": [
      "100%|███████████████████████████████████████████| 47/47 [01:33<00:00,  1.99s/it]\n",
      "100%|███████████████████████████████████████████| 20/20 [00:37<00:00,  1.87s/it]\n"
     ]
    },
    {
     "name": "stdout",
     "output_type": "stream",
     "text": [
      "Train loss: 0.0202, Val loss: 0.020, Fb score: 1.000, C Kappa: 1.000, Bal Acc: 1.000\n",
      "Epoch: 62/100\n"
     ]
    },
    {
     "name": "stderr",
     "output_type": "stream",
     "text": [
      "100%|███████████████████████████████████████████| 47/47 [01:33<00:00,  1.99s/it]\n",
      "100%|███████████████████████████████████████████| 20/20 [00:37<00:00,  1.86s/it]\n"
     ]
    },
    {
     "name": "stdout",
     "output_type": "stream",
     "text": [
      "Train loss: 0.0197, Val loss: 0.019, Fb score: 1.000, C Kappa: 1.000, Bal Acc: 1.000\n",
      "Epoch: 63/100\n"
     ]
    },
    {
     "name": "stderr",
     "output_type": "stream",
     "text": [
      "100%|███████████████████████████████████████████| 47/47 [01:36<00:00,  2.05s/it]\n",
      "100%|███████████████████████████████████████████| 20/20 [00:35<00:00,  1.78s/it]\n"
     ]
    },
    {
     "name": "stdout",
     "output_type": "stream",
     "text": [
      "Train loss: 0.0192, Val loss: 0.019, Fb score: 1.000, C Kappa: 1.000, Bal Acc: 1.000\n",
      "Epoch: 64/100\n"
     ]
    },
    {
     "name": "stderr",
     "output_type": "stream",
     "text": [
      "100%|███████████████████████████████████████████| 47/47 [01:35<00:00,  2.03s/it]\n",
      "100%|███████████████████████████████████████████| 20/20 [00:36<00:00,  1.85s/it]\n"
     ]
    },
    {
     "name": "stdout",
     "output_type": "stream",
     "text": [
      "Train loss: 0.0187, Val loss: 0.018, Fb score: 1.000, C Kappa: 1.000, Bal Acc: 1.000\n",
      "Epoch: 65/100\n"
     ]
    },
    {
     "name": "stderr",
     "output_type": "stream",
     "text": [
      "100%|███████████████████████████████████████████| 47/47 [01:34<00:00,  2.02s/it]\n",
      "100%|███████████████████████████████████████████| 20/20 [00:37<00:00,  1.89s/it]\n"
     ]
    },
    {
     "name": "stdout",
     "output_type": "stream",
     "text": [
      "Train loss: 0.0182, Val loss: 0.018, Fb score: 1.000, C Kappa: 1.000, Bal Acc: 1.000\n",
      "Epoch: 66/100\n"
     ]
    },
    {
     "name": "stderr",
     "output_type": "stream",
     "text": [
      "100%|███████████████████████████████████████████| 47/47 [01:35<00:00,  2.04s/it]\n",
      "100%|███████████████████████████████████████████| 20/20 [00:37<00:00,  1.87s/it]\n"
     ]
    },
    {
     "name": "stdout",
     "output_type": "stream",
     "text": [
      "Train loss: 0.0177, Val loss: 0.017, Fb score: 1.000, C Kappa: 1.000, Bal Acc: 1.000\n",
      "Epoch: 67/100\n"
     ]
    },
    {
     "name": "stderr",
     "output_type": "stream",
     "text": [
      "100%|███████████████████████████████████████████| 47/47 [01:33<00:00,  1.99s/it]\n",
      "100%|███████████████████████████████████████████| 20/20 [00:38<00:00,  1.95s/it]\n"
     ]
    },
    {
     "name": "stdout",
     "output_type": "stream",
     "text": [
      "Train loss: 0.0173, Val loss: 0.017, Fb score: 1.000, C Kappa: 1.000, Bal Acc: 1.000\n",
      "Epoch: 68/100\n"
     ]
    },
    {
     "name": "stderr",
     "output_type": "stream",
     "text": [
      "100%|███████████████████████████████████████████| 47/47 [01:35<00:00,  2.03s/it]\n",
      "100%|███████████████████████████████████████████| 20/20 [00:33<00:00,  1.68s/it]\n"
     ]
    },
    {
     "name": "stdout",
     "output_type": "stream",
     "text": [
      "Train loss: 0.0169, Val loss: 0.017, Fb score: 1.000, C Kappa: 1.000, Bal Acc: 1.000\n",
      "Epoch: 69/100\n"
     ]
    },
    {
     "name": "stderr",
     "output_type": "stream",
     "text": [
      "100%|███████████████████████████████████████████| 47/47 [01:32<00:00,  1.97s/it]\n",
      "100%|███████████████████████████████████████████| 20/20 [00:35<00:00,  1.77s/it]\n"
     ]
    },
    {
     "name": "stdout",
     "output_type": "stream",
     "text": [
      "Train loss: 0.0164, Val loss: 0.016, Fb score: 1.000, C Kappa: 1.000, Bal Acc: 1.000\n",
      "Epoch: 70/100\n"
     ]
    },
    {
     "name": "stderr",
     "output_type": "stream",
     "text": [
      "100%|███████████████████████████████████████████| 47/47 [01:33<00:00,  1.99s/it]\n",
      "100%|███████████████████████████████████████████| 20/20 [00:34<00:00,  1.74s/it]\n"
     ]
    },
    {
     "name": "stdout",
     "output_type": "stream",
     "text": [
      "Train loss: 0.0160, Val loss: 0.016, Fb score: 1.000, C Kappa: 1.000, Bal Acc: 1.000\n",
      "Epoch: 71/100\n"
     ]
    },
    {
     "name": "stderr",
     "output_type": "stream",
     "text": [
      "100%|███████████████████████████████████████████| 47/47 [01:33<00:00,  1.98s/it]\n",
      "100%|███████████████████████████████████████████| 20/20 [00:37<00:00,  1.88s/it]\n"
     ]
    },
    {
     "name": "stdout",
     "output_type": "stream",
     "text": [
      "Train loss: 0.0157, Val loss: 0.016, Fb score: 1.000, C Kappa: 1.000, Bal Acc: 1.000\n",
      "Epoch: 72/100\n"
     ]
    },
    {
     "name": "stderr",
     "output_type": "stream",
     "text": [
      "100%|███████████████████████████████████████████| 47/47 [01:31<00:00,  1.96s/it]\n",
      "100%|███████████████████████████████████████████| 20/20 [00:37<00:00,  1.88s/it]\n"
     ]
    },
    {
     "name": "stdout",
     "output_type": "stream",
     "text": [
      "Train loss: 0.0153, Val loss: 0.015, Fb score: 1.000, C Kappa: 1.000, Bal Acc: 1.000\n",
      "Epoch: 73/100\n"
     ]
    },
    {
     "name": "stderr",
     "output_type": "stream",
     "text": [
      "100%|███████████████████████████████████████████| 47/47 [01:36<00:00,  2.05s/it]\n",
      "100%|███████████████████████████████████████████| 20/20 [00:37<00:00,  1.86s/it]\n"
     ]
    },
    {
     "name": "stdout",
     "output_type": "stream",
     "text": [
      "Train loss: 0.0149, Val loss: 0.015, Fb score: 1.000, C Kappa: 1.000, Bal Acc: 1.000\n",
      "Epoch: 74/100\n"
     ]
    },
    {
     "name": "stderr",
     "output_type": "stream",
     "text": [
      "100%|███████████████████████████████████████████| 47/47 [01:35<00:00,  2.04s/it]\n",
      "100%|███████████████████████████████████████████| 20/20 [00:36<00:00,  1.83s/it]\n"
     ]
    },
    {
     "name": "stdout",
     "output_type": "stream",
     "text": [
      "Train loss: 0.0146, Val loss: 0.014, Fb score: 1.000, C Kappa: 1.000, Bal Acc: 1.000\n",
      "Epoch: 75/100\n"
     ]
    },
    {
     "name": "stderr",
     "output_type": "stream",
     "text": [
      "100%|███████████████████████████████████████████| 47/47 [01:33<00:00,  1.99s/it]\n",
      "100%|███████████████████████████████████████████| 20/20 [00:37<00:00,  1.89s/it]\n"
     ]
    },
    {
     "name": "stdout",
     "output_type": "stream",
     "text": [
      "Train loss: 0.0143, Val loss: 0.014, Fb score: 1.000, C Kappa: 1.000, Bal Acc: 1.000\n",
      "Epoch: 76/100\n"
     ]
    },
    {
     "name": "stderr",
     "output_type": "stream",
     "text": [
      "100%|███████████████████████████████████████████| 47/47 [01:34<00:00,  2.01s/it]\n",
      "100%|███████████████████████████████████████████| 20/20 [00:36<00:00,  1.84s/it]\n"
     ]
    },
    {
     "name": "stdout",
     "output_type": "stream",
     "text": [
      "Train loss: 0.0139, Val loss: 0.014, Fb score: 1.000, C Kappa: 1.000, Bal Acc: 1.000\n",
      "Epoch: 77/100\n"
     ]
    },
    {
     "name": "stderr",
     "output_type": "stream",
     "text": [
      "100%|███████████████████████████████████████████| 47/47 [01:32<00:00,  1.97s/it]\n",
      "100%|███████████████████████████████████████████| 20/20 [00:38<00:00,  1.91s/it]\n"
     ]
    },
    {
     "name": "stdout",
     "output_type": "stream",
     "text": [
      "Train loss: 0.0136, Val loss: 0.014, Fb score: 1.000, C Kappa: 1.000, Bal Acc: 1.000\n",
      "Epoch: 78/100\n"
     ]
    },
    {
     "name": "stderr",
     "output_type": "stream",
     "text": [
      "100%|███████████████████████████████████████████| 47/47 [01:34<00:00,  2.00s/it]\n",
      "100%|███████████████████████████████████████████| 20/20 [00:37<00:00,  1.90s/it]\n"
     ]
    },
    {
     "name": "stdout",
     "output_type": "stream",
     "text": [
      "Train loss: 0.0133, Val loss: 0.013, Fb score: 1.000, C Kappa: 1.000, Bal Acc: 1.000\n",
      "Epoch: 79/100\n"
     ]
    },
    {
     "name": "stderr",
     "output_type": "stream",
     "text": [
      "100%|███████████████████████████████████████████| 47/47 [01:32<00:00,  1.97s/it]\n",
      "100%|███████████████████████████████████████████| 20/20 [00:38<00:00,  1.91s/it]\n"
     ]
    },
    {
     "name": "stdout",
     "output_type": "stream",
     "text": [
      "Train loss: 0.0130, Val loss: 0.013, Fb score: 1.000, C Kappa: 1.000, Bal Acc: 1.000\n",
      "Epoch: 80/100\n"
     ]
    },
    {
     "name": "stderr",
     "output_type": "stream",
     "text": [
      "100%|███████████████████████████████████████████| 47/47 [01:35<00:00,  2.03s/it]\n",
      "100%|███████████████████████████████████████████| 20/20 [00:37<00:00,  1.90s/it]\n"
     ]
    },
    {
     "name": "stdout",
     "output_type": "stream",
     "text": [
      "Train loss: 0.0127, Val loss: 0.013, Fb score: 1.000, C Kappa: 1.000, Bal Acc: 1.000\n",
      "Epoch: 81/100\n"
     ]
    },
    {
     "name": "stderr",
     "output_type": "stream",
     "text": [
      "100%|███████████████████████████████████████████| 47/47 [01:34<00:00,  2.01s/it]\n",
      "100%|███████████████████████████████████████████| 20/20 [00:37<00:00,  1.86s/it]\n"
     ]
    },
    {
     "name": "stdout",
     "output_type": "stream",
     "text": [
      "Train loss: 0.0124, Val loss: 0.012, Fb score: 1.000, C Kappa: 1.000, Bal Acc: 1.000\n",
      "Epoch: 82/100\n"
     ]
    },
    {
     "name": "stderr",
     "output_type": "stream",
     "text": [
      "100%|███████████████████████████████████████████| 47/47 [01:33<00:00,  1.99s/it]\n",
      "100%|███████████████████████████████████████████| 20/20 [00:35<00:00,  1.80s/it]\n"
     ]
    },
    {
     "name": "stdout",
     "output_type": "stream",
     "text": [
      "Train loss: 0.0122, Val loss: 0.012, Fb score: 1.000, C Kappa: 1.000, Bal Acc: 1.000\n",
      "Epoch: 83/100\n"
     ]
    },
    {
     "name": "stderr",
     "output_type": "stream",
     "text": [
      "100%|███████████████████████████████████████████| 47/47 [01:33<00:00,  2.00s/it]\n",
      "100%|███████████████████████████████████████████| 20/20 [00:35<00:00,  1.76s/it]\n"
     ]
    },
    {
     "name": "stdout",
     "output_type": "stream",
     "text": [
      "Train loss: 0.0119, Val loss: 0.012, Fb score: 1.000, C Kappa: 1.000, Bal Acc: 1.000\n",
      "Epoch: 84/100\n"
     ]
    },
    {
     "name": "stderr",
     "output_type": "stream",
     "text": [
      "100%|███████████████████████████████████████████| 47/47 [01:34<00:00,  2.01s/it]\n",
      "100%|███████████████████████████████████████████| 20/20 [00:39<00:00,  1.99s/it]\n"
     ]
    },
    {
     "name": "stdout",
     "output_type": "stream",
     "text": [
      "Train loss: 0.0117, Val loss: 0.012, Fb score: 1.000, C Kappa: 1.000, Bal Acc: 1.000\n",
      "Epoch: 85/100\n"
     ]
    },
    {
     "name": "stderr",
     "output_type": "stream",
     "text": [
      "100%|███████████████████████████████████████████| 47/47 [01:34<00:00,  2.00s/it]\n",
      "100%|███████████████████████████████████████████| 20/20 [00:38<00:00,  1.91s/it]\n"
     ]
    },
    {
     "name": "stdout",
     "output_type": "stream",
     "text": [
      "Train loss: 0.0114, Val loss: 0.011, Fb score: 1.000, C Kappa: 1.000, Bal Acc: 1.000\n",
      "Epoch: 86/100\n"
     ]
    },
    {
     "name": "stderr",
     "output_type": "stream",
     "text": [
      "100%|███████████████████████████████████████████| 47/47 [01:34<00:00,  2.02s/it]\n",
      "100%|███████████████████████████████████████████| 20/20 [00:38<00:00,  1.94s/it]\n"
     ]
    },
    {
     "name": "stdout",
     "output_type": "stream",
     "text": [
      "Train loss: 0.0112, Val loss: 0.011, Fb score: 1.000, C Kappa: 1.000, Bal Acc: 1.000\n",
      "Epoch: 87/100\n"
     ]
    },
    {
     "name": "stderr",
     "output_type": "stream",
     "text": [
      "100%|███████████████████████████████████████████| 47/47 [01:33<00:00,  2.00s/it]\n",
      "100%|███████████████████████████████████████████| 20/20 [00:37<00:00,  1.88s/it]\n"
     ]
    },
    {
     "name": "stdout",
     "output_type": "stream",
     "text": [
      "Train loss: 0.0109, Val loss: 0.011, Fb score: 1.000, C Kappa: 1.000, Bal Acc: 1.000\n",
      "Epoch: 88/100\n"
     ]
    },
    {
     "name": "stderr",
     "output_type": "stream",
     "text": [
      "100%|███████████████████████████████████████████| 47/47 [01:32<00:00,  1.97s/it]\n",
      "100%|███████████████████████████████████████████| 20/20 [00:38<00:00,  1.92s/it]\n"
     ]
    },
    {
     "name": "stdout",
     "output_type": "stream",
     "text": [
      "Train loss: 0.0107, Val loss: 0.011, Fb score: 1.000, C Kappa: 1.000, Bal Acc: 1.000\n",
      "Epoch: 89/100\n"
     ]
    },
    {
     "name": "stderr",
     "output_type": "stream",
     "text": [
      "100%|███████████████████████████████████████████| 47/47 [01:35<00:00,  2.03s/it]\n",
      "100%|███████████████████████████████████████████| 20/20 [00:37<00:00,  1.86s/it]\n"
     ]
    },
    {
     "name": "stdout",
     "output_type": "stream",
     "text": [
      "Train loss: 0.0104, Val loss: 0.010, Fb score: 1.000, C Kappa: 1.000, Bal Acc: 1.000\n",
      "Epoch: 90/100\n"
     ]
    },
    {
     "name": "stderr",
     "output_type": "stream",
     "text": [
      "100%|███████████████████████████████████████████| 47/47 [01:34<00:00,  2.01s/it]\n",
      "100%|███████████████████████████████████████████| 20/20 [00:37<00:00,  1.89s/it]\n"
     ]
    },
    {
     "name": "stdout",
     "output_type": "stream",
     "text": [
      "Train loss: 0.0102, Val loss: 0.010, Fb score: 1.000, C Kappa: 1.000, Bal Acc: 1.000\n",
      "Epoch: 91/100\n"
     ]
    },
    {
     "name": "stderr",
     "output_type": "stream",
     "text": [
      "100%|███████████████████████████████████████████| 47/47 [01:33<00:00,  1.99s/it]\n",
      "100%|███████████████████████████████████████████| 20/20 [00:37<00:00,  1.88s/it]\n"
     ]
    },
    {
     "name": "stdout",
     "output_type": "stream",
     "text": [
      "Train loss: 0.0100, Val loss: 0.010, Fb score: 1.000, C Kappa: 1.000, Bal Acc: 1.000\n",
      "Epoch: 92/100\n"
     ]
    },
    {
     "name": "stderr",
     "output_type": "stream",
     "text": [
      "100%|███████████████████████████████████████████| 47/47 [01:34<00:00,  2.01s/it]\n",
      "100%|███████████████████████████████████████████| 20/20 [00:38<00:00,  1.91s/it]\n"
     ]
    },
    {
     "name": "stdout",
     "output_type": "stream",
     "text": [
      "Train loss: 0.0098, Val loss: 0.010, Fb score: 1.000, C Kappa: 1.000, Bal Acc: 1.000\n",
      "Epoch: 93/100\n"
     ]
    },
    {
     "name": "stderr",
     "output_type": "stream",
     "text": [
      "100%|███████████████████████████████████████████| 47/47 [01:34<00:00,  2.01s/it]\n",
      "100%|███████████████████████████████████████████| 20/20 [00:38<00:00,  1.91s/it]\n"
     ]
    },
    {
     "name": "stdout",
     "output_type": "stream",
     "text": [
      "Train loss: 0.0096, Val loss: 0.010, Fb score: 1.000, C Kappa: 1.000, Bal Acc: 1.000\n",
      "Epoch: 94/100\n"
     ]
    },
    {
     "name": "stderr",
     "output_type": "stream",
     "text": [
      "100%|███████████████████████████████████████████| 47/47 [01:34<00:00,  2.01s/it]\n",
      "100%|███████████████████████████████████████████| 20/20 [00:38<00:00,  1.90s/it]\n"
     ]
    },
    {
     "name": "stdout",
     "output_type": "stream",
     "text": [
      "Train loss: 0.0094, Val loss: 0.009, Fb score: 1.000, C Kappa: 1.000, Bal Acc: 1.000\n",
      "Epoch: 95/100\n"
     ]
    },
    {
     "name": "stderr",
     "output_type": "stream",
     "text": [
      "100%|███████████████████████████████████████████| 47/47 [01:33<00:00,  1.99s/it]\n",
      "100%|███████████████████████████████████████████| 20/20 [00:39<00:00,  1.98s/it]\n"
     ]
    },
    {
     "name": "stdout",
     "output_type": "stream",
     "text": [
      "Train loss: 0.0092, Val loss: 0.009, Fb score: 1.000, C Kappa: 1.000, Bal Acc: 1.000\n",
      "Epoch: 96/100\n"
     ]
    },
    {
     "name": "stderr",
     "output_type": "stream",
     "text": [
      "100%|███████████████████████████████████████████| 47/47 [01:34<00:00,  2.01s/it]\n",
      "100%|███████████████████████████████████████████| 20/20 [00:37<00:00,  1.88s/it]\n"
     ]
    },
    {
     "name": "stdout",
     "output_type": "stream",
     "text": [
      "Train loss: 0.0090, Val loss: 0.009, Fb score: 1.000, C Kappa: 1.000, Bal Acc: 1.000\n",
      "Epoch: 97/100\n"
     ]
    },
    {
     "name": "stderr",
     "output_type": "stream",
     "text": [
      "100%|███████████████████████████████████████████| 47/47 [01:35<00:00,  2.03s/it]\n",
      "100%|███████████████████████████████████████████| 20/20 [00:35<00:00,  1.77s/it]\n"
     ]
    },
    {
     "name": "stdout",
     "output_type": "stream",
     "text": [
      "Train loss: 0.0088, Val loss: 0.009, Fb score: 1.000, C Kappa: 1.000, Bal Acc: 1.000\n",
      "Epoch: 98/100\n"
     ]
    },
    {
     "name": "stderr",
     "output_type": "stream",
     "text": [
      "100%|███████████████████████████████████████████| 47/47 [01:35<00:00,  2.02s/it]\n",
      "100%|███████████████████████████████████████████| 20/20 [00:35<00:00,  1.77s/it]\n"
     ]
    },
    {
     "name": "stdout",
     "output_type": "stream",
     "text": [
      "Train loss: 0.0086, Val loss: 0.009, Fb score: 1.000, C Kappa: 1.000, Bal Acc: 1.000\n",
      "Epoch: 99/100\n"
     ]
    },
    {
     "name": "stderr",
     "output_type": "stream",
     "text": [
      "100%|███████████████████████████████████████████| 47/47 [01:34<00:00,  2.00s/it]\n",
      "100%|███████████████████████████████████████████| 20/20 [00:35<00:00,  1.76s/it]\n"
     ]
    },
    {
     "name": "stdout",
     "output_type": "stream",
     "text": [
      "Train loss: 0.0085, Val loss: 0.008, Fb score: 1.000, C Kappa: 1.000, Bal Acc: 1.000\n",
      "Epoch: 100/100\n"
     ]
    },
    {
     "name": "stderr",
     "output_type": "stream",
     "text": [
      "100%|███████████████████████████████████████████| 47/47 [01:32<00:00,  1.98s/it]\n",
      "100%|███████████████████████████████████████████| 20/20 [00:34<00:00,  1.74s/it]\n"
     ]
    },
    {
     "name": "stdout",
     "output_type": "stream",
     "text": [
      "Train loss: 0.0083, Val loss: 0.008, Fb score: 1.000, C Kappa: 1.000, Bal Acc: 1.000\n"
     ]
    }
   ],
   "source": [
    "model_rd.fit(train_dataloader, val_dataloader, epochs=100)"
   ]
  },
  {
   "cell_type": "code",
   "execution_count": 20,
   "id": "c28aa952-5b50-4efb-a81b-306118e5abe0",
   "metadata": {},
   "outputs": [],
   "source": [
    "#model.eval() lembrar de usar isso antes de fazer a inferência, logo após carregar os pesos\n",
    "#https://pytorch.org/tutorials/beginner/basics/saveloadrun_tutorial.html#save-and-load-the-model"
   ]
  },
  {
   "cell_type": "code",
   "execution_count": null,
   "id": "239fd6e2-c6e9-4017-8cee-e8d88577cb93",
   "metadata": {},
   "outputs": [],
   "source": []
  }
 ],
 "metadata": {
  "kernelspec": {
   "display_name": "Python 3 (ipykernel)",
   "language": "python",
   "name": "python3"
  },
  "language_info": {
   "codemirror_mode": {
    "name": "ipython",
    "version": 3
   },
   "file_extension": ".py",
   "mimetype": "text/x-python",
   "name": "python",
   "nbconvert_exporter": "python",
   "pygments_lexer": "ipython3",
   "version": "3.9.13"
  }
 },
 "nbformat": 4,
 "nbformat_minor": 5
}
